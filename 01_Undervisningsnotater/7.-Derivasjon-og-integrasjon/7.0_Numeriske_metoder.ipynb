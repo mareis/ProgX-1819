{
 "cells": [
  {
   "cell_type": "markdown",
   "metadata": {},
   "source": [
    "# 7.0 Numeriske metoder\n",
    "\n",
    "Introduksjon\n",
    "\n",
    "Numeriske metoder er en samlebetegnelse for metoder som finner tilnærmede løsninger til matematiske problemer. Hovedområdene vi skal gå inn på er derivasjon, integrasjon og likningsløsing (inkludert differensiallikninger). Dette er metoder hvor idéen er enkel (f.eks. arealet under en graf) men de analytiske metodene kan være vanskelige (substitusjon, delbrøksoppspalting osv.).\n",
    "\n",
    "Enkle idéer kan ofte oversettes til enkle algoritmer. Kombinert med regnekraften i moderne datamaskiner kan disse brukes til å finne tilnærmede svar på problemet, ofte med så stor nøyaktighet som vi selv ønsker. Numerisk matematikk er fagfeltet som omhandler utviklingen og karakteriseringen av slike algoritmer. Eksempelvis er det viktig å vite om visse krav må oppfylles for at en algoritme skal fungere, eller hvor raskt den konvergerer.\n",
    "\n",
    "Siden algoritmene er ukompliserte og krever få forkunnskaper, håper vi at en utledning fra grunnprinnsipper kan føre til bedre dybdelæring av de matematiske konseptene. Slik kommer man også vekk fra «black box»-verktøy som NLøs i GeoGebra.\n",
    "\n",
    "De numeriske metodene har også fordelen av å være mer generelle. En algoritme for numerisk integrasjon bryr seg ikke om hva slags funksjon som skal integreres så lenge vi kan regne ut funksjonsverdier, i motsetning til de analytiske teknikkene. Følgelig kan de numeriske teknikkene også anvendes på vanskeligere, gjerne mer virkelighetsnære, problemer, f.eks. bevegelseslikninger med luftmotstand."
   ]
  },
  {
   "cell_type": "code",
   "execution_count": null,
   "metadata": {},
   "outputs": [],
   "source": []
  }
 ],
 "metadata": {
  "kernelspec": {
   "display_name": "Python 3",
   "language": "python",
   "name": "python3"
  },
  "language_info": {
   "codemirror_mode": {
    "name": "ipython",
    "version": 3
   },
   "file_extension": ".py",
   "mimetype": "text/x-python",
   "name": "python",
   "nbconvert_exporter": "python",
   "pygments_lexer": "ipython3",
   "version": "3.7.2"
  }
 },
 "nbformat": 4,
 "nbformat_minor": 2
}
