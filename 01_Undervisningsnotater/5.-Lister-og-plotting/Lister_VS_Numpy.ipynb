{
  "metadata": {
    "kernelspec": {
      "name": "python36",
      "display_name": "Python 3.6",
      "language": "python"
    },
    "language_info": {
      "mimetype": "text/x-python",
      "nbconvert_exporter": "python",
      "name": "python",
      "pygments_lexer": "ipython3",
      "version": "3.6.6",
      "file_extension": ".py",
      "codemirror_mode": {
        "version": 3,
        "name": "ipython"
      }
    }
  },
  "nbformat_minor": 2,
  "nbformat": 4,
  "cells": [
    {
      "cell_type": "markdown",
      "source": "# Lister vs Numpay-array",
      "metadata": {}
    },
    {
      "cell_type": "code",
      "source": "import numpy as np",
      "metadata": {},
      "execution_count": 1,
      "outputs": []
    },
    {
      "cell_type": "code",
      "source": "liste = [x**2 for x in range(10**7)]",
      "metadata": {},
      "execution_count": 19,
      "outputs": []
    },
    {
      "cell_type": "code",
      "source": "array = np.arange(10**7)\narray = array**2",
      "metadata": {},
      "execution_count": 31,
      "outputs": []
    },
    {
      "cell_type": "markdown",
      "source": "Enkelte ting er mye raskere med numpy",
      "metadata": {}
    },
    {
      "cell_type": "code",
      "source": "%%time\nfor i in range(len(liste)):\n    liste[i] = np.sqrt(liste[i])",
      "metadata": {},
      "execution_count": 36,
      "outputs": [
        {
          "name": "stdout",
          "output_type": "stream",
          "text": "CPU times: user 14.9 s, sys: 78.2 ms, total: 15 s\nWall time: 15.1 s\n"
        }
      ]
    },
    {
      "cell_type": "code",
      "source": "%%time\narray = np.sqrt(array)",
      "metadata": {},
      "execution_count": 33,
      "outputs": [
        {
          "name": "stdout",
          "output_type": "stream",
          "text": "CPU times: user 43.4 ms, sys: 9.32 ms, total: 52.7 ms\nWall time: 52.2 ms\n"
        }
      ]
    },
    {
      "cell_type": "code",
      "source": "",
      "metadata": {},
      "execution_count": null,
      "outputs": []
    }
  ]
}