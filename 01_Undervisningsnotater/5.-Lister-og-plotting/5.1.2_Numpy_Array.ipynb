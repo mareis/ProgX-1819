{
  "metadata": {
    "kernelspec": {
      "name": "python36",
      "display_name": "Python 3.6",
      "language": "python"
    },
    "language_info": {
      "mimetype": "text/x-python",
      "nbconvert_exporter": "python",
      "name": "python",
      "pygments_lexer": "ipython3",
      "version": "3.6.6",
      "file_extension": ".py",
      "codemirror_mode": {
        "version": 3,
        "name": "ipython"
      }
    },
    "toc-autonumbering": false,
    "toc-showmarkdowntxt": true
  },
  "nbformat_minor": 2,
  "nbformat": 4,
  "cells": [
    {
      "cell_type": "markdown",
      "source": "# Numpy Array\n<a href='https://docs.scipy.org/doc/numpy/user/quickstart.html'>Dokumentasjon</a>\n\nEt endimensjonal Numpay-Array har mange av de samme egenskapene som en vektor.  ",
      "metadata": {
        "toc-hr-collapsed": false
      }
    },
    {
      "cell_type": "markdown",
      "source": "### Importere biblioteket\n----\n\nDet finnes mange måter å importere bibliotek på i Python, men detter den den mest ryddige.\n\nVi har her satt np som alias til numpy",
      "metadata": {}
    },
    {
      "cell_type": "code",
      "source": "import numpy as np",
      "metadata": {},
      "execution_count": 4,
      "outputs": []
    },
    {
      "cell_type": "markdown",
      "source": "### Opprette Array\n----",
      "metadata": {
        "toc-hr-collapsed": true
      }
    },
    {
      "cell_type": "markdown",
      "source": "#### - Manuelt\n---",
      "metadata": {}
    },
    {
      "cell_type": "code",
      "source": "a = np.array([1,2,6,9,29])\nprint(a)",
      "metadata": {},
      "execution_count": 5,
      "outputs": [
        {
          "name": "stdout",
          "output_type": "stream",
          "text": "[ 1  2  6  9 29]\n"
        }
      ]
    },
    {
      "cell_type": "code",
      "source": "a.dtype",
      "metadata": {},
      "execution_count": 6,
      "outputs": [
        {
          "execution_count": 6,
          "output_type": "execute_result",
          "data": {
            "text/plain": "dtype('int64')"
          },
          "metadata": {}
        }
      ]
    },
    {
      "cell_type": "markdown",
      "source": "#### - np.zeros\n___\nfyller en array med 0-ere",
      "metadata": {}
    },
    {
      "cell_type": "code",
      "source": "z = np.zeros(10)\nprint(z)",
      "metadata": {},
      "execution_count": 7,
      "outputs": [
        {
          "name": "stdout",
          "output_type": "stream",
          "text": "[0. 0. 0. 0. 0. 0. 0. 0. 0. 0.]\n"
        }
      ]
    },
    {
      "cell_type": "markdown",
      "source": "#### - np.ones\n___\n\nfyller en array med 1-ere",
      "metadata": {
        "toc-hr-collapsed": false
      }
    },
    {
      "cell_type": "code",
      "source": "o = np.ones(10)\nprint(o)",
      "metadata": {},
      "execution_count": 8,
      "outputs": [
        {
          "name": "stdout",
          "output_type": "stream",
          "text": "[1. 1. 1. 1. 1. 1. 1. 1. 1. 1.]\n"
        }
      ]
    },
    {
      "cell_type": "code",
      "source": "print(np.ones(10)*np.pi)",
      "metadata": {},
      "execution_count": 9,
      "outputs": [
        {
          "name": "stdout",
          "output_type": "stream",
          "text": "[3.14159265 3.14159265 3.14159265 3.14159265 3.14159265 3.14159265\n 3.14159265 3.14159265 3.14159265 3.14159265]\n"
        }
      ]
    },
    {
      "cell_type": "markdown",
      "source": "#### - np.arange\n___\n\nnp.arange(fra, til, intervall)",
      "metadata": {}
    },
    {
      "cell_type": "code",
      "source": "x1 = np.arange(0,10,2)\nprint(x1)",
      "metadata": {},
      "execution_count": 10,
      "outputs": [
        {
          "name": "stdout",
          "output_type": "stream",
          "text": "[0 2 4 6 8]\n"
        }
      ]
    },
    {
      "cell_type": "markdown",
      "source": "**Slik gjorde vi det med lister**",
      "metadata": {}
    },
    {
      "cell_type": "code",
      "source": "[x for x in range(0,10,2)]",
      "metadata": {},
      "execution_count": 11,
      "outputs": [
        {
          "execution_count": 11,
          "output_type": "execute_result",
          "data": {
            "text/plain": "[0, 2, 4, 6, 8]"
          },
          "metadata": {}
        }
      ]
    },
    {
      "cell_type": "markdown",
      "source": "#### - np.linspace\n___\nnp.arange(fra, til og med, antall elementer)",
      "metadata": {}
    },
    {
      "cell_type": "code",
      "source": "x2 = np.linspace(0,8,5)\nprint(x2)",
      "metadata": {},
      "execution_count": 12,
      "outputs": [
        {
          "name": "stdout",
          "output_type": "stream",
          "text": "[0. 2. 4. 6. 8.]\n"
        }
      ]
    },
    {
      "cell_type": "markdown",
      "source": "#### Operasjoner\n---",
      "metadata": {
        "toc-hr-collapsed": false
      }
    },
    {
      "cell_type": "code",
      "source": "a",
      "metadata": {},
      "execution_count": 13,
      "outputs": [
        {
          "execution_count": 13,
          "output_type": "execute_result",
          "data": {
            "text/plain": "array([ 1,  2,  6,  9, 29])"
          },
          "metadata": {}
        }
      ]
    },
    {
      "cell_type": "code",
      "source": "b = np.sqrt(a)\nb",
      "metadata": {},
      "execution_count": 14,
      "outputs": [
        {
          "execution_count": 14,
          "output_type": "execute_result",
          "data": {
            "text/plain": "array([1.        , 1.41421356, 2.44948974, 3.        , 5.38516481])"
          },
          "metadata": {}
        }
      ]
    },
    {
      "cell_type": "markdown",
      "source": "**$+$ $-$ $\\cdot$ $/$**",
      "metadata": {
        "toc-hr-collapsed": false
      }
    },
    {
      "cell_type": "code",
      "source": "print(a + b)",
      "metadata": {},
      "execution_count": 15,
      "outputs": [
        {
          "name": "stdout",
          "output_type": "stream",
          "text": "[ 2.          3.41421356  8.44948974 12.         34.38516481]\n"
        }
      ]
    },
    {
      "cell_type": "code",
      "source": "print(a - b)",
      "metadata": {},
      "execution_count": 16,
      "outputs": [
        {
          "name": "stdout",
          "output_type": "stream",
          "text": "[ 0.          0.58578644  3.55051026  6.         23.61483519]\n"
        }
      ]
    },
    {
      "cell_type": "code",
      "source": "print(a * b)",
      "metadata": {},
      "execution_count": 17,
      "outputs": [
        {
          "name": "stdout",
          "output_type": "stream",
          "text": "[  1.           2.82842712  14.69693846  27.         156.16977941]\n"
        }
      ]
    },
    {
      "cell_type": "code",
      "source": "print(a/b)",
      "metadata": {},
      "execution_count": 18,
      "outputs": [
        {
          "name": "stdout",
          "output_type": "stream",
          "text": "[1.         1.41421356 2.44948974 3.         5.38516481]\n"
        }
      ]
    },
    {
      "cell_type": "markdown",
      "source": "**Prikkprodukt**",
      "metadata": {}
    },
    {
      "cell_type": "code",
      "source": "a.dot(b)",
      "metadata": {},
      "execution_count": 20,
      "outputs": [
        {
          "execution_count": 20,
          "output_type": "execute_result",
          "data": {
            "text/plain": "201.69514498834585"
          },
          "metadata": {}
        }
      ]
    },
    {
      "cell_type": "code",
      "source": "a@b",
      "metadata": {},
      "execution_count": 21,
      "outputs": [
        {
          "execution_count": 21,
          "output_type": "execute_result",
          "data": {
            "text/plain": "201.69514498834585"
          },
          "metadata": {}
        }
      ]
    },
    {
      "cell_type": "markdown",
      "source": "### Skrive ut\n___",
      "metadata": {}
    },
    {
      "cell_type": "code",
      "source": "print(a)",
      "metadata": {},
      "execution_count": 22,
      "outputs": [
        {
          "name": "stdout",
          "output_type": "stream",
          "text": "[ 1  2  6  9 29]\n"
        }
      ]
    },
    {
      "cell_type": "code",
      "source": "print(b)",
      "metadata": {},
      "execution_count": 26,
      "outputs": [
        {
          "name": "stdout",
          "output_type": "stream",
          "text": "[1.         1.41421356 2.44948974 3.         5.38516481]\n"
        }
      ]
    },
    {
      "cell_type": "code",
      "source": "for e in b:\n    print(f'{e:.2f}')",
      "metadata": {},
      "execution_count": 24,
      "outputs": [
        {
          "name": "stdout",
          "output_type": "stream",
          "text": "1.00\n1.41\n2.45\n3.00\n5.39\n"
        }
      ]
    },
    {
      "cell_type": "markdown",
      "source": "### Funksjoner\n___",
      "metadata": {
        "toc-hr-collapsed": true
      }
    },
    {
      "cell_type": "code",
      "source": "def f(x):\n    return x**2",
      "metadata": {},
      "execution_count": 75,
      "outputs": []
    },
    {
      "cell_type": "code",
      "source": "x = np.array([1,2,6,9,29])\ny = f(x)",
      "metadata": {},
      "execution_count": 76,
      "outputs": []
    },
    {
      "cell_type": "code",
      "source": "print(y)",
      "metadata": {},
      "execution_count": 77,
      "outputs": [
        {
          "name": "stdout",
          "output_type": "stream",
          "text": "[  1   4  36  81 841]\n"
        }
      ]
    }
  ]
}