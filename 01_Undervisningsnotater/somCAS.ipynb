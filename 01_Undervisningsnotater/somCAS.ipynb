{
 "cells": [
  {
   "cell_type": "code",
   "execution_count": 1,
   "metadata": {},
   "outputs": [],
   "source": [
    "import numpy as np\n",
    "from sympy import *\n",
    "init_printing()"
   ]
  },
  {
   "cell_type": "code",
   "execution_count": 83,
   "metadata": {},
   "outputs": [],
   "source": [
    "x = symbols('x')\n",
    "b = symbols('b')\n",
    "pi = symbols('pi')"
   ]
  },
  {
   "cell_type": "code",
   "execution_count": 84,
   "metadata": {},
   "outputs": [
    {
     "data": {
      "image/png": "[encoded data removed]",
      "text/latex": [
       "$$\\int_{0}^{b} \\sin{\\left (\\pi x \\right )}\\, dx$$"
      ],
      "text/plain": [
       "b            \n",
       "⌠            \n",
       "⎮ sin(π⋅x) dx\n",
       "⌡            \n",
       "0            "
      ]
     },
     "execution_count": 84,
     "metadata": {},
     "output_type": "execute_result"
    }
   ],
   "source": [
    "I_1 = Integral(sin(pi * x), (x, 0, b))\n",
    "I_1"
   ]
  },
  {
   "cell_type": "code",
   "execution_count": 87,
   "metadata": {},
   "outputs": [
    {
     "data": {
      "image/png": "[encoded data removed]",
      "text/latex": [
       "$$\\begin{cases} - \\frac{\\cos{\\left (b \\pi \\right )}}{\\pi} + \\frac{1}{\\pi} & \\text{for}\\: \\pi > -\\infty \\wedge \\pi < \\infty \\wedge \\pi \\neq 0 \\\\0 & \\text{otherwise} \\end{cases}$$"
      ],
      "text/plain": [
       "⎧  cos(b⋅π)   1                            \n",
       "⎪- ──────── + ─  for π > -∞ ∧ π < ∞ ∧ π ≠ 0\n",
       "⎨     π       π                            \n",
       "⎪                                          \n",
       "⎩      0                 otherwise         "
      ]
     },
     "execution_count": 87,
     "metadata": {},
     "output_type": "execute_result"
    }
   ],
   "source": [
    "I_1.doit()"
   ]
  },
  {
   "cell_type": "code",
   "execution_count": 88,
   "metadata": {},
   "outputs": [
    {
     "data": {
      "image/png": "[encoded data removed]",
      "text/latex": [
       "$$\\left\\{b \\mid b \\in \\mathbb{R} \\wedge \\frac{\\left(e^{2 i b \\pi} - 2 e^{i b \\pi} + 1\\right) e^{- i b \\pi}}{2} = 0 \\right\\}$$"
      ],
      "text/plain": [
       "⎧            ⎛ 2⋅ⅈ⋅b⋅π      ⅈ⋅b⋅π    ⎞  -ⅈ⋅b⋅π    ⎫\n",
       "⎪            ⎝ℯ        - 2⋅ℯ      + 1⎠⋅ℯ          ⎪\n",
       "⎨b | b ∊ ℝ ∧ ───────────────────────────────── = 0⎬\n",
       "⎪                            2                    ⎪\n",
       "⎩                                                 ⎭"
      ]
     },
     "execution_count": 88,
     "metadata": {},
     "output_type": "execute_result"
    }
   ],
   "source": [
    "solveset(I_1.doit(), b, domain=S.Reals)"
   ]
  },
  {
   "cell_type": "code",
   "execution_count": 89,
   "metadata": {},
   "outputs": [],
   "source": [
    "x = symbols('x')\n",
    "a = symbols('a')\n",
    "b = symbols('b')"
   ]
  },
  {
   "cell_type": "code",
   "execution_count": 90,
   "metadata": {},
   "outputs": [
    {
     "data": {
      "image/png": "[encoded data removed]",
      "text/latex": [
       "$$- a b - x^{2} + x \\left(a + b\\right)$$"
      ],
      "text/plain": [
       "        2            \n",
       "-a⋅b - x  + x⋅(a + b)"
      ]
     },
     "execution_count": 90,
     "metadata": {},
     "output_type": "execute_result"
    }
   ],
   "source": [
    "f = -x**2+(a+b)*x-a*b\n",
    "f"
   ]
  },
  {
   "cell_type": "code",
   "execution_count": 91,
   "metadata": {},
   "outputs": [
    {
     "data": {
      "image/png": "[encoded data removed]",
      "text/latex": [
       "$$2 a b + 2 x^{2} - x \\left(2 a + 2 b\\right)$$"
      ],
      "text/plain": [
       "           2                \n",
       "2⋅a⋅b + 2⋅x  - x⋅(2⋅a + 2⋅b)"
      ]
     },
     "execution_count": 91,
     "metadata": {},
     "output_type": "execute_result"
    }
   ],
   "source": [
    "g = 2*x**2-2*(a+b)*x+2*a*b\n",
    "g"
   ]
  },
  {
   "cell_type": "code",
   "execution_count": 94,
   "metadata": {},
   "outputs": [
    {
     "data": {
      "image/png": "[encoded data removed]",
      "text/latex": [
       "$$- \\frac{a b \\left(- a + 2 x\\right) \\left(- b + 2 x\\right)}{4}$$"
      ],
      "text/plain": [
       "-a⋅b⋅(-a + 2⋅x)⋅(-b + 2⋅x) \n",
       "───────────────────────────\n",
       "             4             "
      ]
     },
     "execution_count": 94,
     "metadata": {},
     "output_type": "execute_result"
    }
   ],
   "source": [
    "A_1 = factor(Integral(f,a,b).doit())\n",
    "A_1"
   ]
  },
  {
   "cell_type": "code",
   "execution_count": 96,
   "metadata": {},
   "outputs": [
    {
     "data": {
      "image/png": "[encoded data removed]",
      "text/latex": [
       "$$\\frac{a b \\left(- a + 2 x\\right) \\left(- b + 2 x\\right)}{2}$$"
      ],
      "text/plain": [
       "a⋅b⋅(-a + 2⋅x)⋅(-b + 2⋅x)\n",
       "─────────────────────────\n",
       "            2            "
      ]
     },
     "execution_count": 96,
     "metadata": {},
     "output_type": "execute_result"
    }
   ],
   "source": [
    "A_2 = factor(Integral(g,a,b).doit())\n",
    "A_2"
   ]
  },
  {
   "cell_type": "code",
   "execution_count": 97,
   "metadata": {},
   "outputs": [
    {
     "data": {
      "image/png": "[encoded data removed]",
      "text/latex": [
       "$$- \\frac{3 a b \\left(- a + 2 x\\right) \\left(- b + 2 x\\right)}{4}$$"
      ],
      "text/plain": [
       "-3⋅a⋅b⋅(-a + 2⋅x)⋅(-b + 2⋅x) \n",
       "─────────────────────────────\n",
       "              4              "
      ]
     },
     "execution_count": 97,
     "metadata": {},
     "output_type": "execute_result"
    }
   ],
   "source": [
    "A_1 - A_2"
   ]
  },
  {
   "cell_type": "code",
   "execution_count": 98,
   "metadata": {},
   "outputs": [
    {
     "data": {
      "image/png": "[encoded data removed]",
      "text/latex": [
       "$$- \\frac{1}{2}$$"
      ],
      "text/plain": [
       "-1/2"
      ]
     },
     "execution_count": 98,
     "metadata": {},
     "output_type": "execute_result"
    }
   ],
   "source": [
    "A_1/A_2"
   ]
  },
  {
   "cell_type": "code",
   "execution_count": 102,
   "metadata": {},
   "outputs": [
    {
     "data": {
      "image/png": "[encoded data removed]",
      "text/latex": [
       "$$2 a$$"
      ],
      "text/plain": [
       "2⋅a"
      ]
     },
     "execution_count": 102,
     "metadata": {},
     "output_type": "execute_result"
    }
   ],
   "source": [
    "b = 2*a\n",
    "b"
   ]
  },
  {
   "cell_type": "code",
   "execution_count": 103,
   "metadata": {},
   "outputs": [],
   "source": [
    "f = -x**2+(a+b)*x-a*b\n",
    "g = 2*x**2-2*(a+b)*x+2*a*b"
   ]
  },
  {
   "cell_type": "code",
   "execution_count": 105,
   "metadata": {},
   "outputs": [
    {
     "data": {
      "image/png": "[encoded data removed]",
      "text/latex": [
       "$$\\frac{a^{3}}{2}$$"
      ],
      "text/plain": [
       " 3\n",
       "a \n",
       "──\n",
       "2 "
      ]
     },
     "execution_count": 105,
     "metadata": {},
     "output_type": "execute_result"
    }
   ],
   "source": [
    "I_2 = factor(Integral((f-g),(x,a,b)).doit())\n",
    "I_2"
   ]
  },
  {
   "cell_type": "code",
   "execution_count": 106,
   "metadata": {},
   "outputs": [
    {
     "data": {
      "image/png": "[encoded data removed]",
      "text/latex": [
       "$$\\left\\{\\sqrt[3]{20}\\right\\}$$"
      ],
      "text/plain": [
       "⎧3 ____⎫\n",
       "⎨╲╱ 20 ⎬\n",
       "⎩      ⎭"
      ]
     },
     "execution_count": 106,
     "metadata": {},
     "output_type": "execute_result"
    }
   ],
   "source": [
    "solveset(I_2 - 10, a, domain=S.Reals)"
   ]
  },
  {
   "cell_type": "code",
   "execution_count": null,
   "metadata": {},
   "outputs": [],
   "source": []
  }
 ],
 "metadata": {
  "kernelspec": {
   "display_name": "Python 3",
   "language": "python",
   "name": "python3"
  },
  "language_info": {
   "codemirror_mode": {
    "name": "ipython",
    "version": 3
   },
   "file_extension": ".py",
   "mimetype": "text/x-python",
   "name": "python",
   "nbconvert_exporter": "python",
   "pygments_lexer": "ipython3",
   "version": "3.7.2"
  }
 },
 "nbformat": 4,
 "nbformat_minor": 2
}
