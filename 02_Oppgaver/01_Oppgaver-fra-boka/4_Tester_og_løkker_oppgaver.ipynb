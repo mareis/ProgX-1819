{
  "metadata": {
    "kernelspec": {
      "name": "python36",
      "display_name": "Python 3.6",
      "language": "python"
    },
    "language_info": {
      "mimetype": "text/x-python",
      "nbconvert_exporter": "python",
      "name": "python",
      "pygments_lexer": "ipython3",
      "version": "3.6.6",
      "file_extension": ".py",
      "codemirror_mode": {
        "version": 3,
        "name": "ipython"
      }
    }
  },
  "nbformat_minor": 2,
  "nbformat": 4,
  "cells": [
    {
      "cell_type": "markdown",
      "source": "### Biblioteker til oppgavene\n\n<style>\n    img{\n        display: block;\n        margin-left: auto;\n        margin-right: auto;\n    }\n    img.flyt{\n        display: inline;\n        float: left\n    }\n    table {\n        width:100%;\n    }\n</style>",
      "metadata": {}
    },
    {
      "cell_type": "markdown",
      "source": "## 4.1.1 If-tester\n### Oppgave 4.1\nLag et program som spør brukeren om alderen til brukeren. Skriv ut en kommentar som avhenger av om alderen er under eller over 17. Utvid programmet til å skille mellom flere aldre.\n\n#### Løsning:",
      "metadata": {}
    },
    {
      "cell_type": "code",
      "source": "",
      "metadata": {},
      "execution_count": null,
      "outputs": []
    },
    {
      "cell_type": "markdown",
      "source": "### Oppgave 4.2\nLag et program som tar et tall som input. Programmet skal så vurdere og skrive ut om tallet er et positivt tall, negativt tall eller null.\n#### Løsning:",
      "metadata": {}
    },
    {
      "cell_type": "code",
      "source": "",
      "metadata": {},
      "execution_count": null,
      "outputs": []
    },
    {
      "cell_type": "markdown",
      "source": "### Oppgave 4.3\nLag et program som tar et tall som input. Programmet skal så vurdere og skrive ut om tallet er et heltall eller flyttall.\n#### Løsning:",
      "metadata": {}
    },
    {
      "cell_type": "code",
      "source": "",
      "metadata": {},
      "execution_count": null,
      "outputs": []
    },
    {
      "cell_type": "markdown",
      "source": "### Oppgave 4.4\nLag en funksjon som tar to argumenter som skal være tall. Funksjo- nen skal finne det minste tallet og skrive ut dette.\n#### Løsning:",
      "metadata": {}
    },
    {
      "cell_type": "code",
      "source": "",
      "metadata": {},
      "execution_count": null,
      "outputs": []
    },
    {
      "cell_type": "markdown",
      "source": "### Oppgave 4.5\nLag en funksjon som tar to argumenter som skal være tall. Funk- sjonen skal avgjøre om det første tallet er minst og skrive ut True dersom dette stemmer.\n#### Løsning:",
      "metadata": {}
    },
    {
      "cell_type": "code",
      "source": "",
      "metadata": {},
      "execution_count": null,
      "outputs": []
    },
    {
      "cell_type": "markdown",
      "source": "### Oppgave 4.6\nLag en funksjon som tar en poengsum som argument. Programmet skal finne ut hvilken karakter du får dersom maks poengsum er 60 poeng. Finn på karaktergrenser selv.\nUtvid programmet til å ta maks poengsum som et tilleggsargument. Programmet\nskal benytte prosenter av denne makssummen til å regne ut sluttkarakteren. Lag prosentgrensene selv.\nLag til slutt en funksjon som i tillegg tar alle poenggrensene som argumenter, enten som poeng eller prosenter av poengene.\n#### Løsning:",
      "metadata": {}
    },
    {
      "cell_type": "code",
      "source": "",
      "metadata": {},
      "execution_count": null,
      "outputs": []
    },
    {
      "cell_type": "markdown",
      "source": "### Oppgave 4.6 - Utvidet\n#### Løsning:",
      "metadata": {}
    },
    {
      "cell_type": "code",
      "source": "",
      "metadata": {},
      "execution_count": null,
      "outputs": []
    },
    {
      "cell_type": "markdown",
      "source": "### Oppgave 4.7\nLag et program som spør om brukeren har Windows-PC eller Mac. Lag et oppfølgingsspørsmål på hver av disse, der du gir to eller tre alternativer. Du kan for eksempel spørre om hvorfor brukeren har Windows-PC eller Mac. Skriv ut en passende kommentar til svaret.\n#### Løsning:",
      "metadata": {}
    },
    {
      "cell_type": "code",
      "source": "",
      "metadata": {},
      "execution_count": null,
      "outputs": []
    },
    {
      "cell_type": "markdown",
      "source": "### Oppgave 4.8\nGjør som i forrige oppgavene, men lag spørsmålene og alternativene helt selv. Prøv å få til tre nøstede if-setninger (if-setninger i if-setninger).\n#### Løsning:",
      "metadata": {}
    },
    {
      "cell_type": "code",
      "source": "",
      "metadata": {},
      "execution_count": null,
      "outputs": []
    },
    {
      "cell_type": "markdown",
      "source": "### Oppgave 4.9\nLag en kalkulator der brukeren kan taste inn to tall og velge regne- operasjon.\n#### Løsning:",
      "metadata": {}
    },
    {
      "cell_type": "code",
      "source": "",
      "metadata": {},
      "execution_count": null,
      "outputs": []
    },
    {
      "cell_type": "markdown",
      "source": "### Oppgave 4.10\nLag et lite eventyrspill der spilleren får ulike valg underveis, og historien formes av valgene spilleren tar. Det letteste er å lage en lineær historie, men du kan godt utfordre deg selv på å gjøre spillet ikke-lineært.\n#### Løsning:",
      "metadata": {}
    },
    {
      "cell_type": "code",
      "source": "",
      "metadata": {},
      "execution_count": null,
      "outputs": []
    },
    {
      "cell_type": "markdown",
      "source": "### Oppgave 4.12\n(Fysikk)\n\nLag et program der du kan taste inn bølgelengden til synlig lys i nm og få ut hvilken farge lyset har. Utvid eventuelt prorammet med andre deler av det elektromagnetiske spekteret.\n<img src='http://docplayer.me/docs-images/17/80591/images/47-0.jpg' width='500px'>\n#### Løsning:",
      "metadata": {}
    },
    {
      "cell_type": "code",
      "source": "",
      "metadata": {},
      "execution_count": null,
      "outputs": []
    },
    {
      "cell_type": "markdown",
      "source": "### Oppgave 4.13 \nLag et program som spør brukeren om han/hun vil konvertere fra tommer (inch) til cm, eller fra cm til tommer. Dersom brukeren skriver noe annet, skal en feilmelding skrives ut.\nProgrammet skal så be brukeren om å skrive inn den ønskede størrelsen (i tommer eller cm) og deretter utføre den ønskede konverteringa. Du kan bruke at 1 tommer = 2.54 cm.\n#### Løsning:",
      "metadata": {}
    },
    {
      "cell_type": "code",
      "source": "",
      "metadata": {},
      "execution_count": null,
      "outputs": []
    },
    {
      "cell_type": "markdown",
      "source": "### Oppgave 4.14\n(Matematikk R1)\n\nLag et program som regner ut funksjonen $g(x)=3x^4+5x^3+7x^2+x-3.0625$  for en verdi av x gitt av brukeren. Programmet skal skrive ut en melding om x − x-verdien fra brukeren er en faktor i g eller ikke.\n#### Løsning:",
      "metadata": {}
    },
    {
      "cell_type": "code",
      "source": "",
      "metadata": {},
      "execution_count": null,
      "outputs": []
    },
    {
      "cell_type": "markdown",
      "source": "### Oppgave 4.15\n(Biologi): Hardy-Weinbergs-likevekt\n\n<p> Vi skal se på en populasjon av mennesker og ser på et gen som finnes i to varianter: $a$ og $A$. Andelen av populasjonen som har variant a kan vi kalle for p og andelen av populasjonen som har variant $A$ kan vi kalle for $q$. Verdiene til $p$ og $q$ må være mellom $0$ og $1$. Siden alle i populasjonen vil ha enten $a$ eller $A$ (eller begge), må $p + q = 1$.</p>\n<img src='https://upload.wikimedia.org/wikipedia/commons/b/b2/Hardy-Weinberg.svg' width='500px'>\n<p>Populasjonen sies å være i Hardy-Weinberg-likevekt dersom verdiene til p og q ikke forandrer seg under forutsetningen at det foregår tilfeldig paring, ingen mutasjoner, ingen naturlig seleksjon og ingen evolusjon i populasjonen. Dersom populasjonen er i Hardy-Weinberg-likevekt kan en finne andelen til de tre mulige genotypene til menneskene i populasjonen:</p>\n<ul>\n    <li>$AA : p^2$</li>\n    <li>$Aa : 2pq$</li>\n    <li>$aa : q^2$</li>\n</ul>\n<p>Lag et program som ber brukeren om verdien til p og q. Programmet skal så teste om p + q = 1. Hvis summen er 1, skal programmet regne ut andelene til de tre mulige genotypene, og skrive dem ut. Hvis summen ikke er 1, skal programmet skrive en feilmelding.</p>\n\n#### Løsning:",
      "metadata": {}
    },
    {
      "cell_type": "code",
      "source": "",
      "metadata": {},
      "execution_count": null,
      "outputs": []
    },
    {
      "cell_type": "markdown",
      "source": "### Oppgave 4.16\n(Fysikk): Heisenbergs uskarphetsrelasjon\n \nHeisenbergs uskarphetsrelasjon forteller at det er ikke er mulig å ha en presis måling av en partikkels posisjon og bevegelsesmengde1samtidig. Det er altså en viss relasjon mellom hvor nøyaktig en måling kan være av posisjon og bevegelsesmengde. Matematisk kan en skrive dette som\n$$\\Delta x \\cdot \\Delta p \\geq \\frac{h}{2}$$\nder vi bruker at $h = 1.055 · 10−34$ J, og $∆x$ og $∆p$ er mål på hvor nøyaktig en måling av henholdsvis posisjon og bevegelsesmengde er. Skriv et program som ber brukeren\nom å skrive inn en verdi for ∆x og ∆p. Programmet skal så teste om Heisenbergs uskarphetsrelasjon vil holde for den gitte $∆x$ og $∆p$ og skrive ut en melding som forteller om relasjonen holder eller ikke. <b>Tips:</b> Et lite tall som f.eks $2.29 · 10^{−29}$ kan\nrepresenteres ved $2.29e-29$.\n#### Løsning:",
      "metadata": {}
    },
    {
      "cell_type": "code",
      "source": "",
      "metadata": {},
      "execution_count": null,
      "outputs": []
    },
    {
      "cell_type": "markdown",
      "source": "### Oppgave 4.17\nKari liker å sove lenge. Hun blir veldig fornøyd hvis hun får sove 10 timer og ikke kommer for seint til skolen. For at hun ikke skal komme for seint, må hun seinest stå opp klokka 06:00.\n\n#### a)\nFor at Kari skal sove til neste dag, må hun tidligst legge seg klokka 14:00. Lag  et program som ber brukeren om å skrive inn når Kari legger seg. Hun har litt OCD og legger seg kun ved hele timer, som er et heltall mellom 0 og 23. Programmet skal deretter teste om brukeren har gitt ei tid slik at Kari vil sove til neste dag. Hvis Kari ikke kommer til å sove til neste dag, skal programmet skrive en feilmelding.\n#### Løsning:\n\n",
      "metadata": {}
    },
    {
      "cell_type": "code",
      "source": "",
      "metadata": {},
      "execution_count": null,
      "outputs": []
    },
    {
      "cell_type": "markdown",
      "source": "#### b)\nUtvid programmet ditt fra a) slik at det også tester om Kari vil rekke skolen\nhvis hun sover 10 timer fra det angitte tidspunktet.\n#### Løsning:",
      "metadata": {}
    },
    {
      "cell_type": "code",
      "source": "",
      "metadata": {},
      "execution_count": null,
      "outputs": []
    },
    {
      "cell_type": "markdown",
      "source": "### Oppfave 2.18\nSkriv om kodesnuttene under slik det står beskrevet.\n\n#### 1. \nProgrammet skal ikke bruke and:",
      "metadata": {}
    },
    {
      "cell_type": "code",
      "source": "#Fra oppgaven\ntall = 15\nif 10 < tall and tall < 20:\n    tall = tall + 2\nelse:\n    tall = tall +1\nprint(tall)",
      "metadata": {},
      "execution_count": 1,
      "outputs": [
        {
          "name": "stdout",
          "output_type": "stream",
          "text": "17\n"
        }
      ]
    },
    {
      "cell_type": "code",
      "source": "#Løsning\n",
      "metadata": {},
      "execution_count": null,
      "outputs": []
    },
    {
      "cell_type": "markdown",
      "source": "#### 2.  \nPå hver linje der det utføres +,-, * eller /, skal variabelen ikke forekomme på høyre side av likhetstegnet.",
      "metadata": {}
    },
    {
      "cell_type": "code",
      "source": "#Fra oppgaven\na = 10\nprint(a)\na = a + 14\nprint(a)\na = a/3 -2*a\nprint(a)",
      "metadata": {},
      "execution_count": 2,
      "outputs": [
        {
          "name": "stdout",
          "output_type": "stream",
          "text": "10\n24\n-40.0\n"
        }
      ]
    },
    {
      "cell_type": "code",
      "source": "#Løsning\n",
      "metadata": {},
      "execution_count": 3,
      "outputs": []
    },
    {
      "cell_type": "markdown",
      "source": "#### 3.\nVariablene c (lysets hastighet), G (gravitasjonskonstanten) og Msol (solmassen i kg) skal skrives om til standardform:",
      "metadata": {}
    },
    {
      "cell_type": "code",
      "source": "#Fra oppgaven\nc = 299792458\nG = 0.0000000000667408\nMsol = 1988550000000000000000000000000\nprint(c, G, Msol)",
      "metadata": {},
      "execution_count": 4,
      "outputs": [
        {
          "name": "stdout",
          "output_type": "stream",
          "text": "299792458 6.67408e-11 1988550000000000000000000000000\n"
        }
      ]
    },
    {
      "cell_type": "code",
      "source": "#Løsning\n",
      "metadata": {},
      "execution_count": null,
      "outputs": []
    },
    {
      "cell_type": "markdown",
      "source": "### Oppgave 4.19\nI denne oppgava skal du få prøve deg på å lage ei digital klokke som beregner hva klokka er etter ei gitt tid.\n#### a)\nSkriv et program som tar inn et klokkeslett fra brukeren på formen tt:mm der tt står for time (en verdi mellom 0 og 23) og mm står for minutt (en verdi mellom 0 og 59). Dette kan lettest gjøres ved at programmet spør om en verdi for tt, og så om mm. Programmet skal så sjekke om tt er en verdi mellom 0 og 23 og om mm er en verdi mellom 0 og 59. Hvis ikke, skal det skrive ut en feilmelding.\n#### Løsning:",
      "metadata": {}
    },
    {
      "cell_type": "code",
      "source": "",
      "metadata": {},
      "execution_count": null,
      "outputs": []
    },
    {
      "cell_type": "markdown",
      "source": "#### b)\nUtvid programmetfra a)slik at dersom brukeren har gitt gyldig verdi for tt og mm, så ber den brukeren om å skrive inn hvor mange timer og minutter det har gått. Her skal det gå an å skrive inn hvilket som helst antall timer og minutter.\n\n#### Løsning:",
      "metadata": {}
    },
    {
      "cell_type": "code",
      "source": "",
      "metadata": {},
      "execution_count": null,
      "outputs": []
    },
    {
      "cell_type": "markdown",
      "source": "#### c)\nUtvid programmet ditt slik at den finner hvilket klokkeslett den digitale klokka vil være på etter det gitte antallet timer og minutter. Det nye klokkeslettet skal også være på formen tt:mm. Det er et par ting programmet må ta høyde for:\n-   Verdien til det nye tt må være mellom 0 og 23, og verdien til mm må være mellom 0 og 59. Her vil operatoren % være til veldig stor hjelp.\n-   Dersom det nye antallet av minutter er mindre enn det gamle antallet minutter, betyr det at antall timer må økes med 1. Et eksempel er klokke- slettet 10:10; hvis det har gått 51 minutter, vil det nye klokkeslettet bli\n11:01. Verdien for mm er nå 01, som er mindre enn 10.\n-   Dersom antall minutter er over 60, vil det tilsvare én time. Programmet ditt må kunne finne ut hvor mange timer som utgjør det gitte antallet\nminutter.\n\nProgrammet skal til slutt skrive ut det nye klokkeslettet.\n#### Løsning:\n",
      "metadata": {}
    },
    {
      "cell_type": "code",
      "source": "",
      "metadata": {},
      "execution_count": null,
      "outputs": []
    },
    {
      "cell_type": "markdown",
      "source": "## 4.1.2 While-løkker\n### Oppgave 4.20\nLag et motivasjonsprogram som skriver ut “Du er god!” et antall\nganger som er gitt av brukeren.\n#### Løsning:",
      "metadata": {}
    },
    {
      "cell_type": "code",
      "source": "",
      "metadata": {},
      "execution_count": null,
      "outputs": []
    },
    {
      "cell_type": "markdown",
      "source": "### Oppgave 4.21\nLag et program som skriver ut alle heltall fra og med 0 til og med 50. Bruk ei while-løkke.\n#### Løsning:",
      "metadata": {}
    },
    {
      "cell_type": "code",
      "source": "",
      "metadata": {},
      "execution_count": null,
      "outputs": []
    },
    {
      "cell_type": "markdown",
      "source": "### Oppgave 4.22\nLag et program som skriver ut annethvert heltall fra 100 til 200 (ikke til og med). Bruk ei while-løkke.\n#### Løsning:",
      "metadata": {}
    },
    {
      "cell_type": "code",
      "source": "",
      "metadata": {},
      "execution_count": null,
      "outputs": []
    },
    {
      "cell_type": "markdown",
      "source": "### Oppgave 4.23 \nLag et program som skriver ut en tabell med overskriftene “tall” og “rota av tallet”. Skriv ut tallene fra og med 0 til og med 100 med de respektive røttene i kolonnen til høyre. Du trenger ikke skillelinjer i tabellen, men prøv å få til et pent\nutskriftsformat.\n#### Vertikal løsning:",
      "metadata": {}
    },
    {
      "cell_type": "code",
      "source": "",
      "metadata": {},
      "execution_count": null,
      "outputs": []
    },
    {
      "cell_type": "markdown",
      "source": "#### Horisontal løsning",
      "metadata": {}
    },
    {
      "cell_type": "code",
      "source": "",
      "metadata": {},
      "execution_count": null,
      "outputs": []
    },
    {
      "cell_type": "markdown",
      "source": "### Oppgave 4.24\nLag et program som skriver ut en tabell med overskriftene “tall” og “kvadratet av tallet”. Skriv ut annethvert tall fra og med 150 til (men ikke med) 200\nmed kvadratet i kolonnen til høyre.\n#### Løsning:\n",
      "metadata": {}
    },
    {
      "cell_type": "code",
      "source": "",
      "metadata": {},
      "execution_count": null,
      "outputs": []
    },
    {
      "cell_type": "markdown",
      "source": "### Oppgave 4.25\nLag en tabell som skriver ut antall grader fra og med 0 til og med 180, med 10 grader mellom hver verdi. I den andre kolonnen skal det være sinusverdien av vinkelen. Husk at standard vinkelmål i Python er radianer, så du må korrigere for dette under utregninga. Bruk tre gjeldende siffer.\n#### Løsning:",
      "metadata": {}
    },
    {
      "cell_type": "code",
      "source": "",
      "metadata": {},
      "execution_count": null,
      "outputs": []
    },
    {
      "cell_type": "markdown",
      "source": "### Oppgave 4.26\nLag et program som regner ut summen av de 100 første naturlige tallene.\n\nEt naturlig tall er i matematikken enten et positivt heltall (1, 2, 3,...) eller ikkenegativt heltall (0, 1, 2,...).\n\nDen første definisjonen brukes oftest i tallteorien og skrives: $\\mathbb{N}_0=\\{0, 1, 2, 3, ...\\}$\n\nDen siste brukes innenfor predikatlogikk, mengdelære og datateknologi og skrives: $\\mathbb{N}_1=\\{1, 2, 3, ...\\}$\n\n#### Løsning:",
      "metadata": {}
    },
    {
      "cell_type": "code",
      "source": "",
      "metadata": {},
      "execution_count": null,
      "outputs": []
    },
    {
      "cell_type": "markdown",
      "source": "### Oppgave 4.27\nLag et program som regner ut denne summen:\n$$\\sum_{n=0}^{50} \\frac{1}{2^n} $$\n#### Løsning:",
      "metadata": {}
    },
    {
      "cell_type": "code",
      "source": "",
      "metadata": {},
      "execution_count": null,
      "outputs": []
    },
    {
      "cell_type": "markdown",
      "source": "### Oppgave 4.28\nLag et program som regner ut denne summen:\n$$\\sum_{n=2}^{16} ((n^2+1)+n) $$\n#### Løsning:",
      "metadata": {}
    },
    {
      "cell_type": "code",
      "source": "",
      "metadata": {},
      "execution_count": null,
      "outputs": []
    },
    {
      "cell_type": "markdown",
      "source": "### Oppgave 4.29\nLag et program som regner ut hvor lang tid det tar før du har en\nviss sum i banken, regna ut fra en startinvestering og ei rente.\n#### Løsning:",
      "metadata": {}
    },
    {
      "cell_type": "code",
      "source": "",
      "metadata": {},
      "execution_count": null,
      "outputs": []
    },
    {
      "cell_type": "markdown",
      "source": "### Oppgave 4.30\nLag et program der brukeren skal logge seg inn med brukernavn og passord. Gi først brukeren uendelig mange sjanser til å skrive inn riktig brukernavn og passord. Når dette programmet virker, utvid programmet til å gi brukeren kun tre sjanser på å skrive inn riktig kombinasjon.\n#### Løsning:",
      "metadata": {}
    },
    {
      "cell_type": "code",
      "source": "",
      "metadata": {},
      "execution_count": null,
      "outputs": []
    },
    {
      "cell_type": "markdown",
      "source": "### Oppgave 4.31\n\n(utfordring)\n\nSkriv et program som tar inn et heltall fra brukeren. Programmet skal så sjekke om heltallet inneholder sifferet 7 og skrive ut resultatet.\n\n<b>Tips:</b> Her kan det være nyttig å bruke heltallsdivisjon // for å bevege seg gjen- nom tallets tierplass, hundreplass osv. Det vil også være nyttig å vite tallets største tierpotens, som kan finnes ved floor(log10(tall )). Funksjonen floor runder av et tall til nærmeste heltall som er mindre eller lik tallet selv.\n#### Løsning:\n",
      "metadata": {}
    },
    {
      "cell_type": "code",
      "source": "",
      "metadata": {},
      "execution_count": null,
      "outputs": []
    },
    {
      "cell_type": "markdown",
      "source": "#### Løsning med traversering av streng:",
      "metadata": {}
    },
    {
      "cell_type": "code",
      "source": "",
      "metadata": {},
      "execution_count": null,
      "outputs": []
    },
    {
      "cell_type": "markdown",
      "source": "## 4.1.3 For-løkker\n### Oppgave 4.32\nLøs et utvalg av oppgavene 4.18–4.27 med for-løkker istedenfor\nwhile-løkker.",
      "metadata": {}
    },
    {
      "cell_type": "code",
      "source": "",
      "metadata": {},
      "execution_count": null,
      "outputs": []
    },
    {
      "cell_type": "markdown",
      "source": "### Oppgave 4.33\nLag et program som skriver ut:\n1. Alle heltall fra og med 0 til og med 100.\n2. Alle heltall fra 50 til 75.\n3. Alle partall fra og med 0 til og med 100.\n4. Alle oddetall fra og med 0 til og med 100.\n5. (<b>Utfordring</b>) Alle primtall til og med 100 (hint: bruk heltallsdivisjon og/eller\nmodulus).\n\n#### Løsning:",
      "metadata": {}
    },
    {
      "cell_type": "code",
      "source": "",
      "metadata": {},
      "execution_count": null,
      "outputs": []
    },
    {
      "cell_type": "markdown",
      "source": "### Oppgave 4.34\nHensikten bak programmet under er at det skal skrive ut hvert 3. tall fra og med 5 til 20. Men dersom vi kjører programmet, skrives ingenting ut! Forklar hvorfor og rett på programmet slik at det skriver ut hvert 3. tall fra og med 5 til 20.",
      "metadata": {}
    },
    {
      "cell_type": "code",
      "source": "for tall in range(5,3,20):\n    print(tall)",
      "metadata": {},
      "execution_count": null,
      "outputs": []
    },
    {
      "cell_type": "markdown",
      "source": "#### Løsning:",
      "metadata": {}
    },
    {
      "cell_type": "code",
      "source": "",
      "metadata": {},
      "execution_count": null,
      "outputs": []
    },
    {
      "cell_type": "markdown",
      "source": "### Oppgave 4.35\nFibonnacifølgen er en kjent tallfølge med heltall der hvert tall etter\ndet første er summen av de to foregående. Følgen starter slik: \n\n1, 1, 2, 3, 5, 8, 13, 21, 34, 55, ...\n\nLag et program som finner tall nr. n i rekka.\n\n#### Løsning:",
      "metadata": {}
    },
    {
      "cell_type": "code",
      "source": "",
      "metadata": {},
      "execution_count": null,
      "outputs": []
    },
    {
      "cell_type": "markdown",
      "source": "### Oppgave 4.36\nLag et program som viser at summen av denne rekka er 4.5:\n\n$$3 + 1 +\\frac{1}{3} +\\frac{1}{9}+\\frac{1}{27}+...$$\n\n#### Løsning:",
      "metadata": {}
    },
    {
      "cell_type": "code",
      "source": "",
      "metadata": {},
      "execution_count": null,
      "outputs": []
    },
    {
      "cell_type": "markdown",
      "source": "### Oppgave 4.37\nKoden under regner ut:\n$$\\sum_{n=1}^m n = 1+2+\\cdot \\cdot \\cdot + m$$",
      "metadata": {}
    },
    {
      "cell_type": "code",
      "source": "",
      "metadata": {},
      "execution_count": null,
      "outputs": []
    },
    {
      "cell_type": "markdown",
      "source": "#### Løsning:",
      "metadata": {}
    },
    {
      "cell_type": "code",
      "source": "",
      "metadata": {},
      "execution_count": null,
      "outputs": []
    },
    {
      "cell_type": "markdown",
      "source": "### Oppgave 4.38\nI kombinatorikk er n-fakultet definert som produktet av alle heltall fra og med 1 til og med n. Dette kan vi skrive slik:\n$$n!=\\prod_{k=1}^n k$$\nLag en funksjon som regner ut fakultetet av et tall.\n#### Løsning:",
      "metadata": {}
    },
    {
      "cell_type": "code",
      "source": "",
      "metadata": {},
      "execution_count": null,
      "outputs": []
    },
    {
      "cell_type": "markdown",
      "source": "### Oppgave 4.39\nLag et program som skal fungere som et ekko. Programmet skal be brukeren om å “si noe” (det vil si gi input), for så skrive ut det samme brukeren har sagt. Ekkoet skal slutte å virke når brukeren sier “slutt”.\n#### Løsning:",
      "metadata": {}
    },
    {
      "cell_type": "code",
      "source": "",
      "metadata": {},
      "execution_count": null,
      "outputs": []
    },
    {
      "cell_type": "markdown",
      "source": "### Oppgave 4.40\nLag et program som finner alle tall som er delelig med 7, menikke med 5, mellom 2000 og 3200.\n#### Løsning:",
      "metadata": {}
    },
    {
      "cell_type": "code",
      "source": "",
      "metadata": {},
      "execution_count": null,
      "outputs": []
    },
    {
      "cell_type": "markdown",
      "source": "### Oppgave 4.41\n(Biologi)\n\nTøffeldyr formerer seg ukjønnet (deler seg i to) annenhver time dersom de befinner seg i en omgivelse med temperatur på $20°$C.\n\nSkriv et program som regner ut og skriver ut hvor mange tøffeldyr det vil være dersom vi begynner med 5 tøffeldyr som formerer seg ukjønnet i løpet av 24 timer. Du kan anta at ingen tøffeldyr dør. \n\n<img src='http://biyolojiterimleri.com/f/images/K%20harfi/Kirpikliler.jpg' width='100px'>\n\n#### Løsning:",
      "metadata": {}
    },
    {
      "cell_type": "code",
      "source": "",
      "metadata": {},
      "execution_count": null,
      "outputs": []
    },
    {
      "cell_type": "markdown",
      "source": "### Oppgave 4.42\nDersom en PC-modell koster $7500$kr i dag, vil den nødvendigvis ikke koste det samme om noen år. Hvor mye en vare, som i vårt tilfelle er en PC- modell, avtar i verdi, bestemmes av ei rente r. Verdien P til PC-en etter t år kan finnes ved å bruke formelen\n$$P=\\frac{7500}{(1+r)^t}$$\n\nSkriv et program som skriver ut, år for år, verdien til PC-en over en periode på $10$ år med ei rente på $4\\%$.",
      "metadata": {}
    },
    {
      "cell_type": "code",
      "source": "",
      "metadata": {},
      "execution_count": null,
      "outputs": []
    },
    {
      "cell_type": "markdown",
      "source": "### Oppgave 4.43\n\n(Fysikk): Bohrs atommodell \n\nBruk Bohrs atommodell for atomspektrene til hydrogen- atomet. Vi kan bruke formelen nedenfor for å regne ut frekvensen til et foton som emitteres når atomet deeksiterer fra skall n til m:\n\n$$f=\\frac{B}{h}\\cdot \\bigg( \\frac{1}{m^2}-\\frac{1}{n^2} \\bigg)$$\n\nLag et program som regner ut alle bølgelengdene til fotonene som emitteres når atomet deeksiterer fra et skall n til alle mulige energinivåer.\n\n<img class='flyt' src='http://ungenergi.no/wp-content/uploads/hydrogenatom.jpg' width='200px'>\n<img class='flyt' src='https://upload.wikimedia.org/wikipedia/commons/1/17/Bohr_atom_animation_2.gif' width='200px'>\n<img class='flyt' src='https://upload.wikimedia.org/wikipedia/commons/thumb/9/93/Bohr_atom_model.svg/620px-Bohr_atom_model.svg.png' width='200px'>\n\n\n#### Løsning:\nkommer",
      "metadata": {}
    },
    {
      "cell_type": "code",
      "source": "",
      "metadata": {},
      "execution_count": null,
      "outputs": []
    },
    {
      "cell_type": "markdown",
      "source": "### Oppgave 4.44\nOver tid vil den radioaktive strålingen i et radioaktivt stoff reduseres. Dette skjer fordi atomene i det radioaktive stoffet vil omdannes til andre grunnstoffer. Mengden $N(t)$ som gjenstår av det radioaktive stoffet etter ei tid t kan finnes ved:\n\n$$N(t)=N_0 e^{-at}$$\n\nder $N_0$ er hvor mye radioaktivt stoff vi starter med ved tida $t = 0$. Verdien til a\nforteller hvor raskt det radioaktive stoffet omdannes til andre grunnstoffer. Hvis vi\nkjenner halveringstida $T$ , vil $a=\\frac{ln(2)}{T}$\n\nPlutonium-239 har halveringstid på omtrent $T = 24 000$ år. Skriv et program som skriver ut hvor mye Plutonium-239 som gjenstår etter hvert $5000$. år over en periode på $50000$ år dersom $N_0 = 4$kg.\n\n#### Løsning:",
      "metadata": {}
    },
    {
      "cell_type": "code",
      "source": "",
      "metadata": {},
      "execution_count": null,
      "outputs": []
    },
    {
      "cell_type": "markdown",
      "source": "### Oppgave 4.45\nPer har $5000$kr på konto.For hvert år setter han inn $5\\%$ avbeløpet på kontoen sin.\n\n<b>a)</b> Skriv et program som finner ut hvor mye han vil ha på kontoen sin etter 20 år. Programmet skal skrive ut resultatet.\n\n#### Løsning:",
      "metadata": {}
    },
    {
      "cell_type": "code",
      "source": "",
      "metadata": {},
      "execution_count": null,
      "outputs": []
    },
    {
      "cell_type": "markdown",
      "source": "<b>b)</b> Nå viser det seg at for hvert 5. år tar Per penger ut av kontoen. Han tar ut 10 % av beløpet på kontoen etter å ha lagt inn 5 % av beløpet som allerede ligger på kontoen. Utvid programmet ditt fra deloppgave a) slik det tar med uttakene Per gjør.\n\n#### Løsning:",
      "metadata": {}
    },
    {
      "cell_type": "code",
      "source": "",
      "metadata": {},
      "execution_count": null,
      "outputs": []
    },
    {
      "cell_type": "markdown",
      "source": "### Oppgave 4.46\n(Biologi)\n\nRNA er en kopi av en del av en DNA-streng (et gen). I translasjonen av et protein overfører tRNA aminosyrer til ribosomene. Hvert tRNA- molekyl har et antikodon som skal passe til mRNA-ets kodon.\n\n<img width='100%' src='https://ndla.no/sites/default/files/images/proteinsyntesen.jpg?fag=7'>\n\n1. Lag et program der du kan skrive inn tre baser på DNA som oversettes til mRNA-tråden.\n2. Få programmet til å oversette kodonet til et antikodon.\n3. Legg inn alle aminosyrene i programmet, og la programmet finne ut hvilken\naminosyre du får.\n4. <b>NB: Omfattende!</b> Utvid programmet til å lese av lengre DNA-sekvenser.\n\n#### Løsning:",
      "metadata": {}
    },
    {
      "cell_type": "code",
      "source": "",
      "metadata": {},
      "execution_count": null,
      "outputs": []
    },
    {
      "cell_type": "markdown",
      "source": " <b>2.</b>  Få programmet til å oversette kodonet til et antikodon.\n #### Løsning:",
      "metadata": {}
    },
    {
      "cell_type": "code",
      "source": "",
      "metadata": {},
      "execution_count": null,
      "outputs": []
    },
    {
      "cell_type": "markdown",
      "source": "<b>3.</b> Legg inn alle aminosyrene i programmet, og la programmet finne ut hvilken aminosyre du får. \n#### Løsning:",
      "metadata": {}
    },
    {
      "cell_type": "code",
      "source": "",
      "metadata": {},
      "execution_count": null,
      "outputs": []
    },
    {
      "cell_type": "markdown",
      "source": "### Oppgave 4.47\nTaylorrekke\n\nI matematikken finnes det ulike måter å tilnærme en funksjon på. En metode som ofte brukes, kalles for rekkeutvikling (hvis du vil vite mer, kan du søke på Taylorrekke). Ved denne metoden uttrykkes funksjoner som en sum. Dersom en rekkeutvikler cosinus, vil en få at:\n\n$$cos(x)=1+\\sum_{n=1}^\\infty \\frac{(-1)^n}{(2n)!}x^{2n}$$\n\n<img src='https://upload.wikimedia.org/wikipedia/commons/5/51/Taylor_cos.gif'>\n\nSkriv et program som regner ut rekkeutviklingen til cosinus for en verdi av x der\n$x \\ne 0$. Datamaskinen kan ikke representere ∞, så du kan heller summere rekka opp til ei stor nok grense N. Kontroller resultatet ditt ved å regne ut $cos(x)$. Finn en verdi\nfor N som gir en god tilnærming til resultatet du fikk.\n\n#### Løsning:",
      "metadata": {}
    },
    {
      "cell_type": "code",
      "source": "",
      "metadata": {},
      "execution_count": null,
      "outputs": []
    },
    {
      "cell_type": "markdown",
      "source": "### Oppgave 4.48\n(Fysikk)\n\nPer har lagd en kulekanon og ønsker å prøve den ut. Kanonen er plassert 5 meter unna en vegg som har et hull. Hullet begynner 7.5 meter over bakken og slutter 8 meter over bakken. Per har regna seg fram til at når kula treffer veggen, vil kula være\n\n$$-\\frac{25}{2} \\cdot \\frac{g}{v^2\\cos^2\\theta}+5\\tan \\theta$$\n\nmeter over bakken. Kula skytes ut i en vinkel θ med en fart på v meter per sekund. Du kan bruke at g = 9.81m/s2. Per ønsker å treffe hullet, og derfor må han vite hvilken θ og v som må brukes.\n\n<b>a)</b> Per har bestemt seg for at kanonen skal skyte ut kulene med en vinkel $60°$. Lag et program som tar inn skytefarten v som input fra brukeren og regner ut hvor høyt på veggen ballen treffer (bruk likningen over). Programmet skal skrive ut om ballen treffer hullet eller ikke.\n\n#### Løsning:\nSiden det ikke er oppgitt en radius på kula så antar jeg at den er veldig nærme 0 :)",
      "metadata": {}
    },
    {
      "cell_type": "code",
      "source": "",
      "metadata": {},
      "execution_count": null,
      "outputs": []
    },
    {
      "cell_type": "markdown",
      "source": "<b>b)</b> Utvid programmet ditt fra a) slik at det tar inn skytevinkelenen i grader som input og finner ut om ballen vil treffe hullet eller ikke.\n\n#### Løsning",
      "metadata": {}
    },
    {
      "cell_type": "code",
      "source": "",
      "metadata": {},
      "execution_count": null,
      "outputs": []
    },
    {
      "cell_type": "markdown",
      "source": "### Oppgave 4.49\nI kapittel 2 fikk du se en framgangsmåte på hvordan man kan konvertere et tall fra titallsystemet til totallsystemet (side ??). I programmet under er mange av stegene i framgangsmåten beskrevet som en algoritme, men ikke slik at programmet kan kjøres.",
      "metadata": {}
    },
    {
      "cell_type": "code",
      "source": "def finn_stoerste_n(x):\n    n = 0\n    så lenge 2**n er mindre eller lik x\n        n økes med en\n    funksjon returner n-1\n    \ntall_ti = int(input(''))\n\nsett n slik at n er den største potensen slik at 2**n <= tall_ti\n\ntallet i starter på n, slutter på 0 og senkes ett steg om gangen:\n    hvis 2**i er mindre eller lik tall_ti:\n        tall_ti = differansen mellom gamle verdien av tall_ti og 2**i\n        print(1)\n    ellers:\n        print(0)",
      "metadata": {},
      "execution_count": null,
      "outputs": []
    },
    {
      "cell_type": "markdown",
      "source": "Skriv om programmet slik at stegene som er beskrevet i koden, blir gjort om til kjørbar kode. Ingen innrykk i koden skal endres.\n\n#### Løsning:",
      "metadata": {}
    },
    {
      "cell_type": "code",
      "source": "",
      "metadata": {},
      "execution_count": null,
      "outputs": []
    },
    {
      "cell_type": "markdown",
      "source": "### Oppgave 4.50\nNewtons binomialformel\n\nNewtons binomialformel forteller oss hvordan en kan regne ut $(a + b)^n$ for et heltall $n$ og vilkårlige tallverdier $a$ og $b$. Den sier at\n\n$$(a+b)^n = \\sum_{r=0}^n\\binom{n}{r}a^{n-r}b^r$$\n\nder $\\binom{n}{r}=\\frac{n!}{r!(n-r)!}$. For eksempel hvis $n=4$, så er\n\n\\begin{align}\n(a+b)^4 & = \\binom{4}{0}a^{4-0}b^0+\\binom{4}{1}a^{4-1}b^1+\\binom{4}{2}a^{4-2}b^2+\\binom{4}{3}a^{4-3}b^3+\\binom{4}{4}a^{4-4}b^4 \\\\\n & = \\binom{4}{0}a^{4}b^0+\\binom{4}{1}a^{3}b^1+\\binom{4}{2}a^{2}b^2+\\binom{4}{3}a^{1}b^3+\\binom{4}{4}a^{0}b^4 \\\\\n\\end{align}\n\nLag et program som ber brukeren om verdier for $a$, $b$ og $n$. Programmet skal så regne ut $(a + b)^n$ og deretter skrive ut resultatet. Sjekk om resultatet stemmer ved å først legge sammen verdiene $a$ og $b$, for så opphøye resultatet i $n$.\n\n<b>Tips:</b> For å regne ut 􏰔$n$􏰕, kan du bruke funksjonen $scipy.special.binom(n,r)$ fra $scipy.special-biblioteket$.\n\n\n#### Løsning:",
      "metadata": {}
    },
    {
      "cell_type": "code",
      "source": "",
      "metadata": {},
      "execution_count": null,
      "outputs": []
    },
    {
      "cell_type": "markdown",
      "source": "### Oppgave 4.51\n\nPascals trekant\n\nPascals trekant er en talltrekant der tallene i trekanten følger et bestemt mønster. På n-te rad er tallene som befinner seg inni (altså ikke langs kantene) trekanten lik summen av de to nærmeste tallene over seg.\n\n<img src='https://ds055uzetaobb.cloudfront.net/image_optimizer/525270b426404c042a8a250de1eb8ffcf95c7d2e.png'>\n\nVerdiene til den $n$-te raden i trekanten kan finnes ved:\n\n$$\\binom{n}{0}, \\hskip 0.5em \\binom{n}{1}, \\hskip 0.5em \\binom{n}{2}, \\hskip 0.5em \\cdot\\cdot\\cdot \\hskip 0.5em \\binom{n}{n-2}, \\hskip 0.5em \\binom{n}{n-1}, \\hskip 0.5em \\binom{n}{n}$$\n\nder $\\binom{n}{r}=\\frac{n!}{r!(n-r)!}$ for heltall r og n.\n\n<b>a)</b>\nSkriv et program som tar inn en verdi $n$ fra brukeren og skriver ut den $n$-te raden i Pascals trekant. Du kan bruke funksjonen scipy.special.binom(n,r) fra\nscipy.special-biblioteket til å regne ut 􏰔$n$􏰕.\n\n#### Løsning:",
      "metadata": {}
    },
    {
      "cell_type": "code",
      "source": "",
      "metadata": {},
      "execution_count": null,
      "outputs": []
    },
    {
      "cell_type": "markdown",
      "source": "<b>b)</b>\nUtvid programmet ditt fra a) slik at det skriver ut trekanten fra og med 0-te rad til og med n-te rad. Et eksempel på output kan være:\n\n<img src='https://upload.wikimedia.org/wikipedia/commons/c/ca/Pascal_triangle_small.png'>\n\n#### Løsning:",
      "metadata": {}
    },
    {
      "cell_type": "code",
      "source": "",
      "metadata": {},
      "execution_count": null,
      "outputs": []
    }
  ]
}