{
  "metadata": {
    "kernelspec": {
      "name": "python36",
      "display_name": "Python 3.6",
      "language": "python"
    },
    "language_info": {
      "mimetype": "text/x-python",
      "nbconvert_exporter": "python",
      "name": "python",
      "pygments_lexer": "ipython3",
      "version": "3.6.6",
      "file_extension": ".py",
      "codemirror_mode": {
        "version": 3,
        "name": "ipython"
      }
    }
  },
  "nbformat_minor": 2,
  "nbformat": 4,
  "cells": [
    {
      "cell_type": "markdown",
      "source": "# 3. Introduksjon til programmering",
      "metadata": {}
    },
    {
      "cell_type": "markdown",
      "source": "### Biblioteker til oppgavene",
      "metadata": {}
    },
    {
      "cell_type": "code",
      "source": "import numpy as np",
      "metadata": {
        "trusted": true
      },
      "execution_count": 1,
      "outputs": []
    },
    {
      "cell_type": "markdown",
      "source": "## 3.1.1 Input og output\n### Oppgave 3.1\nLag et program som skriver ut “Hei, navnet ditt”. Modifiser så programmet slik at navnet ditt lagres i en variabel, og benytt så denne variabelen i utskriftskommandoen.\n\n#### Løsning:",
      "metadata": {}
    },
    {
      "cell_type": "code",
      "source": "",
      "metadata": {},
      "execution_count": null,
      "outputs": []
    },
    {
      "cell_type": "markdown",
      "source": "### Oppgave 3.2\nLag tre variabler av ulik type og gi dem en verdi. Skriv ut de tre verdiene.\n\n#### Løsning:",
      "metadata": {}
    },
    {
      "cell_type": "code",
      "source": "",
      "metadata": {},
      "execution_count": null,
      "outputs": []
    },
    {
      "cell_type": "markdown",
      "source": "### Oppgave 3.3\nLag et program som skriver ut tre variabler av ulik type etter hverandre.\n\n#### Løsning:",
      "metadata": {}
    },
    {
      "cell_type": "code",
      "source": "",
      "metadata": {},
      "execution_count": null,
      "outputs": []
    },
    {
      "cell_type": "markdown",
      "source": "### Oppgave 3.4\nLag et program som skriver “Hei,navn!” til skjermen. Brukeren skal bes om å taste inn navnet sitt. Dette navnet skal lagres i en variabel, og så skrives ut som i setningen ovenfor. Husk også utropstegnet til slutt.\n\n#### Løsning:",
      "metadata": {}
    },
    {
      "cell_type": "code",
      "source": "",
      "metadata": {},
      "execution_count": null,
      "outputs": []
    },
    {
      "cell_type": "markdown",
      "source": "<b>Utvid</b> programmet til å spørre om alderen din. La programmet skrive ut en kommentar til alderen din til slutt, for eksempel “din alder er jammen gammelt!”\n\n#### Løsning:",
      "metadata": {}
    },
    {
      "cell_type": "code",
      "source": "",
      "metadata": {},
      "execution_count": null,
      "outputs": []
    },
    {
      "cell_type": "markdown",
      "source": "### Oppgave 3.5\nLag et program som spør etter to tall fra brukeren. Programmet skal så skrive ut disse to tallene. Lag en passende utskriftssetning.\n\n#### Løsning:",
      "metadata": {}
    },
    {
      "cell_type": "code",
      "source": "",
      "metadata": {},
      "execution_count": null,
      "outputs": []
    },
    {
      "cell_type": "markdown",
      "source": "## 3.1.2 Matematiske operasjoner\n### Oppgave 3.6\nLag to variabler med hver sin tallverdi. Lag en tredje variabel med summen av disse. Skriv ut summen slik: “Summen av tall 1 og tall 2 er sum”. \n\n#### Løsning:",
      "metadata": {}
    },
    {
      "cell_type": "code",
      "source": "",
      "metadata": {},
      "execution_count": null,
      "outputs": []
    },
    {
      "cell_type": "markdown",
      "source": "<b>Modifiser</b> programmet slik at det tar tallene fra brukeren.\n\n#### Løsning:",
      "metadata": {}
    },
    {
      "cell_type": "code",
      "source": "",
      "metadata": {},
      "execution_count": null,
      "outputs": []
    },
    {
      "cell_type": "markdown",
      "source": "### Oppgave 3.7\nForklar hva som er forskjellen mellom kodene\n\n```\n    print(a/(b*c))\n```\n\nog\n```\n\n    print(a/b*c)\n```",
      "metadata": {}
    },
    {
      "cell_type": "markdown",
      "source": "#### Løsning:",
      "metadata": {}
    },
    {
      "cell_type": "markdown",
      "source": "Svar her",
      "metadata": {}
    },
    {
      "cell_type": "markdown",
      "source": "### Oppgave 3.8\nLag et program som regner ut forholdet mellom massen til protonet, mp, og massen til elektronet me. Programmet ditt skal gi at forholdet blir omtrentlig lik $1836$. Du kan bruke at $mp = 1.672621898 · 10^{−27}$ og $me = 9.10938356 · 10^{−31}$.\n#### Løsning:",
      "metadata": {}
    },
    {
      "cell_type": "code",
      "source": "",
      "metadata": {},
      "execution_count": null,
      "outputs": []
    },
    {
      "cell_type": "markdown",
      "source": "### Oppgave 3.9\nLag et program som regner ut gjennomsnittet av et visst antall tall.\n#### Løsning:",
      "metadata": {}
    },
    {
      "cell_type": "code",
      "source": "",
      "metadata": {},
      "execution_count": null,
      "outputs": []
    },
    {
      "cell_type": "markdown",
      "source": "### Oppgave 3.10\nHvert program i denne oppgava inneholder noen feil. Finn feilene\nog rett på dem slik at programmene kan kjøres korrekt. \n\n<b>1.</b> Programmet skal regne ut sinus av $30º$:\n\n```Python\na = sin(30)\nprint(f'Sinus av 30° er = {a}')\n```",
      "metadata": {}
    },
    {
      "cell_type": "markdown",
      "source": "#### Løsning:",
      "metadata": {}
    },
    {
      "cell_type": "code",
      "source": "",
      "metadata": {},
      "execution_count": null,
      "outputs": []
    },
    {
      "cell_type": "markdown",
      "source": "<b>2.</b> Programmet skal regne ut prisen på 3 kaffe- og 4 tepakker:\n\n```Python\npris_kaffe = 45 kr\npris_te = 40 kr\ntotalpris = 3*pris_kaffe + 4*pris_te\nprint(f'Total pris: {totalpris}')\n```",
      "metadata": {}
    },
    {
      "cell_type": "markdown",
      "source": "#### Løsning:",
      "metadata": {}
    },
    {
      "cell_type": "code",
      "source": "",
      "metadata": {},
      "execution_count": null,
      "outputs": []
    },
    {
      "cell_type": "markdown",
      "source": "<b>3.</b> Programmet skal regne ut produktet av a og b, som begge er tall gitt fra brukeren:\n\n```Python\nc = a * b\na = input('Skriv inn verdi for a: ')\nb = input('Skriv inn verdi for b: ')\nprint(c)\n```",
      "metadata": {}
    },
    {
      "cell_type": "markdown",
      "source": "#### Løsning:",
      "metadata": {}
    },
    {
      "cell_type": "code",
      "source": "",
      "metadata": {},
      "execution_count": null,
      "outputs": []
    },
    {
      "cell_type": "markdown",
      "source": "### Oppgave 3.12\n(Biologi)\nEt menneske vil dø dersom han/hun mister så mye vann som $15$ % av sin kroppsvekt. Skriv et program som ber brukeren om å skrive inn hvor mye en person veier. Programmet skal deretter regne ut hvor mange liter vann som utgjør $15$ % av personens vekt. Resultatet skal så skrives ut.\n\n#### Løsning:",
      "metadata": {}
    },
    {
      "cell_type": "code",
      "source": "",
      "metadata": {},
      "execution_count": null,
      "outputs": []
    },
    {
      "cell_type": "markdown",
      "source": "### Oppgave 3.13\n(Kjemi) Lag et program som regner ut hvor mye en trenger å veie ut av et bestemt stoff for å lage et visst volum (gitt av brukeren) av en løsning med en viss konsentrasjon (gitt av brukeren).\n\nFor en kjemiker vil antall mol av et stoff være viktigere å kjenne til enn antall gram. Molariteten (M) til et stoff er antall mol av det løste stoffet per liter løsning. I SI-enheter vil konsentrasjon da være mol/dm³.\n\n$$M=\\frac {\\rm {mol~lost~stoff}}{\\rm {volum~av~hele~losningen}}$$\n\n#### Løsning:\n",
      "metadata": {}
    },
    {
      "cell_type": "code",
      "source": "",
      "metadata": {},
      "execution_count": null,
      "outputs": []
    },
    {
      "cell_type": "markdown",
      "source": "### Oppgave 3.14\nSkriv et program som beregner hvor mange kroner, $p$ prosent av $k$ kroner utgjør. Programmet skal be brukeren om verdiene til $p$ og $k$.\n\n#### Løsning:",
      "metadata": {}
    },
    {
      "cell_type": "code",
      "source": "",
      "metadata": {},
      "execution_count": null,
      "outputs": []
    },
    {
      "cell_type": "markdown",
      "source": "### Oppgave 3.15\nLag et program der du kan velge mellom tre godterityper: Sur sild, melkesjokolade og potetgull (valgfri smak). La oss si at sur sild koster $16.00$ kr/hg, melkesjokolade koster $25.00$ kr/hg og potetgullet koster $20.50$ kr/hg. Spør brukeren om hvor mye penger han/hun har, og fortell brukeren hvor mye godteri han/hun får av den valgte typen.\n\n#### Løsning:\nDenne oppgave skal nok være under if-test-kapittelet ",
      "metadata": {}
    },
    {
      "cell_type": "code",
      "source": "",
      "metadata": {},
      "execution_count": null,
      "outputs": []
    },
    {
      "cell_type": "markdown",
      "source": "### Oppgave 3.16\nEn iskrembod har nettopp begynt å selge kuleis. Boden har 3 liter is for hver smak. Hver kule som blir solgt, er en perfekt kule med radius på 2.5 cm. Lag et program som regner ut og skriver ut hvor mange kuler 3 liter is vil gi.\n\n#### Løsning:",
      "metadata": {}
    },
    {
      "cell_type": "code",
      "source": "",
      "metadata": {},
      "execution_count": null,
      "outputs": []
    },
    {
      "cell_type": "markdown",
      "source": "### Oppgave 3.17\nLag et program som regner ut den briggske logaritmen (tierlogarit- men) til et tall. Utvid programmet slik at brukeren gir tallet som input.\n\n#### Løsning:",
      "metadata": {}
    },
    {
      "cell_type": "code",
      "source": "",
      "metadata": {},
      "execution_count": null,
      "outputs": []
    },
    {
      "cell_type": "markdown",
      "source": "### Oppgave 3.18\nSkriv et program som tar inn et antall år fra brukeren og konverterer det til sekunder. Du kan se bort fra skuddår.\n\n#### Løsning:",
      "metadata": {}
    },
    {
      "cell_type": "code",
      "source": "",
      "metadata": {},
      "execution_count": null,
      "outputs": []
    },
    {
      "cell_type": "markdown",
      "source": "### Oppgave 3.19\nSkriv et program som ber brukeren om å skrive inn to tall $a$ og $b$. Tallet $a$ skal deles på $b$. Resultatet skal skrives ut på formen:\n$a$ delt på $b$ = antall ganger a går opp i $b + rest$\n\n#### Løsning:\n\nDetter er åpenbart feil. Rest må deles på b",
      "metadata": {}
    },
    {
      "cell_type": "code",
      "source": "",
      "metadata": {},
      "execution_count": null,
      "outputs": []
    },
    {
      "cell_type": "markdown",
      "source": "## 3.1.3 Funskjoner\n### Oppgave 3.20\nHvert program i denne oppgava inneholder noen feil. Finn feilene\nog rett på dem slik at programmene kan kjøres korrekt.\n\n#### 1. \nFunksjonen skal regne ut $f(x) = \\frac{1}{2x}+1$ og returnere svaret. I programmet skal funksjonen kalles på for $x = 4$:",
      "metadata": {}
    },
    {
      "cell_type": "code",
      "source": "def f(x):\n    1/2*x + 1\n\nprint(f'f(x) = {f(x)}')",
      "metadata": {},
      "execution_count": null,
      "outputs": []
    },
    {
      "cell_type": "markdown",
      "source": "#### 2. \nProgrammet ber brukeren om å skrive en verdi for $x$ og regner ut $f(x) = 3x+cos(x)$ og returnere svaret.",
      "metadata": {}
    },
    {
      "cell_type": "code",
      "source": "def f(x):\n    return 3x + cos(x)\n\ny = input(\"Skriv inn verdi for x: \")\nprint(f'f(x) = {f(y)}')",
      "metadata": {},
      "execution_count": null,
      "outputs": []
    },
    {
      "cell_type": "markdown",
      "source": "#### 3.\nProgrammet skal skrive ut funksjonsverdien til G.",
      "metadata": {}
    },
    {
      "cell_type": "code",
      "source": "def G(t):\n    a = t**2 - 2\n    return a\n\nt=1 \nprint(a)",
      "metadata": {},
      "execution_count": null,
      "outputs": []
    },
    {
      "cell_type": "markdown",
      "source": "### Oppgave 3.21\nLag et program eller flere programmer som regner ut: \n1. Arealet til en sirkel.\n2. Radius til en sirkel gitt diameteren.\n3. Omkretsen til en sirkel.\n4. Volumet til ei kule.\n5. Overflatearealet til ei kule.\n\n#### Løsning:",
      "metadata": {}
    },
    {
      "cell_type": "code",
      "source": "#1\n\n\n#2\n\n\n#3\n\n\n#4\n\n\n#5\n",
      "metadata": {},
      "execution_count": null,
      "outputs": []
    },
    {
      "cell_type": "markdown",
      "source": "### Oppgave 3.22\nForklar hvorfor programmet under gir None som output. Rett på programmet slik at x får en tallverdi fra $f$.",
      "metadata": {}
    },
    {
      "cell_type": "code",
      "source": "def f(x):\n    x = 2*x\n    \nx = 12\nx = x + 12\nx = f(x)\nprint(x)",
      "metadata": {},
      "execution_count": null,
      "outputs": []
    },
    {
      "cell_type": "markdown",
      "source": "#### Løsning:\n\n-- Skriv svaret her --\n",
      "metadata": {}
    },
    {
      "cell_type": "code",
      "source": "",
      "metadata": {},
      "execution_count": null,
      "outputs": []
    },
    {
      "cell_type": "markdown",
      "source": "### Oppgave 3.23\nAmerikanere er rare dyr. De har både Trump og Fahrenheit. Det er vanskelig å lage en funksjon som erstatter Trump med noen andre, men vi kan lage en funksjon som konverterer Fahrenheit til Celsius (ikke motsatt – det vil vi jo ikke!). Formelen er slik:\n\n$$T_C = (T_F-32)\\cdot \\frac{5}{9}$$\n\nder $T_C$ er temperaturen i Celsius og $T_F$ er temperaturen i Fahrenheit. Lag et program som konverterer Fahrenheit til Celsius gjennom en funksjon.\n\n#### Løsning:",
      "metadata": {}
    },
    {
      "cell_type": "code",
      "source": "",
      "metadata": {},
      "execution_count": null,
      "outputs": []
    },
    {
      "cell_type": "markdown",
      "source": "### Oppgave 3.24\n\nKarvonens formel kan brukes til å finne pulsen til en person gitt makspuls $H_{maks}$, hvilepuls $H_{hvile}$ og treningsintensitet p (i prosent):\n\n$$\\textrm{Hjerteslag per minutt} = (H_{maks}-H_{hvile})\\cdot \\frac{p}{100}+H_{hvile}$$\n\nder $H_{maks}$ er maks antall hjerteslag personen kan ha. Den maksimale pulsen kan en finne ved $H_{maks} = 220 − $alder til person. Lag et program som regner ut pulsen til en $20$ år gammel person som trener med $60$% intensitet og hvilepuls på $70$ slag per minutt. Lag Karvonens formel som en funksjon.",
      "metadata": {}
    },
    {
      "cell_type": "code",
      "source": "",
      "metadata": {},
      "execution_count": null,
      "outputs": []
    },
    {
      "cell_type": "markdown",
      "source": "### Oppgave 3.25\nLag et program som konverterer et vinkelmål i grader til radianer ved hjelp av en egendefinert funksjon.\n\n#### Løsning:",
      "metadata": {}
    },
    {
      "cell_type": "code",
      "source": "",
      "metadata": {},
      "execution_count": null,
      "outputs": []
    },
    {
      "cell_type": "markdown",
      "source": "### Oppgave 3.26 (Fysikk) \nLag et program som ber brukeren om å skrive inn en avstand $d$ i meter en løper skal løpe, og hvilken fart $v$ i m/s løperen starter med.\nLøperen holder samme fart over hele avstanden. Finn et uttrykk for hvor lang tid løperen vil bruke, og implementer dette i en funksjon. La programmet regne ut og skrive ut tida ved å kalle funksjonen en print-funksjon.\n\n#### Løsning:",
      "metadata": {}
    },
    {
      "cell_type": "code",
      "source": "",
      "metadata": {},
      "execution_count": null,
      "outputs": []
    },
    {
      "cell_type": "markdown",
      "source": "### Oppgave 3.27 (Kjemi) \nI kjemi har vi ofte bruk for molregning. Lag et enkelt program som regner ut antall mol dersom brukeren taster inn molmasse og masse av et bestemt stoff. Du kan også be brukeren taste inn stoffet det gjelder, slik at du får dette som output også. Lag formelen som en funksjon.\n\n#### Løsning:",
      "metadata": {}
    },
    {
      "cell_type": "code",
      "source": "",
      "metadata": {},
      "execution_count": null,
      "outputs": []
    },
    {
      "cell_type": "markdown",
      "source": "### Oppgave 3.28 (Kjemi)\nLag et program som regner ut pH fra $[H_3 O^+]$ ved hjelp av en funksjon.",
      "metadata": {}
    },
    {
      "cell_type": "code",
      "source": "",
      "metadata": {},
      "execution_count": null,
      "outputs": []
    },
    {
      "cell_type": "markdown",
      "source": "### Oppgave 3.29 (Fysikk)\nBruk Bohrs formel for spektrene til hydrogenatomet. Lag et program som regner ut bølgelengden til fotonet som emitteres når et elektron deeksiterer fra skall m til n. Bruk en funksjon.\n\n#### Løsning:",
      "metadata": {}
    },
    {
      "cell_type": "code",
      "source": "",
      "metadata": {},
      "execution_count": null,
      "outputs": []
    },
    {
      "cell_type": "markdown",
      "source": "### Oppgave 3.30 (Fysikk)\nProgrammer én av bevegelsesformlene som en funksjon. Du kan selv velge hva programmet regner ut.\n\n#### Løsning:",
      "metadata": {}
    },
    {
      "cell_type": "code",
      "source": "",
      "metadata": {},
      "execution_count": null,
      "outputs": []
    },
    {
      "cell_type": "markdown",
      "source": "   ### Oppgave 3.31 \nLag en funksjon som tar tre variabler a, b og c, tilsvarende koeffisientene i andregradsfunksjoner av typen $f(x)=ax^2+bx+c$. La funksjonen løse andregradslikninger av typen $f(x)=0$ ved hjelp av andregradsformelen.\n\n#### Løsning:",
      "metadata": {}
    },
    {
      "cell_type": "code",
      "source": "",
      "metadata": {},
      "execution_count": null,
      "outputs": []
    },
    {
      "cell_type": "markdown",
      "source": "### Oppgave 3.32\nHvorfor har x samme verdi før og etter funksjonen f har blitt kalt i programmet under?",
      "metadata": {}
    },
    {
      "cell_type": "code",
      "source": "def f(x): \n    x=x+3\n    return 9*x\n\nx=3\nprint(x) # Skriver ut 3\ny = f(x)\nprint(x) # Skriver ut 3",
      "metadata": {},
      "execution_count": null,
      "outputs": []
    },
    {
      "cell_type": "markdown",
      "source": "#### Løsning:\n\n-- Skriv svaret her --",
      "metadata": {}
    },
    {
      "cell_type": "markdown",
      "source": "### Oppgave 3.33\nDen briggiske logaritmen til en verdi x forteller oss hva tallet 10 må opphøyes i for å få verdien x. I denne oppgava skal vi se på andre logaritmer.\n### a)\nI informatikk er det ofte nyttig å finne hvor mye tallet 2 må opphøyes i for å gi x som svar. Dette skriver en gjerne $\\log_2(x)$. For å regne ut $\\log_2(x)$, er det mulig å bruke den briggske logaritmen:\n\n$$\\log_2(x)=\\frac{\\log(x)}{\\log(2)}$$\n\nSkriv et program som ber brukeren om en verdi x, regner ut $\\log_2(x)$ og skriver ut resultatet. Du kan f.eks sjekke om programmet ditt skriver ut $8$ som svar når $x=256$.\n\n#### Løsning:",
      "metadata": {}
    },
    {
      "cell_type": "code",
      "source": "",
      "metadata": {},
      "execution_count": null,
      "outputs": []
    },
    {
      "cell_type": "markdown",
      "source": "### b)\nDet er også mulig å finne ut hva et vilkårlig tall a må opphøyes opp i for å gi x som svar. Dette skriver vi gjerne $\\log_a(x)$:\n\n$$\\log_a(x)=\\frac{\\log(x)}{\\log(a)}$$\n\nUtvid programmet ditt fra a) slik at det ber brukeren om en verdi for a og x, regner ut $\\log_a(x)$ og skriver ut resultatet. Du kan f.eks sjekke om programmet ditt skriver ut $3$ som svar når $a = 5$ og $x = 125$.",
      "metadata": {}
    },
    {
      "cell_type": "code",
      "source": "",
      "metadata": {},
      "execution_count": null,
      "outputs": []
    },
    {
      "cell_type": "markdown",
      "source": "### Oppgave 3.34 (Fysikk) \nDe fleste gasser kan modelleres med tilstandslikninga for idelle gasser:\n\n$$PV = nRT$$\n\nder $P$ er trykket i pascal, $V$ er volumet i kubikkmeter, $n$ er stoffmengden $i$ mol, $R$ er gasskonstanten $8.3144598$J/(mol · K) og $T$ er temperaturen i Kelvin.\n\n1. Lagetprogramderduløserlikningaforulikevariabler,gjernegittavbrukeren. \n2. Utfordring:Søk opp og sett deg inn i Vander Waals-likninga. Dette er en mye bedre modell for gasser, spesielt ved høyt trykk og lav temperatur. Prøv å lage et program som bruker denne likninga som modell istedenfor tilstandslikninga\nfor ideelle gasser.\n3. Hva er forskjellen på de to modellene for gasser som du har lagd programmer\nfor ovenfor? Hvorfor har vi to modeller når den ene i utgangspunktet alltid gir mer nøyaktige resultater enn den andre?\n\n#### Løsning:",
      "metadata": {}
    },
    {
      "cell_type": "code",
      "source": "#1\n",
      "metadata": {},
      "execution_count": null,
      "outputs": []
    },
    {
      "cell_type": "code",
      "source": "#2\n",
      "metadata": {},
      "execution_count": null,
      "outputs": []
    },
    {
      "cell_type": "code",
      "source": "#3\n",
      "metadata": {},
      "execution_count": null,
      "outputs": []
    },
    {
      "cell_type": "markdown",
      "source": "### Oppgave 3.35\nFunksjoner kan også ta inn andre funksjoner som argument. I matematikken kalles en funksjon $f$ for sammensatt dersom $f(x) = g(u(x))$. Programmet under skal regne ut $f(x)$ gitt funksjonene $u$, $g$ og verdien $x$. Erstatt alle spørsmålstegn(?) slik at programmet under vil kjøre og regne ut $f(x) = g(u(x))$.",
      "metadata": {}
    },
    {
      "cell_type": "code",
      "source": "import ? as np\n\ndef g(x):\n   return ?.sqrt(x)\n\ndef u(x):\n   return x**2 + 7\n\ndef f(g,u,x):\n   return g(u(x))\n\nx=3\nprint(f'f(x) = g(u(x)) = {f(?,?,?)} for x = {x}')",
      "metadata": {},
      "execution_count": null,
      "outputs": []
    },
    {
      "cell_type": "markdown",
      "source": "#### Løsning:",
      "metadata": {}
    },
    {
      "cell_type": "code",
      "source": "",
      "metadata": {},
      "execution_count": null,
      "outputs": []
    },
    {
      "cell_type": "markdown",
      "source": "### Oppgave 3.36 (Matematikk R1)\nLag et program som finner ut hvor mange kombinasjoner det er mulig å gjøre fra et utvalg av $r$ elever fra totalt $n$ elever der rekkefølgen ikke har noen betydning. Du kan bestemme selv om verdiene for $n$ og $r$ skal være bestemte verdier i koden eller bli gitt fra brukeren som input.\n\n#### Løsning:",
      "metadata": {}
    },
    {
      "cell_type": "code",
      "source": "",
      "metadata": {},
      "execution_count": null,
      "outputs": []
    },
    {
      "cell_type": "markdown",
      "source": "### Oppgave 3.37\nSkriv en funksjon som tar inn ei rente i prosent, et beløp og et antall år $t$. Beløpet skal ligge i en bankkonto som argumenter. La funksjonen beregne og returnere hva beløpet blir når det tas ut fra kontoen etter $t$ år. Test om funksjonen din gir omtrent ≈ $162.89$ kroner etter at $100$ kr med $5$ % rente har ligget i bankkontoen i $10$ år.\n\n#### Løsning:",
      "metadata": {}
    },
    {
      "cell_type": "code",
      "source": "",
      "metadata": {},
      "execution_count": null,
      "outputs": []
    }
  ]
}