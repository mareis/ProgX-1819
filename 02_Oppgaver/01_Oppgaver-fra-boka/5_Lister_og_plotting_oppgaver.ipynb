{
  "metadata": {
    "kernelspec": {
      "name": "python36",
      "display_name": "Python 3.6",
      "language": "python"
    },
    "language_info": {
      "mimetype": "text/x-python",
      "nbconvert_exporter": "python",
      "name": "python",
      "pygments_lexer": "ipython3",
      "version": "3.6.6",
      "file_extension": ".py",
      "codemirror_mode": {
        "version": 3,
        "name": "ipython"
      }
    }
  },
  "nbformat_minor": 2,
  "nbformat": 4,
  "cells": [
    {
      "cell_type": "markdown",
      "source": "# 5. Lister og plotting - Oppgaver",
      "metadata": {}
    },
    {
      "cell_type": "markdown",
      "source": "#### Importerer de nødvendige bibliotekene",
      "metadata": {}
    },
    {
      "cell_type": "code",
      "source": "import numpy as np\nimport matplotlib.pyplot as plt\n%config InlineBackend.figure_format = 'svg'",
      "metadata": {},
      "execution_count": 2,
      "outputs": []
    },
    {
      "cell_type": "markdown",
      "source": "## 5.1.1 Lister\n### Oppgave 5.1\nLagtoulikelistermedbøker,TV-serier,fotballspillereellerliknende. Listene bør ha minst 5 elementer hver, men gjerne flere.\n1. Legg sammen de to listene.\n2. Slett det første og tredje elementet i den sammenslåtte lista. \n3. Finn ut hvilken indeks ett av elementene har.\n4. Lag ei ny liste av element 2–5.\n5. Finn indeksen til et av elementene og slett dette elementet. \n6. Reverser lista.\n\n#### Løsning:",
      "metadata": {}
    },
    {
      "cell_type": "code",
      "source": "#1\n\n#2\n\n#3\n\n#4\n\n#5\n\n#6",
      "metadata": {},
      "execution_count": 1,
      "outputs": []
    },
    {
      "cell_type": "markdown",
      "source": "### Oppgave 5.2\nLag ei liste som du fyller med 100 partall.\n\n#### Løsning:",
      "metadata": {}
    },
    {
      "cell_type": "code",
      "source": "",
      "metadata": {},
      "execution_count": null,
      "outputs": []
    },
    {
      "cell_type": "markdown",
      "source": "### Oppgave 5.3\nLag ei liste som du fyller med tallene 1–100. Lag ei liste som du\nfyller med rota av disse tallene.\n\n#### Løsning:",
      "metadata": {}
    },
    {
      "cell_type": "code",
      "source": "",
      "metadata": {},
      "execution_count": null,
      "outputs": []
    },
    {
      "cell_type": "markdown",
      "source": "### Oppgave 5.4\n",
      "metadata": {}
    },
    {
      "cell_type": "code",
      "source": "",
      "metadata": {},
      "execution_count": null,
      "outputs": []
    },
    {
      "cell_type": "markdown",
      "source": "### Oppgave 5.6\nLag ei liste med tallene 0–50.Finn og skriv ut summen av alle disse tallene ved hjelp av ei løkke. Lag så en funksjon som gjør denne jobben med ei hvilken som helst liste som input.\n#### Løsning:",
      "metadata": {}
    },
    {
      "cell_type": "code",
      "source": "",
      "metadata": {},
      "execution_count": null,
      "outputs": []
    },
    {
      "cell_type": "markdown",
      "source": "### Oppgave 5.7\nLag en funksjon som finner det største tallet i ei liste.\n#### Løsning:",
      "metadata": {}
    },
    {
      "cell_type": "code",
      "source": "",
      "metadata": {},
      "execution_count": null,
      "outputs": []
    },
    {
      "cell_type": "markdown",
      "source": "### Oppgave 5.9\nLag et program som sjekker om ei gitt liste inneholder et partall. Dersom lista gjør det, slett elementene som er partall.\n#### Løsning:",
      "metadata": {}
    },
    {
      "cell_type": "code",
      "source": "",
      "metadata": {},
      "execution_count": null,
      "outputs": []
    },
    {
      "cell_type": "markdown",
      "source": "## 5.1.2 Matriser og tupler\n### Oppgave 5.17\nLag to matriser. Fyll den ene med oddetall fra 1 til 101 og den andre\nmed partall fra 0 til og med 100. Legg sammen matrisene.\n\n#### Løsning:",
      "metadata": {}
    },
    {
      "cell_type": "code",
      "source": "",
      "metadata": {},
      "execution_count": null,
      "outputs": []
    },
    {
      "cell_type": "markdown",
      "source": "### Oppgave 5.18\nEt program skal regne ut c = a + b. Forklar hva c vil bli dersom \n1. a = [1,2,3,4] og b = [1,2,3,4]\n2. a = [1,2,3,4] og b = 1\n3. a = np.array([1,2,3,4]) og b = 1\n4. a = np.array([1,2,3,4]) og b = np.array([1,2,3,4])\n\n#### Løsning",
      "metadata": {}
    },
    {
      "cell_type": "markdown",
      "source": "",
      "metadata": {}
    },
    {
      "cell_type": "code",
      "source": "# Test koden her\n",
      "metadata": {},
      "execution_count": 19,
      "outputs": []
    },
    {
      "cell_type": "markdown",
      "source": "### Oppgave 5.22 (Matematikk R1)\nVi har vektorene $\\vec{v} = [2,2]$ og $\\vec{w} = [1,−3]$. Avgjør om vektorene er ortogonale. Kontroller ved å regne ut for hånd.\n\n#### Løsning:",
      "metadata": {}
    },
    {
      "cell_type": "code",
      "source": "",
      "metadata": {},
      "execution_count": null,
      "outputs": []
    },
    {
      "cell_type": "markdown",
      "source": "### Oppgave 5.23 (Matematikk R1)\nVi har vektorene $\\vec{v} = [0, 2, 2]$ og $\\vec{w} = [1, 1, 2]$. Regn ut vektorproduktet av de to vektorene på to måter:\n1. Ved å regne ut determinanten.\n2. Ved å ta vektorproduktet direkte. Sammenlikn svarene med analytiske verdier.\n\n#### Løsning:",
      "metadata": {}
    },
    {
      "cell_type": "code",
      "source": "",
      "metadata": {},
      "execution_count": null,
      "outputs": []
    },
    {
      "cell_type": "markdown",
      "source": "### Oppgave 5.24 (Matematikk R1)\nProgrammet under regner ut lengden til vektoren $\\vec{v} = [3, 1, 2]$, altså $| \\vec{v} |$, der v er representert som lista v. Skriv om programmet slik at den gjør om lista v til en matrise, utnytter matriseoperasjoner og regner ut $| \\vec{v} |$.",
      "metadata": {}
    },
    {
      "cell_type": "code",
      "source": "",
      "metadata": {},
      "execution_count": null,
      "outputs": []
    },
    {
      "cell_type": "markdown",
      "source": "## 5.1.3 Plotting\n### Oppgve 5.25\nLag plott med tittel og enheter på aksene av følgende funksjoner:\n\n<b>1.</b> $\\hspace 1em f(x)=2x+1, \\hspace 1pc D_f=[0,5]$\nbruk blå stiplet linje\n\n#### Løsning:",
      "metadata": {}
    },
    {
      "cell_type": "code",
      "source": "",
      "metadata": {},
      "execution_count": null,
      "outputs": []
    },
    {
      "cell_type": "markdown",
      "source": "<b>2.</b> $\\hspace 1em f(x) = x^2-3x, \\hspace 1pc v_f=[-10,150], \\hspace 1em D_f=[-10,12]$\n#### Løsning:",
      "metadata": {}
    },
    {
      "cell_type": "code",
      "source": "",
      "metadata": {},
      "execution_count": null,
      "outputs": []
    },
    {
      "cell_type": "markdown",
      "source": "<b>3.</b> $\\hspace 1em  G(x) = 1,05^t+10$\nFunksjonen angir antall gauper etterei viss tid. Bestem definisjonsmengden selv og bruk grønne små prikker.\n\n#### Løsning:",
      "metadata": {}
    },
    {
      "cell_type": "code",
      "source": "",
      "metadata": {},
      "execution_count": null,
      "outputs": []
    },
    {
      "cell_type": "markdown",
      "source": "### 5.26\nLag et program som plotter $f(x) = x^2$ for $x ∈ [−1, 1]$. For $x < 0$, skal grafen være rød der den bruker annenhver strek og prikk. For $x ≥ 0$, skal grafen være grønn og ha små prikker.\n\n#### Løsning:",
      "metadata": {}
    },
    {
      "cell_type": "code",
      "source": "",
      "metadata": {},
      "execution_count": null,
      "outputs": []
    },
    {
      "cell_type": "markdown",
      "source": "### Oppgave 5.27 (Matematikk R1)\nEt fly har en bane som følger vektorfunksjonen $[3t^3 , 2t + 5]$. Plott x- og y-komponentene for $t ∈ [0, 12]$.\n#### Løsning:",
      "metadata": {}
    },
    {
      "cell_type": "code",
      "source": "",
      "metadata": {},
      "execution_count": null,
      "outputs": []
    },
    {
      "cell_type": "markdown",
      "source": "### Oppgave 5.29\nDersom en person tar medisin, vil konsentrasjonen av medisinen i blodet avta over tid. En modell for hvor mye konsentrasjon $K(t)$ av medisinen som vil være igjen etter $t$ timer, er\n\n$$K(t)=K_0e^{-at}$$\n\nder $K_0$ er konsentrasjonen av medisinen personen har i blodet med en gang etter å ha tatt medisinen i mg/l. Verdien til a forteller oss hvor mye av medisinen som avtar per time. Lag et program som plotter $K(t)$ for $K_0 = 4.73$mg/l og $a = 0.65$ i løpet av $48$ timer. Husk å ha med tittel og enheter på aksene.\n\n#### Løsning:",
      "metadata": {}
    },
    {
      "cell_type": "code",
      "source": "",
      "metadata": {},
      "execution_count": null,
      "outputs": []
    },
    {
      "cell_type": "markdown",
      "source": "### Oppgave 5.30 (Fysikk)\nNår et legeme er i fritt fall, vil den mekaniske energien være bevart, det vil si at verdien til energien er den samme for alle tider t. Den mekaniske energien E(t) ved ei tid t er gitt som\n\n$$E(t)=E_K(t)+E_p(t)$$\n\nder $E_k(t)=\\frac{1}{2}mv(t)^2$ er den kinetiske energien ved ei tid $t$ og $E_p(t)=mgy(t)$ er den potensielle energien ved ei tid $t$. Dersom et legeme slippes fra en klippe som er $33$ meter høy, kan høyden y(t) og farten v(t) uttrykkes som:\n\n\n\\begin{align*} \n    y(t) & = - \\frac12 gt^2 + 33 \\\\\n    v(t) & = −gt\n\\end{align*}\n\nDu kan anta at legemet har masse $m = 2.75$kg og bruke at $g = 9.81$m/s$^2$.\nLag et program som beregner den kinetiske energien og den potensielle energien􏰇\nder $t∈[0, \\sqrt{\\frac{66}{g}}]$.\n\n#### Løsning:",
      "metadata": {}
    },
    {
      "cell_type": "code",
      "source": "",
      "metadata": {},
      "execution_count": null,
      "outputs": []
    },
    {
      "cell_type": "markdown",
      "source": "### 5.31 \n\nEn generelle sinusfunksjonen har formen: \n\n$$f(x) = A \\sin(kx+\\phi) + d$$\n\nder A er amplituden, k bidrar til å bestemme perioden til sinusfunksjonen, φ er en faseforskyving og d er likevektslinja.\nSkriv et program som plotter tre forskjellige sinusfunksjoner der $x ∈ [0,2π]$. Du kan selv velge hvilke verdier for A, k, φ og d du vil bruke. Bruk subplot til å plotte sinusfunksjonene ved sida av eller under hverandre. Husk å ha med tittel for hvert plott for å kunne skille mellom dem. Pass også på å ha nok verdier for x slik at kurvene blir glatte!\n\n#### Løsning:",
      "metadata": {}
    },
    {
      "cell_type": "code",
      "source": "",
      "metadata": {},
      "execution_count": null,
      "outputs": []
    },
    {
      "cell_type": "markdown",
      "source": "### 5.33\n\nEn lakseoppdretter bruker $K(x) = −50x^2 − 420x − 50$ kr for å få $x$ kg laks. Oppdretteren selger laksen til 84 kr/kg, altså er $I(x) = 84x$. Profitten $P(x)$ oppdretteren får etter å ha solgt $x$ kilo med laks, er $P(x) = inntekt − kostnad = I(x)−K(x)$ kr.\n\n**a)** Lag et program som finner den største profitten oppdretteren kan få for 1000 jevnt fordelte verdier av $x$ der $x ∈ [0, 15]$.\n\n#### Løsning",
      "metadata": {}
    },
    {
      "cell_type": "code",
      "source": "",
      "metadata": {},
      "execution_count": null,
      "outputs": []
    },
    {
      "cell_type": "markdown",
      "source": "**b)** Utvid programmet fra a) slik at den også finner ved hvilken verdi av xmaks oppdretteren får størst profitt. Plott punktet (xmaks,P(xmaks)) sammen med grafen for P(x) for å se om verdien for xmaks gir mening.\n\n#### Løsning",
      "metadata": {}
    },
    {
      "cell_type": "code",
      "source": "",
      "metadata": {},
      "execution_count": null,
      "outputs": []
    },
    {
      "cell_type": "markdown",
      "source": "### Oppgave 5.34\n\nEt program lager følgende plott:\n\n<img src=\"plot.png\" width=\"400px\">\n\nSkriv et program som lager samme plott.\n\n#### Løsning:",
      "metadata": {}
    },
    {
      "cell_type": "code",
      "source": "",
      "metadata": {},
      "execution_count": null,
      "outputs": []
    }
  ]
}