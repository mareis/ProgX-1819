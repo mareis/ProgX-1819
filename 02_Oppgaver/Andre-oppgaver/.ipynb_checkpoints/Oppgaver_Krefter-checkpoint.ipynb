{
 "cells": [
  {
   "cell_type": "markdown",
   "metadata": {},
   "source": [
    "# Oppgavesett - Krefter"
   ]
  },
  {
   "cell_type": "markdown",
   "metadata": {},
   "source": [
    "#### Biblioteker"
   ]
  },
  {
   "cell_type": "code",
   "execution_count": null,
   "metadata": {},
   "outputs": [],
   "source": []
  },
  {
   "cell_type": "markdown",
   "metadata": {},
   "source": [
    "### Oppgave 1.2: Luftmotstanden til en fotball\n",
    "\n",
    "Draget, foråsaket av luftmotstand, til et objekt kan utrykkes som\n",
    "$$ F_d=\\frac{1}{2}\\, \\rho \\, v^2 \\, C_D \\, A, $$\n",
    "der:\n",
    "-  $C_D$ er dragkoeffisienten for legemet\n",
    "-  $\\rho$ (gresk bokstav rho) er mediets (gassens eller væskens) tetthet\n",
    "-  $A$ er arealet av det tverrsnittet av legemet som står normalt på (på tvers av) strømningsretningen\n",
    "-  $v$ er legemets relative hastighet i forhold til mediet (gassen eller væsken)\n",
    "\n",
    "Gravitasjonskreftene til en gjenstand med masse, $m$, er $F_g= m\\,g$, der $g=9.81$m/s$^2$. Vi skal nå se på hvordan luftmotstand og gravitasjon påvirker en fotball når vi sparker den. \n",
    "\n",
    "-  $\\rho = 1.2$kg/m$^3$, tettheten til lufta\n",
    "-  $C_d = 0.4$, dragkoofesienten varier egentlig med hastigheten, men vi setter den til $0.4$m/s$^2$.\n",
    "-  $A = \\pi r^2$ for alle fotballer med radius $r$. Bruk $r=11$cm.\n",
    "-  $m=0.43$kg, massen til fotballen"
   ]
  },
  {
   "cell_type": "code",
   "execution_count": null,
   "metadata": {},
   "outputs": [],
   "source": []
  }
 ],
 "metadata": {
  "kernelspec": {
   "display_name": "Python 3",
   "language": "python",
   "name": "python3"
  },
  "language_info": {
   "codemirror_mode": {
    "name": "ipython",
    "version": 3
   },
   "file_extension": ".py",
   "mimetype": "text/x-python",
   "name": "python",
   "nbconvert_exporter": "python",
   "pygments_lexer": "ipython3",
   "version": "3.7.2"
  }
 },
 "nbformat": 4,
 "nbformat_minor": 2
}
