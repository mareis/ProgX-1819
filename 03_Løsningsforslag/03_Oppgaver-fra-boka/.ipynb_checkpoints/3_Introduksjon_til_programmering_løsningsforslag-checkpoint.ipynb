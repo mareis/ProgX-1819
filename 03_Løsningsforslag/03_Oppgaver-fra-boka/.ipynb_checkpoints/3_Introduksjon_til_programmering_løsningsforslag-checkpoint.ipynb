{
 "cells": [
  {
   "cell_type": "markdown",
   "metadata": {},
   "source": [
    "# 3. Introduksjon til programmering - Løsningsforslag"
   ]
  },
  {
   "cell_type": "markdown",
   "metadata": {},
   "source": [
    "### Biblioteker til oppgavene"
   ]
  },
  {
   "cell_type": "code",
   "execution_count": 3,
   "metadata": {},
   "outputs": [],
   "source": [
    "import numpy as np"
   ]
  },
  {
   "cell_type": "markdown",
   "metadata": {},
   "source": [
    "## 3.1.1 Input og output\n",
    "### Oppgave 3.1\n",
    "Lag et program som skriver ut “Hei, navnet ditt”. Modifiser så programmet slik at navnet ditt lagres i en variabel, og benytt så denne variabelen i utskriftskommandoen.\n",
    "\n",
    "#### Løsning:"
   ]
  },
  {
   "cell_type": "code",
   "execution_count": 3,
   "metadata": {},
   "outputs": [
    {
     "name": "stdout",
     "output_type": "stream",
     "text": [
      "Hei, Steinar!\n"
     ]
    }
   ],
   "source": [
    "navn = 'Steinar'\n",
    "print(f'Hei, {navn}!')"
   ]
  },
  {
   "cell_type": "markdown",
   "metadata": {},
   "source": [
    "### Oppgave 3.2\n",
    "Lag tre variabler av ulik type og gi dem en verdi. Skriv ut de tre verdiene.\n",
    "\n",
    "#### Løsning:"
   ]
  },
  {
   "cell_type": "code",
   "execution_count": 4,
   "metadata": {},
   "outputs": [
    {
     "name": "stdout",
     "output_type": "stream",
     "text": [
      "Tall-variabel:   3\n",
      "Tekst-variabel:  tre\n",
      "Boolsk-variabel: True\n"
     ]
    }
   ],
   "source": [
    "tall = 3\n",
    "tekst = 'tre'\n",
    "boolian = True\n",
    "print(f'Tall-variabel:   {tall}')\n",
    "print(f'Tekst-variabel:  {tekst}')\n",
    "print(f'Boolsk-variabel: {boolian}')"
   ]
  },
  {
   "cell_type": "markdown",
   "metadata": {},
   "source": [
    "### Oppgave 3.3\n",
    "Lag et program som skriver ut tre variabler av ulik type etter hver- andre.\n",
    "\n",
    "#### Løsning:"
   ]
  },
  {
   "cell_type": "code",
   "execution_count": 5,
   "metadata": {},
   "outputs": [
    {
     "name": "stdout",
     "output_type": "stream",
     "text": [
      "Tall: 3 > tre, er False\n"
     ]
    }
   ],
   "source": [
    "tall = 3\n",
    "tekst = 'tre'\n",
    "boolian = False\n",
    "print(f'Tall: {tall} > {tekst}, er {boolian}')"
   ]
  },
  {
   "cell_type": "markdown",
   "metadata": {},
   "source": [
    "### Oppgave 3.4\n",
    "Lag et program som skriver “Hei,navn!” til skjermen. Brukeren skal bes om å taste inn navnet sitt. Dette navnet skal lagres i en variabel, og så skrives ut som i setningen ovenfor. Husk også utropstegnet til slutt.\n",
    "\n",
    "#### Løsning:"
   ]
  },
  {
   "cell_type": "code",
   "execution_count": 8,
   "metadata": {},
   "outputs": [
    {
     "name": "stdin",
     "output_type": "stream",
     "text": [
      "Tast inn navnet ditt:  Steinar\n"
     ]
    },
    {
     "name": "stdout",
     "output_type": "stream",
     "text": [
      "Hei Steinar!\n"
     ]
    }
   ],
   "source": [
    "navn = input('Tast inn navnet ditt: ')\n",
    "print(f'Hei {navn}!')"
   ]
  },
  {
   "cell_type": "markdown",
   "metadata": {},
   "source": [
    "<b>Utvid</b> programmet til å spørre om alderen din. La programmet skrive ut en kommentar til alderen din til slutt, for eksempel “din alder er jammen gammelt!”\n",
    "\n",
    "#### Løsning:"
   ]
  },
  {
   "cell_type": "code",
   "execution_count": 9,
   "metadata": {},
   "outputs": [
    {
     "name": "stdin",
     "output_type": "stream",
     "text": [
      "Tast inn navnet ditt:  Steinar\n",
      "Hvor gammel er du, Steinar 40\n"
     ]
    },
    {
     "name": "stdout",
     "output_type": "stream",
     "text": [
      "40 år er ingen alder, Steinar!\n"
     ]
    }
   ],
   "source": [
    "navn = input('Tast inn navnet ditt: ')\n",
    "alder = input(f'Hvor gammel er du, {navn}')\n",
    "print(f'{alder} år er ingen alder, {navn}!')"
   ]
  },
  {
   "cell_type": "markdown",
   "metadata": {},
   "source": [
    "### Oppgave 3.5\n",
    "Lag et program som spør etter to tall fra brukeren. Programmet skal så skrive ut disse to tallene. Lag en passende utskriftssetning.\n",
    "\n",
    "#### Løsning:"
   ]
  },
  {
   "cell_type": "code",
   "execution_count": 10,
   "metadata": {},
   "outputs": [
    {
     "name": "stdin",
     "output_type": "stream",
     "text": [
      "Skriv inn et tall:  82\n",
      "Skriv inn et tall til:  23\n"
     ]
    },
    {
     "name": "stdout",
     "output_type": "stream",
     "text": [
      "82 + 23 = 105\n"
     ]
    }
   ],
   "source": [
    "tall_1 = int(input('Skriv inn et tall: '))\n",
    "tall_2 = int(input('Skriv inn et tall til: '))\n",
    "print(f'{tall_1} + {tall_2} = {tall_1+tall_2}')"
   ]
  },
  {
   "cell_type": "markdown",
   "metadata": {},
   "source": [
    "## 3.1.2 Matematiske operasjoner\n",
    "### Oppgave 3.6\n",
    "Lag to variabler med hver sin tallverdi. Lag en tredje variabel med summen av disse. Skriv ut summen slik: “Summen av tall 1 og tall 2 er sum”. \n",
    "\n",
    "#### Løsning:"
   ]
  },
  {
   "cell_type": "code",
   "execution_count": 11,
   "metadata": {},
   "outputs": [
    {
     "name": "stdout",
     "output_type": "stream",
     "text": [
      "Saummen til 9 og 11 er 20.\n"
     ]
    }
   ],
   "source": [
    "tall_1 = 9\n",
    "tall_2 = 11\n",
    "sum = tall_1 + tall_2\n",
    "\n",
    "print(f'Saummen til {tall_1} og {tall_2} er {sum}.')"
   ]
  },
  {
   "cell_type": "markdown",
   "metadata": {},
   "source": [
    "<b>Modifiser</b> programmet slik at det tar tallene fra brukeren.\n",
    "\n",
    "#### Løsning:"
   ]
  },
  {
   "cell_type": "code",
   "execution_count": 12,
   "metadata": {},
   "outputs": [
    {
     "name": "stdin",
     "output_type": "stream",
     "text": [
      "Skriv inn et tall:  8273\n",
      "Skriv inn et tall til:  123\n"
     ]
    },
    {
     "name": "stdout",
     "output_type": "stream",
     "text": [
      "Saummen til 8273 og 123 er 8396.\n"
     ]
    }
   ],
   "source": [
    "tall_1 = int(input('Skriv inn et tall: '))\n",
    "tall_2 = int(input('Skriv inn et tall til: '))\n",
    "sum = tall_1 + tall_2\n",
    "\n",
    "print(f'Saummen til {tall_1} og {tall_2} er {sum}.')"
   ]
  },
  {
   "cell_type": "markdown",
   "metadata": {},
   "source": [
    "### Oppgave 3.7\n",
    "Forklar hva som er forskjellen mellom kodene"
   ]
  },
  {
   "cell_type": "code",
   "execution_count": null,
   "metadata": {},
   "outputs": [],
   "source": [
    "print(a/(b*c)) og print(a/b*c)"
   ]
  },
  {
   "cell_type": "markdown",
   "metadata": {},
   "source": [
    "#### Løsning:"
   ]
  },
  {
   "cell_type": "markdown",
   "metadata": {},
   "source": [
    "Nevneren er $b\\cdot c$ i den første og bare $b$ i den andre."
   ]
  },
  {
   "cell_type": "markdown",
   "metadata": {},
   "source": [
    "### Oppgave 3.8\n",
    "Lag et program som regner ut forholdet mellom massen til protonet, mp, og massen til elektronet me. Programmet ditt skal gi at forholdet blir omtrentlig lik $1836$. Du kan bruke at $mp = 1.672621898 · 10^{−27}$ og $me = 9.10938356 · 10^{−31}$.\n",
    "#### Løsning:"
   ]
  },
  {
   "cell_type": "code",
   "execution_count": null,
   "metadata": {},
   "outputs": [],
   "source": [
    "m_p = 1.672621898 * 10 ** (-27)\n",
    "m_e = 9.10938356 * 10 ** (-31)\n",
    "forhold = m_p/m_e\n",
    "print(f'Forholde mellom massen til proteinet og massen til elektronet: {forhold:4.0f}')"
   ]
  },
  {
   "cell_type": "markdown",
   "metadata": {},
   "source": [
    "### Oppgave 3.9\n",
    "Lag et program som regner ut gjennomsnittet av et visst antall tall.\n",
    "#### Løsning:"
   ]
  },
  {
   "cell_type": "code",
   "execution_count": 14,
   "metadata": {},
   "outputs": [
    {
     "name": "stdin",
     "output_type": "stream",
     "text": [
      "Tall1:  23\n",
      "Tall2:  213\n",
      "Tall3:  43\n",
      "Tall4:  12\n",
      "Tall5:  1\n"
     ]
    },
    {
     "name": "stdout",
     "output_type": "stream",
     "text": [
      "Gjennomsnittet til tallene: 58.4\n"
     ]
    }
   ],
   "source": [
    "a = int(input(\"Tall1: \"))\n",
    "b = int(input(\"Tall2: \"))\n",
    "c = int(input(\"Tall3: \"))\n",
    "d = int(input(\"Tall4: \"))\n",
    "e = int(input(\"Tall5: \"))\n",
    "\n",
    "print(f'Gjennomsnittet til tallene: {(a+b+c+d+e)/5}')"
   ]
  },
  {
   "cell_type": "markdown",
   "metadata": {},
   "source": [
    "### Oppgave 3.10\n",
    "Hvert program i denne oppgava inneholder noen feil. Finn feilene\n",
    "og rett på dem slik at programmene kan kjøres korrekt. \n",
    "\n",
    "<b>1.</b> Programmet skal regne ut sinus av $30º$:"
   ]
  },
  {
   "cell_type": "code",
   "execution_count": null,
   "metadata": {},
   "outputs": [],
   "source": [
    "a = sin(30)\n",
    "print(f'Sinus av 30 grader er = {a}')"
   ]
  },
  {
   "cell_type": "markdown",
   "metadata": {},
   "source": [
    "#### Løsning:"
   ]
  },
  {
   "cell_type": "code",
   "execution_count": 16,
   "metadata": {},
   "outputs": [
    {
     "name": "stdout",
     "output_type": "stream",
     "text": [
      "Sinus av 30 grader er = 0.5000\n"
     ]
    }
   ],
   "source": [
    "import numpy as np #Vi trenger numpy-biblioteket\n",
    "a = np.sin(np.deg2rad(30)) #Så må vi gjøre om fra grader til radianer\n",
    "print(f'Sinus av 30 grader er = {a:.4f}')"
   ]
  },
  {
   "cell_type": "markdown",
   "metadata": {},
   "source": [
    "<b>2.</b> Programmet skal regne ut prisen på 3 kaffe- og 4 tepakker:"
   ]
  },
  {
   "cell_type": "code",
   "execution_count": null,
   "metadata": {},
   "outputs": [],
   "source": [
    "pris_kaffe = 45 kr\n",
    "pris_te = 40 kr\n",
    "totalpris = 3*pris_kaffe + 4*pris_te\n",
    "print(f'Total pris: {totalpris}')"
   ]
  },
  {
   "cell_type": "markdown",
   "metadata": {},
   "source": [
    "#### Løsning:"
   ]
  },
  {
   "cell_type": "code",
   "execution_count": 18,
   "metadata": {},
   "outputs": [
    {
     "name": "stdout",
     "output_type": "stream",
     "text": [
      "Total pris: 295 kr\n"
     ]
    }
   ],
   "source": [
    "pris_kaffe = 45 #Vi kan ikke regne med enheter\n",
    "pris_te = 40 #Vi kan ikke regne med enheter\n",
    "totalpris = 3*pris_kaffe + 4*pris_te \n",
    "print(f'Total pris: {totalpris} kr')  #Legger til enheten i utskriften"
   ]
  },
  {
   "cell_type": "markdown",
   "metadata": {},
   "source": [
    "<b>3.</b> Programmet skal regne ut produktet av a og b, som begge er tall gitt fra brukeren:"
   ]
  },
  {
   "cell_type": "code",
   "execution_count": null,
   "metadata": {},
   "outputs": [],
   "source": [
    "c = a * b\n",
    "a = input('Skriv inn verdi for a: ')\n",
    "b = input('Skriv inn verdi for b: ')\n",
    "print(c)"
   ]
  },
  {
   "cell_type": "markdown",
   "metadata": {},
   "source": [
    "#### Løsning:"
   ]
  },
  {
   "cell_type": "code",
   "execution_count": 19,
   "metadata": {},
   "outputs": [
    {
     "name": "stdin",
     "output_type": "stream",
     "text": [
      "Skriv inn verdi for a:  23\n",
      "Skriv inn verdi for b:  21\n"
     ]
    },
    {
     "name": "stdout",
     "output_type": "stream",
     "text": [
      "23 * 21 = 483\n"
     ]
    }
   ],
   "source": [
    "a = int(input('Skriv inn verdi for a: ')) #Vi må definere variabelene før vi referer til dem\n",
    "b = int(input('Skriv inn verdi for b: ')) #Og så må vi gjøre om tallene til float elelr int for å ta produktet av dem.\n",
    "c = a * b #Flyttet under a og b\n",
    "print(f'{a} * {b} = {c}') #Det er lurt med bedre utskrift"
   ]
  },
  {
   "cell_type": "markdown",
   "metadata": {},
   "source": [
    "### Oppgave 3.11\n",
    "Lag et program som tar bensinforbruket per kilometer til en bil og hvor mange kilometer bilen skal kjøre som input fra brukeren. Programmet skal så beregne hvor mange lite\n",
    "#### Løsning:"
   ]
  },
  {
   "cell_type": "code",
   "execution_count": 26,
   "metadata": {},
   "outputs": [
    {
     "name": "stdin",
     "output_type": "stream",
     "text": [
      "Kilometerforbruk:  0.17\n",
      "Ant. kilometer:  421\n"
     ]
    },
    {
     "name": "stdout",
     "output_type": "stream",
     "text": [
      "Bilen har brukt 71.6 l etter 421.0 km.\n"
     ]
    }
   ],
   "source": [
    "forbruk = float(input(\"Kilometerforbruk: \"))\n",
    "km = float(input(\"Ant. kilometer: \"))\n",
    "\n",
    "print(f'Bilen har brukt {forbruk * km:.1f} l etter {km:.1f} km.')"
   ]
  },
  {
   "cell_type": "markdown",
   "metadata": {},
   "source": [
    "### Oppgave 3.12\n",
    "(Biologi)\n",
    "Et menneske vil dø dersom han/hun mister så mye vann som $15$ % av sin kroppsvekt. Skriv et program som ber brukeren om å skrive inn hvor mye en person veier. Programmet skal deretter regne ut hvor mange liter vann som utgjør $15$ % av personens vekt. Resultatet skal så skrives ut.\n",
    "\n",
    "#### Løsning:"
   ]
  },
  {
   "cell_type": "code",
   "execution_count": 27,
   "metadata": {},
   "outputs": [
    {
     "name": "stdin",
     "output_type": "stream",
     "text": [
      "Skriv inn vekten din:  80\n"
     ]
    },
    {
     "name": "stdout",
     "output_type": "stream",
     "text": [
      "15 % utgjør 12.0 l av en persom på 80.0 kg.\n"
     ]
    }
   ],
   "source": [
    "vekt = float(input('Skriv inn vekten din: '))\n",
    "vann_15prosent = vekt * 0.15\n",
    "print(f'15 % utgjør {vann_15prosent:.1f} l av en persom på {vekt} kg.')"
   ]
  },
  {
   "cell_type": "markdown",
   "metadata": {},
   "source": [
    "### Oppgave 3.13\n",
    "(Kjemi) Lag et program som regner ut hvor mye en trenger å veie ut av et bestemt stoff for å lage et visst volum (gitt av brukeren) av en løsning med en viss konsentrasjon (gitt av brukeren).\n",
    "\n",
    "For en kjemiker vil antall mol av et stoff være viktigere å kjenne til enn antall gram. Molariteten (M) til et stoff er antall mol av det løste stoffet per liter løsning. I SI-enheter vil konsentrasjon da være mol/dm³.\n",
    "\n",
    "$$M=\\frac {\\rm {mol~lost~stoff}}{\\rm {volum~av~hele~losningen}}$$\n",
    "\n",
    "#### Løsning:\n",
    "\n",
    "Løser likningen for $\\rm {mol~lost~stoff}$:\n",
    "\n",
    "$${\\rm {mol~lost~stoff}} = {\\rm {volum~av~hele~losningen}} \\cdot M$$\n",
    "\n",
    "Dersom molariteten (konsentrajsonen) av et stoff løst i en halv liter væske er $\\rm {12~M}$:\n",
    "\n",
    "$${\\rm {0,5~l}} \\cdot 12~M = \\rm {6~mol}$$"
   ]
  },
  {
   "cell_type": "code",
   "execution_count": 29,
   "metadata": {},
   "outputs": [
    {
     "name": "stdin",
     "output_type": "stream",
     "text": [
      "Skriv in volumet til stoffet (liter):  3\n",
      "Skriv in molariteten:  37\n"
     ]
    },
    {
     "name": "stdout",
     "output_type": "stream",
     "text": [
      "3.0 l * 37.0 M = 111.0 mol\n"
     ]
    }
   ],
   "source": [
    "volum = float(input('Skriv in volumet til stoffet (liter): '))\n",
    "molaritet = float(input('Skriv in molariteten: '))\n",
    "mol_lost_stoff = volum * molaritet\n",
    "print(f'{volum} l * {molaritet} M = {mol_lost_stoff} mol')"
   ]
  },
  {
   "cell_type": "markdown",
   "metadata": {},
   "source": [
    "### Oppgave 3.14\n",
    "Skriv et program som beregner hvor mange kroner, $p$ prosent av $k$ kroner utgjør. Programmet skal be brukeren om verdiene til $p$ og $k$.\n",
    "\n",
    "#### Løsning:"
   ]
  },
  {
   "cell_type": "code",
   "execution_count": 30,
   "metadata": {},
   "outputs": [
    {
     "name": "stdin",
     "output_type": "stream",
     "text": [
      "Skriv inn prosent (%):  20\n",
      "Skriv inn antall kroner (kr):  53216\n"
     ]
    },
    {
     "name": "stdout",
     "output_type": "stream",
     "text": [
      "20.0 % utgjør 10643.20 kr av 53216.00 kr.\n"
     ]
    }
   ],
   "source": [
    "p = float(input('Skriv inn prosent (%): '))\n",
    "k = float(input('Skriv inn antall kroner (kr): '))\n",
    "print(f'{p:.1f} % utgjør {p/100*k:.2f} kr av {k:.2f} kr.')"
   ]
  },
  {
   "cell_type": "markdown",
   "metadata": {},
   "source": [
    "### Oppgave 3.15\n",
    "Lag et program der du kan velge mellom tre godterityper: Sur sild, melkesjokolade og potetgull (valgfri smak). La oss si at sur sild koster $16.00$ kr/hg, melkesjokolade koster $25.00$ kr/hg og potetgullet koster $20.50$ kr/hg. Spør brukeren om hvor mye penger han/hun har, og fortell brukeren hvor mye godteri han/hun får av den valgte typen.\n",
    "\n",
    "#### Løsning:\n",
    "Denne oppgave skal nok være under if-test-kapittelet "
   ]
  },
  {
   "cell_type": "code",
   "execution_count": 31,
   "metadata": {},
   "outputs": [
    {
     "name": "stdin",
     "output_type": "stream",
     "text": [
      "Skriv inn hvor mye penger du vil bruke:  200\n",
      "Skriv <1> for Sur sild, <2> for melkesjokolade og <3> for potetgull:  2\n"
     ]
    },
    {
     "name": "stdout",
     "output_type": "stream",
     "text": [
      "Du får 8.0 hg melkesjokolade for 200.0 kr. \n"
     ]
    }
   ],
   "source": [
    "penger = float(input('Skriv inn hvor mye penger du vil bruke: '))\n",
    "godteritype = int(input('Skriv <1> for Sur sild, <2> for melkesjokolade og <3> for potetgull: '))\n",
    "\n",
    "if godteritype == 1:\n",
    "    print(f'Du får {penger/16} hg sur sild for {penger} kr. ')\n",
    "elif godteritype == 2:\n",
    "    print(f'Du får {penger/25} hg melkesjokolade for {penger} kr. ')\n",
    "elif godteritype == 3:\n",
    "    print(f'Du får {penger/20.5} hg potegull for {penger} kr. ')\n",
    "else:\n",
    "    print('Du har skrevet inn noe feil.')"
   ]
  },
  {
   "cell_type": "markdown",
   "metadata": {},
   "source": [
    "### Oppgave 3.16\n",
    "En iskrembod har nettopp begynt å selge kuleis. Boden har 3 liter is for hver smak. Hver kule som blir solgt, er en perfekt kule med radius på 2.5 cm. Lag et program som regner ut og skriver ut hvor mange kuler 3 liter is vil gi.\n",
    "\n",
    "#### Løsning:\n",
    "$$V = \\frac{4 \\pi \\cdot r^3}{3}$$"
   ]
  },
  {
   "cell_type": "code",
   "execution_count": 7,
   "metadata": {},
   "outputs": [
    {
     "name": "stdout",
     "output_type": "stream",
     "text": [
      "3 l is vil gi 45.84 kuler is. 46 hele kuer.\n"
     ]
    }
   ],
   "source": [
    "radius_kule = 2.5 / 10 #Gjør om fra cm til dm\n",
    "volum_kule = 4 * np.pi * radius_kule**3/3 #i liter\n",
    "liter_is = 3 \n",
    "antall_kuler = liter_is / volum_kule\n",
    "\n",
    "print(f'{liter_is} l is vil gi {antall_kuler:.2f} kuler is. {antall_kuler:.0f} hele kuer.')"
   ]
  },
  {
   "cell_type": "markdown",
   "metadata": {},
   "source": [
    "### Oppgave 3.17\n",
    "Lag et program som regner ut den briggske logaritmen (tierlogarit- men) til et tall. Utvid programmet slik at brukeren gir tallet som input.\n",
    "\n",
    "#### Løsning:"
   ]
  },
  {
   "cell_type": "code",
   "execution_count": 33,
   "metadata": {},
   "outputs": [
    {
     "name": "stdin",
     "output_type": "stream",
     "text": [
      "Skriv inn et tall:  1000\n"
     ]
    },
    {
     "name": "stdout",
     "output_type": "stream",
     "text": [
      "Log10(1000.0) = 3.0\n"
     ]
    }
   ],
   "source": [
    "tall = float(input('Skriv inn et tall: '))\n",
    "log10_tall = np.log10(tall)\n",
    "\n",
    "print(f'Log10({tall}) = {log10_tall}')"
   ]
  },
  {
   "cell_type": "markdown",
   "metadata": {},
   "source": [
    "### Oppgave 3.18\n",
    "Skriv et program som tar inn et antall år fra brukeren og konverterer det til sekunder. Du kan se bort fra skuddår.\n",
    "\n",
    "#### Løsning:"
   ]
  },
  {
   "cell_type": "code",
   "execution_count": 34,
   "metadata": {},
   "outputs": [
    {
     "name": "stdin",
     "output_type": "stream",
     "text": [
      "Skriv inn antall år:  18\n"
     ]
    },
    {
     "name": "stdout",
     "output_type": "stream",
     "text": [
      "Det er 567648000.0 sekunder i 18.0 år.\n"
     ]
    }
   ],
   "source": [
    "aar = float(input('Skriv inn antall år: '))\n",
    "aar_til_sekunder = aar * 365 * 24 * 60 * 60\n",
    "print(f'Det er {aar_til_sekunder:.1f} sekunder i {aar:.1f} år.')"
   ]
  },
  {
   "cell_type": "markdown",
   "metadata": {},
   "source": [
    "### Oppgave 3.19\n",
    "Skriv et program som ber brukeren om å skrive inn to tall $a$ og $b$. Tallet $a$ skal deles på $b$. Resultatet skal skrives ut på formen:\n",
    "$a$ delt på $b$ = antall ganger a går opp i $b + rest$\n",
    "\n",
    "#### Løsning:\n",
    "\n",
    "Detter er åpenbart feil. Rest må deles på b"
   ]
  },
  {
   "cell_type": "code",
   "execution_count": 38,
   "metadata": {},
   "outputs": [
    {
     "name": "stdin",
     "output_type": "stream",
     "text": [
      "Skriv inn et tall:  15\n",
      "Skriv inn et tall til:  4\n"
     ]
    },
    {
     "name": "stdout",
     "output_type": "stream",
     "text": [
      "15 delt på 4: 4 går 3 ganger opp i 15 + 3 i rest\n"
     ]
    }
   ],
   "source": [
    "a = int(input('Skriv inn et tall: '))\n",
    "b = int(input('Skriv inn et tall til: '))\n",
    "print(f'{a} delt på {b}: {b} går {np.floor(a/b):.0f} ganger opp i {a} + {a%b} i rest')"
   ]
  },
  {
   "cell_type": "markdown",
   "metadata": {},
   "source": [
    "## 3.1.3 Funskjoner\n",
    "\n",
    "## 3.1.3 Funskjoner\n",
    "### Oppgave 3.20\n",
    "Hvert program i denne oppgava inneholder noen feil. Finn feilene\n",
    "og rett på dem slik at programmene kan kjøres korrekt.\n",
    "\n",
    "#### 1. \n",
    "Funksjonen skal regne ut $f(x) = \\frac{1}{2x}+1$ og returnere svaret. I programmet skal funksjonen kalles på for $x = 4$:"
   ]
  },
  {
   "cell_type": "code",
   "execution_count": null,
   "metadata": {},
   "outputs": [],
   "source": [
    "def f(x):\n",
    "    1/2*x + 1\n",
    "\n",
    "print(f'f(x) = {f(x)}')"
   ]
  },
  {
   "cell_type": "markdown",
   "metadata": {},
   "source": [
    "#### 2. \n",
    "Programmet ber brukeren om å skrive en verdi for $x$ og regner ut $f(x) = 3x+cos(x)$ og returnere svaret."
   ]
  },
  {
   "cell_type": "code",
   "execution_count": null,
   "metadata": {},
   "outputs": [],
   "source": [
    "def f(x):\n",
    "    return 3x + cos(x)\n",
    "\n",
    "y = input(\"Skriv inn verdi for x: \")\n",
    "print(f'f(x) = {f(y)}')"
   ]
  },
  {
   "cell_type": "markdown",
   "metadata": {},
   "source": [
    "#### 3.\n",
    "Programmet skal skrive ut funksjonsverdien til G."
   ]
  },
  {
   "cell_type": "code",
   "execution_count": null,
   "metadata": {},
   "outputs": [],
   "source": [
    "def G(t):\n",
    "    a = t**2 - 2\n",
    "    return a\n",
    "\n",
    "t=1 \n",
    "print(a)"
   ]
  },
  {
   "cell_type": "markdown",
   "metadata": {},
   "source": [
    "### Oppgave 3.21\n",
    "Lag et program eller flere programmer som regner ut: \n",
    "1. Arealet til en sirkel.\n",
    "2. Radius til en sirkel gitt diameteren.\n",
    "3. Omkretsen til en sirkel.\n",
    "4. Volumet til ei kule.\n",
    "5. Overflatearealet til ei kule.\n",
    "\n",
    "#### Løsning:"
   ]
  },
  {
   "cell_type": "code",
   "execution_count": 40,
   "metadata": {},
   "outputs": [],
   "source": [
    "#1\n",
    "def arealSirkel(r):\n",
    "    return np.pi * r**2\n",
    "\n",
    "#2\n",
    "def radiusFraDiameter(d):\n",
    "    return d/2\n",
    "\n",
    "#3\n",
    "def omkretsSirkel(r):\n",
    "    return 2 * np.pi * r\n",
    "\n",
    "#4\n",
    "def volumKule(r):\n",
    "    return 4/3 * np.pi * r**3\n",
    "\n",
    "#5\n",
    "def overflateKule(r):\n",
    "    4 * np.pi * r**2"
   ]
  },
  {
   "cell_type": "markdown",
   "metadata": {},
   "source": [
    "### Oppgave 3.22\n",
    "Forklar hvorfor programmet under gir None som output. Rett på programmet slik at x får en tallverdi fra $f$."
   ]
  },
  {
   "cell_type": "code",
   "execution_count": 44,
   "metadata": {},
   "outputs": [
    {
     "name": "stdout",
     "output_type": "stream",
     "text": [
      "None\n"
     ]
    }
   ],
   "source": [
    "def f(x):\n",
    "    x = 2*x\n",
    "    \n",
    "x = 12\n",
    "x = x + 12\n",
    "x = f(x)\n",
    "print(x)"
   ]
  },
  {
   "cell_type": "markdown",
   "metadata": {},
   "source": [
    "#### Løsning:\n",
    "\n",
    "-- Skriv her --\n",
    "\n"
   ]
  },
  {
   "cell_type": "code",
   "execution_count": 43,
   "metadata": {},
   "outputs": [
    {
     "name": "stdout",
     "output_type": "stream",
     "text": [
      "None\n"
     ]
    }
   ],
   "source": [
    "def f(x):\n",
    "    x = 2*x #Denne x-verdien er lokal. Burde heller bruke return\n",
    "    \n",
    "x = 12\n",
    "x = x + 12\n",
    "x = f(x)  #Funksjonen returnerer ingen verdi\n",
    "print(x)"
   ]
  },
  {
   "cell_type": "code",
   "execution_count": 45,
   "metadata": {},
   "outputs": [
    {
     "name": "stdout",
     "output_type": "stream",
     "text": [
      "48\n"
     ]
    }
   ],
   "source": [
    "def f(x):\n",
    "    return 2*x #Rettet opp her\n",
    "    \n",
    "x = 12\n",
    "x = x + 12\n",
    "x = f(x)\n",
    "print(x)"
   ]
  },
  {
   "cell_type": "markdown",
   "metadata": {},
   "source": [
    "### Oppgave 3.23\n",
    "Amerikanere er rare dyr. De har både Trump og Fahrenheit. Det er vanskelig å lage en funksjon som erstatter Trump med noen andre, men vi kan lage en funksjon som konverterer Fahrenheit til Celsius (ikke motsatt – det vil vi jo ikke!). Formelen er slik:\n",
    "\n",
    "$$T_C = (T_F-32)\\cdot \\frac{5}{9}$$\n",
    "\n",
    "der $T_C$ er temperaturen i Celsius og $T_F$ er temperaturen i Fahrenheit. Lag et program som konverterer Fahrenheit til Celsius gjennom en funksjon.\n",
    "\n",
    "#### Løsning:"
   ]
  },
  {
   "cell_type": "code",
   "execution_count": 60,
   "metadata": {},
   "outputs": [
    {
     "name": "stdin",
     "output_type": "stream",
     "text": [
      "Skriv inn temperatur i Fahrenheit:  52\n"
     ]
    },
    {
     "name": "stdout",
     "output_type": "stream",
     "text": [
      "52.0F = 11.1C\n"
     ]
    }
   ],
   "source": [
    "tf = float(input('Skriv inn temperatur i Fahrenheit: '))\n",
    "\n",
    "def fahrenheitTilCelsius(tf):\n",
    "    return (tf - 32) * 5/9\n",
    "\n",
    "print(f'{tf}F = {fahrenheitTilCelsius(tf):.1f}C')"
   ]
  },
  {
   "cell_type": "markdown",
   "metadata": {},
   "source": [
    "### Oppgave 3.24\n",
    "\n",
    "Karvonens formel kan brukes til å finne pulsen til en person gitt makspuls $H_{maks}$, hvilepuls $H_{hvile}$ og treningsintensitet p (i prosent):\n",
    "\n",
    "$$\\textrm{Hjerteslag per minutt} = (H_{maks} - H_{hvile})\\cdot \\frac{p}{100}+H_{hvile}$$\n",
    "\n",
    "der $H_{maks}$ er maks antall hjerteslag personen kan ha. Den maksimale pulsen kan en finne ved $H_{maks} = 220 − $alder til person. Lag et program som regner ut pulsen til en $20$ år gammel person som trener med $60$% intensitet og hvilepuls på $70$ slag per minutt. Lag Karvonens formel som en funksjon."
   ]
  },
  {
   "cell_type": "code",
   "execution_count": 74,
   "metadata": {},
   "outputs": [
    {
     "name": "stdout",
     "output_type": "stream",
     "text": [
      "Hjerteslag per minutt = 148.0\n"
     ]
    }
   ],
   "source": [
    "def karvonens_formel(H_hvile, alder, p):\n",
    "    H_maks = 220 - alder\n",
    "    return (H_maks - H_hvile) * p/100 + H_hvile\n",
    "\n",
    "print(f'Hjerteslag per minutt = {karvonens_formel(70, 20, 60)}')"
   ]
  },
  {
   "cell_type": "markdown",
   "metadata": {},
   "source": [
    "### Oppgave 3.25\n",
    "Lag et program som konverterer et vinkelmål i grader til radianer ved hjelp av en egendefinert funksjon.\n",
    "\n",
    "#### Løsning:"
   ]
  },
  {
   "cell_type": "code",
   "execution_count": 49,
   "metadata": {},
   "outputs": [
    {
     "name": "stdin",
     "output_type": "stream",
     "text": [
      "Vinkelmål i grader:  30\n"
     ]
    },
    {
     "name": "stdout",
     "output_type": "stream",
     "text": [
      "30.0 grader = 0.5 radianer\n"
     ]
    }
   ],
   "source": [
    "vg = float(input('Vinkelmål i grader: '))\n",
    "\n",
    "def graderTilRadianer(vg):\n",
    "    return 2 * np.pi * vg / 360\n",
    "\n",
    "print(f'{vg} grader = {graderTilRadianer(vg):.1} radianer')"
   ]
  },
  {
   "cell_type": "markdown",
   "metadata": {},
   "source": [
    "### Oppgave 3.26 (Fysikk) \n",
    "Lag et program som ber brukeren om å skrive inn en avstand $d$ i meter en løper skal løpe, og hvilken fart $v$ i m/s løperen starter med.\n",
    "Løperen holder samme fart over hele avstanden. Finn et uttrykk for hvor lang tid løperen vil bruke, og implementer dette i en funksjon. La programmet regne ut og skrive ut tida ved å kalle funksjonen en print-funksjon.\n",
    "\n",
    "#### Løsning:\n",
    "\n",
    "$$t = \\frac{d}{v}$$"
   ]
  },
  {
   "cell_type": "code",
   "execution_count": 55,
   "metadata": {},
   "outputs": [
    {
     "name": "stdin",
     "output_type": "stream",
     "text": [
      "Avstand (meter):  100\n",
      "Fart (m/s):  10.4384133612\n"
     ]
    },
    {
     "name": "stdout",
     "output_type": "stream",
     "text": [
      "Løperen vil bruke 9.58 sekunder på 100m\n"
     ]
    }
   ],
   "source": [
    "d = float(input('Avstand (meter): '))\n",
    "v = float(input('Fart (m/s): '))\n",
    "\n",
    "def tidsbruk(d, v):\n",
    "    return d/v\n",
    "\n",
    "print(f'Løperen vil bruke {tidsbruk(d, v):.2f} sekunder på 100m')"
   ]
  },
  {
   "cell_type": "markdown",
   "metadata": {},
   "source": [
    "### Oppgave 1.27 (Kjemi) \n",
    "I kjemi har vi ofte bruk for molregning. Lag et enkelt program som regner ut antall mol dersom brukeren taster inn molmasse og masse av et bestemt stoff. Du kan også be brukeren taste inn stoffet det gjelder, slik at du får dette som output også. Lag formelen som en funksjon.\n",
    "\n",
    "#### Løsning:\n",
    "For en mengde stoff med masse $m$ som består av $n$ mol, er den molare massen for dette stoffet\n",
    "\n",
    "$$M=\\frac {m}{n}$$.\n",
    "\n",
    "Løser for n\n",
    "$$n =\\frac {m}{M} $$"
   ]
  },
  {
   "cell_type": "code",
   "execution_count": 59,
   "metadata": {},
   "outputs": [
    {
     "name": "stdin",
     "output_type": "stream",
     "text": [
      "Masse (gram):  518.37\n",
      "Molarmasse (g/mol):  46.7\n",
      "Stoffets navn:  sprit\n"
     ]
    },
    {
     "name": "stdout",
     "output_type": "stream",
     "text": [
      "518.37 gram av sprit med molarmassen 46.7 g/mol består av 11.10 mol\n"
     ]
    }
   ],
   "source": [
    "m = float(input('Masse (gram): '))\n",
    "M = float(input('Molarmasse (g/mol): '))\n",
    "stoff = input('Stoffets navn: ')\n",
    "\n",
    "def n(m, M):\n",
    "    return m / M\n",
    "\n",
    "print(f'{m} gram av {stoff} med molarmassen {M} g/mol består av {n(m, M):.2f} mol')"
   ]
  },
  {
   "cell_type": "markdown",
   "metadata": {},
   "source": [
    "### Oppgave 1.28 (Kjemi)\n",
    "Lag et program som regner ut pH fra $[H_3 O^+]$ ved hjelp av en funksjon."
   ]
  },
  {
   "cell_type": "code",
   "execution_count": null,
   "metadata": {},
   "outputs": [],
   "source": []
  },
  {
   "cell_type": "markdown",
   "metadata": {},
   "source": [
    "### Oppgave 1.29 (Fysikk)\n",
    "Bruk Bohrs formel for spektrene til hydrogenatomet. Lag et program som regner ut bølgelengden til fotonet som emitteres når et elektron deeksiterer fra skall m til n. Bruk en funksjon.\n",
    "\n",
    "#### Løsning:"
   ]
  },
  {
   "cell_type": "code",
   "execution_count": null,
   "metadata": {},
   "outputs": [],
   "source": []
  },
  {
   "cell_type": "markdown",
   "metadata": {},
   "source": [
    "### Oppgave 1.30 (Fysikk)\n",
    "Programmer én av bevegelsesformlene som en funksjon. Du kan selv velge hva programmet regner ut.\n",
    "\n",
    "#### Løsning:"
   ]
  },
  {
   "cell_type": "code",
   "execution_count": null,
   "metadata": {},
   "outputs": [],
   "source": []
  },
  {
   "cell_type": "markdown",
   "metadata": {},
   "source": [
    "### 3.31     \n",
    "### Oppgave 3.31 \n",
    "Lag en funksjon som tar tre variabler a, b og c, tilsvarende koeffisientene i andregradsfunksjoner av typen $f(x)=ax^2+bx+c$. La funksjonen løse andregradslikninger av typen $f(x)=0$ ved hjelp av andregradsformelen.\n",
    "\n",
    "#### Løsning:\n",
    "$$x=\\frac{-b \\pm \\sqrt{b^2-4ac}}{2a}$$"
   ]
  },
  {
   "cell_type": "code",
   "execution_count": null,
   "metadata": {},
   "outputs": [],
   "source": [
    "def f(a, b, c):\n",
    "    return (-b - np.sqrt(b**2 - 4 * a * c))/(2 * a), (-b + np.sqrt(b**2 - 4 * a * c))/(2 * a)\n",
    "\n",
    "print(f'f(1, 0, -4) = {f(1, 0,-4)}')"
   ]
  },
  {
   "cell_type": "markdown",
   "metadata": {},
   "source": [
    "### Oppgave 1.32\n",
    "Hvorfor har x samme verdi før og etter funksjonen f har blitt kalt i programmet under?"
   ]
  },
  {
   "cell_type": "code",
   "execution_count": null,
   "metadata": {},
   "outputs": [],
   "source": [
    "def f(x): \n",
    "    x=x+3\n",
    "    return 9*x\n",
    "\n",
    "x=3\n",
    "print(x) # Skriver ut 3\n",
    "y = f(x)\n",
    "print(x) # Skriver ut 3b"
   ]
  },
  {
   "cell_type": "markdown",
   "metadata": {},
   "source": [
    "#### Løsning:\n",
    "\n",
    "-- Skriv svaret her --"
   ]
  },
  {
   "cell_type": "markdown",
   "metadata": {},
   "source": [
    "### Oppgave 3.33\n",
    "Den briggiske logaritmen til en verdi x forteller oss hva tallet 10 må opphøyes i for å få verdien x. I denne oppgava skal vi se på andre logaritmer.\n",
    "### a)\n",
    "I informatikk er det ofte nyttig å finne hvor mye tallet 2 må opphøyes i for å gi x som svar. Dette skriver en gjerne $\\log_2(x)$. For å regne ut $\\log_2(x)$, er det mulig å bruke den briggske logaritmen:\n",
    "\n",
    "$$\\log_2(x)=\\frac{\\log(x)}{\\log(2)}$$\n",
    "\n",
    "Skriv et program som ber brukeren om en verdi x, regner ut $\\log_2(x)$ og skriver ut resultatet. Du kan f.eks sjekke om programmet ditt skriver ut $8$ som svar når $x=256$.\n",
    "\n",
    "#### Løsning:"
   ]
  },
  {
   "cell_type": "code",
   "execution_count": 61,
   "metadata": {},
   "outputs": [
    {
     "name": "stdin",
     "output_type": "stream",
     "text": [
      "Skriv inn x for å regne ut log_2(x):  256\n"
     ]
    },
    {
     "name": "stdout",
     "output_type": "stream",
     "text": [
      "log_2(256) = 8.0\n"
     ]
    }
   ],
   "source": [
    "x = int(input(\"Skriv inn x for å regne ut log_2(x): \"))\n",
    "\n",
    "print(f'log_2({x}) = {np.log(x)/np.log(2)}')"
   ]
  },
  {
   "cell_type": "markdown",
   "metadata": {},
   "source": [
    "### b)\n",
    "Det er også mulig å finne ut hva et vilkårlig tall a må opphøyes opp i for å gi x som svar. Dette skriver vi gjerne $\\log_a(x)$:\n",
    "\n",
    "$$\\log_a(x)=\\frac{\\log(x)}{\\log(a)}$$\n",
    "\n",
    "Utvid programmet ditt fra a) slik at det ber brukeren om en verdi for a og x, regner ut $\\log_a(x)$ og skriver ut resultatet. Du kan f.eks sjekke om programmet ditt skriver ut $3$ som svar når $a = 5$ og $x = 125$."
   ]
  },
  {
   "cell_type": "code",
   "execution_count": 63,
   "metadata": {},
   "outputs": [
    {
     "name": "stdin",
     "output_type": "stream",
     "text": [
      "Skriv inn x for å regne ut log_a(x):  125\n",
      "Skriv inn a for å regne ut log_a(x):  5\n"
     ]
    },
    {
     "name": "stdout",
     "output_type": "stream",
     "text": [
      "log_5(125) = 3.00\n"
     ]
    }
   ],
   "source": [
    "x = int(input(\"Skriv inn x for å regne ut log_a(x): \"))\n",
    "a = int(input(\"Skriv inn a for å regne ut log_a(x): \"))\n",
    "\n",
    "print(f'log_{a}({x}) = {np.log(x)/np.log(a):.2f}')"
   ]
  },
  {
   "cell_type": "markdown",
   "metadata": {},
   "source": [
    "### Oppgave 1.34 (Fysikk) \n",
    "De fleste gasser kan modelleres med tilstandslikninga for idelle gasser:\n",
    "\n",
    "$$PV = nRT$$\n",
    "\n",
    "der $P$ er trykket i pascal, $V$ er volumet i kubikkmeter, $n$ er stoffmengden $i$ mol, $R$ er gasskonstanten $8.3144598$J/(mol · K) og $T$ er temperaturen i Kelvin.\n",
    "\n",
    "1. Lagetprogramderduløserlikningaforulikevariabler,gjernegittavbrukeren. \n",
    "2. Utfordring:Søk opp og sett deg inn i Vander Waals-likninga. Dette er en mye bedre modell for gasser, spesielt ved høyt trykk og lav temperatur. Prøv å lage et program som bruker denne likninga som modell istedenfor tilstandslikninga\n",
    "for ideelle gasser.\n",
    "3. Hva er forskjellen på de to modellene for gasser som du har lagd programmer\n",
    "for ovenfor? Hvorfor har vi to modeller når den ene i utgangspunktet alltid gir mer nøyaktige resultater enn den andre?\n",
    "\n",
    "#### Løsning:"
   ]
  },
  {
   "cell_type": "code",
   "execution_count": null,
   "metadata": {},
   "outputs": [],
   "source": [
    "#1\n"
   ]
  },
  {
   "cell_type": "code",
   "execution_count": null,
   "metadata": {},
   "outputs": [],
   "source": [
    "#2\n"
   ]
  },
  {
   "cell_type": "code",
   "execution_count": null,
   "metadata": {},
   "outputs": [],
   "source": [
    "#3\n"
   ]
  },
  {
   "cell_type": "markdown",
   "metadata": {},
   "source": [
    "### Oppgave 1.35\n",
    "Funksjoner kan også ta inn andre funksjoner som argument. I matematikken kalles en funksjon $f$ for sammensatt dersom $f(x) = g(u(x))$. Programmet under skal regne ut $f(x)$ gitt funksjonene $u$, $g$ og verdien $x$. Erstatt alle spørsmålstegn(?) slik at programmet under vil kjøre og regne ut $f(x) = g(u(x))$."
   ]
  },
  {
   "cell_type": "code",
   "execution_count": null,
   "metadata": {},
   "outputs": [],
   "source": [
    "import ? as np\n",
    "\n",
    "def g(x):\n",
    "   return ?.sqrt(x)\n",
    "\n",
    "def u(x):\n",
    "   return x**2 + 7\n",
    "\n",
    "def f(g,u,x):\n",
    "   return g(u(x))\n",
    "\n",
    "x=3\n",
    "print(f'f(x) = g(u(x)) = {f(?,?,?)} for x = {x}')"
   ]
  },
  {
   "cell_type": "markdown",
   "metadata": {},
   "source": [
    "#### Løsning:"
   ]
  },
  {
   "cell_type": "code",
   "execution_count": 64,
   "metadata": {},
   "outputs": [
    {
     "name": "stdout",
     "output_type": "stream",
     "text": [
      "f(x) = g(u(x)) = 4.0 for x = 3\n"
     ]
    }
   ],
   "source": [
    "# import numpy as np    ---  importert øverst\n",
    "\n",
    "def g(x):\n",
    "   return np.sqrt(x)\n",
    "\n",
    "def u(x):\n",
    "   return x**2 + 7\n",
    "\n",
    "def f(g,u,x):\n",
    "   return g(u(x))\n",
    "\n",
    "x=3\n",
    "\n",
    "print(f'f(x) = g(u(x)) = {f(g,u,x)} for x = {x}')\n"
   ]
  },
  {
   "cell_type": "markdown",
   "metadata": {},
   "source": [
    "### Oppgave 1.36 (Matematikk R1)\n",
    "Lag et program som finner ut hvor mange kombinasjoner det er mulig å gjøre fra et utvalg av $r$ elever fra totalt $n$ elever der rekkefølgen ikke har noen betydning. Du kan bestemme selv om verdiene for $n$ og $r$ skal være bestemte verdier i koden eller bli gitt fra brukeren som input.\n",
    "\n",
    "#### Løsning:"
   ]
  },
  {
   "cell_type": "code",
   "execution_count": 70,
   "metadata": {},
   "outputs": [
    {
     "name": "stdout",
     "output_type": "stream",
     "text": [
      "nCr(4,14) = 1001.0\n"
     ]
    }
   ],
   "source": [
    "r = 4\n",
    "n = 14\n",
    "\n",
    "def nCr(r, n):\n",
    "    return np.math.factorial(n) / ( np.math.factorial(r) * np.math.factorial(n-r) )\n",
    "\n",
    "print(f'nCr({r},{n}) = {nCr(r, n)}')"
   ]
  },
  {
   "cell_type": "markdown",
   "metadata": {},
   "source": [
    "### Oppgave1.37\n",
    "Skriv en funksjon som tar inn ei rente i prosent, et beløp og et antall år $t$. Beløpet skal ligge i en bankkonto som argumenter. La funksjonen beregne og returnere hva beløpet blir når det tas ut fra kontoen etter $t$ år. Test om funksjonen din gir omtrent ≈ $162.89$ kroner etter at $100$ kr med $5$ % rente har ligget i bankkontoen i $10$ år.\n",
    "\n",
    "#### Løsning:"
   ]
  },
  {
   "cell_type": "code",
   "execution_count": 73,
   "metadata": {},
   "outputs": [
    {
     "name": "stdout",
     "output_type": "stream",
     "text": [
      "100 kr vil vokse til 162.89 på 10 år hvis renta er 5%\n"
     ]
    }
   ],
   "source": [
    "r = 5\n",
    "b = 100\n",
    "t = 10\n",
    "\n",
    "def nyttBeløp(r, b, t):\n",
    "    return b * (1 + r/100)**t\n",
    "\n",
    "print(f'{b} kr vil vokse til {nyttBeløp(r, b, t):.2f} på {t} år hvis renta er {r}%')"
   ]
  }
 ],
 "metadata": {
  "kernelspec": {
   "display_name": "Python 3",
   "language": "python",
   "name": "python3"
  },
  "language_info": {
   "codemirror_mode": {
    "name": "ipython",
    "version": 3
   },
   "file_extension": ".py",
   "mimetype": "text/x-python",
   "name": "python",
   "nbconvert_exporter": "python",
   "pygments_lexer": "ipython3",
   "version": "3.6.6"
  }
 },
 "nbformat": 4,
 "nbformat_minor": 2
}
