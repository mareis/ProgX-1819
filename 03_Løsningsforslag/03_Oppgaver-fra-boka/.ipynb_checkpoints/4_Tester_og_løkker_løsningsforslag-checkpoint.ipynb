{
 "cells": [
  {
   "cell_type": "markdown",
   "metadata": {},
   "source": [
    "### Biblioteker til oppgavene\n",
    "\n",
    "<style>\n",
    "    img{\n",
    "        display: block;\n",
    "        margin-left: auto;\n",
    "        margin-right: auto;\n",
    "    }\n",
    "    img.flyt{\n",
    "        display: inline;\n",
    "        float: left\n",
    "    }\n",
    "    table {\n",
    "        width:100%;\n",
    "    }\n",
    "</style>"
   ]
  },
  {
   "cell_type": "code",
   "execution_count": 631,
   "metadata": {},
   "outputs": [],
   "source": [
    "import numpy as np\n",
    "import scipy.special as sps"
   ]
  },
  {
   "cell_type": "markdown",
   "metadata": {},
   "source": [
    "## 4.1.1 If-tester\n",
    "### Oppgave 4.1\n",
    "Lag et program som spør brukeren om alderen til brukeren. Skriv ut en kommentar som avhenger av om alderen er under eller over 17. Utvid programmet til å skille mellom flere aldre.\n",
    "\n",
    "#### Løsning:"
   ]
  },
  {
   "cell_type": "code",
   "execution_count": 3,
   "metadata": {},
   "outputs": [
    {
     "name": "stdout",
     "output_type": "stream",
     "text": [
      "Du er over 17 år.\n"
     ]
    }
   ],
   "source": [
    "alder = int(input('Skriv inn alderen din: ''))\n",
    "grense = 17\n",
    "                  \n",
    "if alder < grense:\n",
    "    print(f'Du er er under {grense} år.')\n",
    "elif alder == grense:\n",
    "    print(f'Du er er {grense} år gammel.')\n",
    "else: \n",
    "    print(f'Du er over {grense} år.')"
   ]
  },
  {
   "cell_type": "markdown",
   "metadata": {},
   "source": [
    "### Oppgave 4.2\n",
    "Lagetprogramsomtarettallsominput.Programmetskalsåvurdere og skrive ut om tallet er et positivt tall, negativt tall eller null.\n",
    "#### Løsning:"
   ]
  },
  {
   "cell_type": "code",
   "execution_count": 1,
   "metadata": {},
   "outputs": [
    {
     "name": "stdin",
     "output_type": "stream",
     "text": [
      "Skriv inn et heltall:  2\n"
     ]
    },
    {
     "name": "stdout",
     "output_type": "stream",
     "text": [
      "Tallet 2 er over 0.\n"
     ]
    }
   ],
   "source": [
    "tall = int(input('Skriv inn et heltall: '))\n",
    "\n",
    "if tall < 0:\n",
    "    print(f'Tallet {tall} er under 0.')\n",
    "elif tall == 0:\n",
    "    print(f'Tallet {tall} er lik 0.')\n",
    "else: \n",
    "    print(f'Tallet {tall} er over 0.')"
   ]
  },
  {
   "cell_type": "markdown",
   "metadata": {},
   "source": [
    "### Oppgave 4.3\n",
    "Lagetprogramsomtarettallsominput.Programmetskalsåvurdere og skrive ut om tallet er et heltall eller flyttall.\n",
    "#### Løsning:"
   ]
  },
  {
   "cell_type": "code",
   "execution_count": 35,
   "metadata": {},
   "outputs": [
    {
     "name": "stdout",
     "output_type": "stream",
     "text": [
      "Tallet 2 er ikke en int.\n"
     ]
    }
   ],
   "source": [
    "#Her er problemet at input tar kun string (tekst) som parameter. Metoden under fra boka (s56) vil ikke fungere.\n",
    "tall = input('Skriv inn et tall: ')\n",
    "if type(tall) != int:\n",
    "    print(f'Tallet {tall} er ikke en int.')"
   ]
  },
  {
   "cell_type": "code",
   "execution_count": 36,
   "metadata": {},
   "outputs": [
    {
     "name": "stdout",
     "output_type": "stream",
     "text": [
      "Tallet 2 er et heltall.\n"
     ]
    }
   ],
   "source": [
    "#Vi kan undersøke om tallet som brukeren tastet inn er et desimaltall\n",
    "tall = float(input('Skriv inn et tall: '))\n",
    "if tall == int(tall):\n",
    "    tall = int(tall)  #Gjør det om til int hvis det er et heltall.\n",
    "    print(f'Tallet {tall} er et heltall.')\n",
    "else: \n",
    "    print(f'Tallet {tall} er et desimaltall.')"
   ]
  },
  {
   "cell_type": "markdown",
   "metadata": {},
   "source": [
    "### Oppgave 4.4\n",
    "Lag en funksjon som tar to argumenter som skal være tall. Funksjo- nen skal finne det minste tallet og skrive ut dette.\n",
    "#### Løsning:"
   ]
  },
  {
   "cell_type": "code",
   "execution_count": 50,
   "metadata": {},
   "outputs": [
    {
     "name": "stdout",
     "output_type": "stream",
     "text": [
      "3 er det minste tallet.\n"
     ]
    }
   ],
   "source": [
    "def minst_av_to(a, b):\n",
    "    if a<b:\n",
    "        return a\n",
    "    elif a>b:\n",
    "        return b\n",
    "    \n",
    "tall = minst_av_to(10, 3)\n",
    "print(f'{tall} er det minste tallet.')"
   ]
  },
  {
   "cell_type": "markdown",
   "metadata": {},
   "source": [
    "### Oppgave 4.5\n",
    "Lag en funksjon som tar to argumenter som skal være tall. Funk- sjonen skal avgjøre om det første tallet er minst og skrive ut True dersom dette stemmer.\n",
    "#### Løsning:"
   ]
  },
  {
   "cell_type": "code",
   "execution_count": 54,
   "metadata": {},
   "outputs": [
    {
     "name": "stdout",
     "output_type": "stream",
     "text": [
      "Det er True at dt første tallet er størst.\n"
     ]
    }
   ],
   "source": [
    "def forst_er_storst(a, b):\n",
    "    return a > b\n",
    "\n",
    "tall = forst_er_storst(4, 2)\n",
    "print(f'Det er {tall} at dt første tallet er størst.')"
   ]
  },
  {
   "cell_type": "markdown",
   "metadata": {},
   "source": [
    "### Oppgave 4.6\n",
    "Lag en funksjon som tar en poengsum som argument. Programmet skal finne ut hvilken karakter du får dersom maks poengsum er 60 poeng. Finn på karaktergrenser selv.\n",
    "Utvid programmet til å ta maks poengsum som et tilleggsargument. Programmet\n",
    "skal benytte prosenter av denne makssummen til å regne ut sluttkarakteren. Lag prosentgrensene selv.\n",
    "Lag til slutt en funksjon som i tillegg tar alle poenggrensene som argumenter, enten som poeng eller prosenter av poengene.\n",
    "#### Løsning:"
   ]
  },
  {
   "cell_type": "code",
   "execution_count": 71,
   "metadata": {},
   "outputs": [
    {
     "name": "stdout",
     "output_type": "stream",
     "text": [
      "Karakterenr: 5.\n"
     ]
    }
   ],
   "source": [
    "def karakter(poeng):\n",
    "    if poeng >= 57:\n",
    "        return 6\n",
    "    elif poeng >= 48:\n",
    "        return 5\n",
    "    elif poeng >= 37:\n",
    "        return 4\n",
    "    elif poeng >= 29:\n",
    "        return 3\n",
    "    elif poeng >= 18:\n",
    "        return 2\n",
    "    else:\n",
    "        return 1\n",
    "\n",
    "tildelt_karakter = karakter(48.5)\n",
    "print(f'Karakterenr: {tildelt_karakter}.')"
   ]
  },
  {
   "cell_type": "markdown",
   "metadata": {},
   "source": [
    "### Oppgave 4.6 - Utvidet\n",
    "#### Løsning:"
   ]
  },
  {
   "cell_type": "code",
   "execution_count": 73,
   "metadata": {},
   "outputs": [
    {
     "name": "stdout",
     "output_type": "stream",
     "text": [
      "Karakterenr: 3.\n"
     ]
    }
   ],
   "source": [
    "def karakter(poeng, maks):\n",
    "    faktor = poeng/maks\n",
    "    if faktor >= 0.96:\n",
    "        return 6\n",
    "    elif faktor >= 0.80:\n",
    "        return 5\n",
    "    elif faktor >= 0.64:\n",
    "        return 4\n",
    "    elif faktor >= 0.48:\n",
    "        return 3\n",
    "    elif faktor >= 0.30:\n",
    "        return 2\n",
    "    else:\n",
    "        return 1\n",
    "\n",
    "tildelt_karakter = karakter(48.5, 100)  \n",
    "print(f'Karakterenr: {tildelt_karakter}.')"
   ]
  },
  {
   "cell_type": "markdown",
   "metadata": {},
   "source": [
    "### Oppgave 4.7\n",
    "Lag et program som spør om brukeren har Windows-PC eller Mac. Lag et oppfølgingsspørsmål på hver av disse, der du gir to eller tre alternativer. Du kan for eksempel spørre om hvorfor brukeren har Windows-PC eller Mac. Skriv ut en passende kommentar til svaret.\n",
    "#### Løsning:"
   ]
  },
  {
   "cell_type": "code",
   "execution_count": 5,
   "metadata": {},
   "outputs": [
    {
     "name": "stdout",
     "output_type": "stream",
     "text": [
      "Så bra du er fornøyd Mac-en!\n"
     ]
    }
   ],
   "source": [
    "svar = input('Skriv \"Windows-PC\"hvis du har det og \"Mac\" hvis du har det. ')\n",
    "if svar == 'Mac' or svar == 'Windows-PC':\n",
    "    svar2 = input(f'Er du \"fornøyd\", \"ikke-fornøyd\", \"vet-ikke\" med {svar}-en')\n",
    "else:\n",
    "    print(\"Du hu har skrevet inn et ugyldig alternativ.\")\n",
    "    \n",
    "if svar2 == 'fornøyd':\n",
    "    print(f'Så bra du er fornøyd {svar}-en!')\n",
    "elif svar2 == 'ikke-fornøyd':\n",
    "    print(f'Det var leit å høre at {svar}-en ikke oppfyller forventningene dine.')\n",
    "elif svar2 == 'vet-ikke':\n",
    "    print('Det må du finne ut av')\n",
    "else:\n",
    "    print(\"Du hu har skrevet inn et ugyldig alternativ.\")"
   ]
  },
  {
   "cell_type": "markdown",
   "metadata": {},
   "source": [
    "### Oppgave 4.8\n",
    "Gjør som i forrige oppgavene, men lag spørsmålene og alternativene helt selv. Prøv å få til tre nøstede if-setninger (if-setninger i if-setninger).\n",
    "#### Løsning:"
   ]
  },
  {
   "cell_type": "code",
   "execution_count": 6,
   "metadata": {},
   "outputs": [],
   "source": [
    "#Det er greit å øve på nestede if-setninger, men det er ikke ønskelig. \n",
    "#Koden blir vanskelig å lese og det finnes bedre alternativer"
   ]
  },
  {
   "cell_type": "markdown",
   "metadata": {},
   "source": [
    "### Oppgave 4.9\n",
    "Lag en kalkulator der brukeren kan taste inn to tall og velge regne- operasjon.\n",
    "#### Løsning:"
   ]
  },
  {
   "cell_type": "code",
   "execution_count": 21,
   "metadata": {},
   "outputs": [
    {
     "name": "stdout",
     "output_type": "stream",
     "text": [
      "Du har skrevet inn en ugyldig operasjon.\n"
     ]
    }
   ],
   "source": [
    "a = float(input('Skriv inn et tall: '))\n",
    "b = float(input('Skriv inn et tall til: '))\n",
    "operasjon = input('Hva vil du gjøre med tallene? (+ - * /): ')\n",
    "\n",
    "if operasjon == '+':\n",
    "    print(f'{a} {operasjon} {b} = {a+b}')\n",
    "elif operasjon == '-':\n",
    "    print(f'{a} {operasjon} {b} = {a-b}')\n",
    "elif operasjon == '*':\n",
    "    print(f'{a} {operasjon} {b} = {a*b}')\n",
    "if operasjon == '/':\n",
    "    print(f'{a} {operasjon} {b} = {a/b}')\n",
    "else:\n",
    "    print(\"Du har skrevet inn en ugyldig operasjon.\")"
   ]
  },
  {
   "cell_type": "markdown",
   "metadata": {},
   "source": [
    "### Oppgave 4.10\n",
    "Lag et lite eventyrspill der spilleren får ulike valg underveis, og historien formes av valgene spilleren tar. Det letteste er å lage en lineær historie, men du kan godt utfordre deg selv på å gjøre spillet ikke-lineært.\n",
    "#### Løsning:"
   ]
  },
  {
   "cell_type": "code",
   "execution_count": 23,
   "metadata": {},
   "outputs": [],
   "source": [
    "#;-)"
   ]
  },
  {
   "cell_type": "markdown",
   "metadata": {},
   "source": [
    "### Oppgave 4.12\n",
    "(Fysikk)\n",
    "\n",
    "Lag et program der du kan taste inn bølgelengden til synlig lys i nm og få ut hvilken farge lyset har. Utvid eventuelt prorammet med andre deler av det elektromagnetiske spekteret.\n",
    "<img src='http://docplayer.me/docs-images/17/80591/images/47-0.jpg' width='500px'>\n",
    "#### Løsning:"
   ]
  },
  {
   "cell_type": "code",
   "execution_count": 25,
   "metadata": {},
   "outputs": [
    {
     "name": "stdout",
     "output_type": "stream",
     "text": [
      "450.0nm gir blått lys.\n"
     ]
    }
   ],
   "source": [
    "bl = float(input(\"Skriv inn lysets bølgelengde: \"))\n",
    "if bl < 400 or bl >700:\n",
    "    print(f'Lys med den oppgitte bølgelengden {bl} er ikke synlig')\n",
    "elif bl >= 625:\n",
    "    print(f'{bl}nm gir rødt lys.')\n",
    "elif bl >= 590:\n",
    "    print(f'{bl}nm gir oransje lys.')\n",
    "elif bl >= 565:\n",
    "    print(f'{bl}nm gir gult lys.')\n",
    "elif bl >= 490:\n",
    "    print(f'{bl}nm gir grønt lys.')\n",
    "elif bl >= 440:\n",
    "    print(f'{bl}nm gir blått lys.')\n",
    "elif bl >= 420:\n",
    "    print(f'{bl}nm gir indigo lys.')\n",
    "elif bl >= 400:\n",
    "    print(f'{bl}nm gir lilla lys.')\n"
   ]
  },
  {
   "cell_type": "markdown",
   "metadata": {},
   "source": [
    "### Oppgave 4.13 \n",
    "Lag et program som spør brukeren om han/hun vil konvertere fra tommer (inch) til cm, eller fra cm til tommer. Dersom brukeren skriver noe annet, skal en feilmelding skrives ut.\n",
    "Programmet skal så be brukeren om å skrive inn den ønskede størrelsen (i tommer eller cm) og deretter utføre den ønskede konverteringa. Du kan bruke at 1 tommer = 2.54 cm.\n",
    "#### Løsning:"
   ]
  },
  {
   "cell_type": "code",
   "execution_count": 45,
   "metadata": {},
   "outputs": [
    {
     "name": "stdout",
     "output_type": "stream",
     "text": [
      "7.0tommer = 2.76cm\n"
     ]
    }
   ],
   "source": [
    "svar = input('Skriv \"a\" for å konvertere fra tommer til cm, og \"b\" for å konvertere fra cm til tommer. ')\n",
    "if svar == 'a':\n",
    "    tall = float(input('Skriv inn tallet du ønsker å konvertere. '))\n",
    "    print(f'{tall}cm = {tall*2.54}tommer')\n",
    "elif svar == 'b':\n",
    "    tall = float(input('Skriv inn tallet du ønsker å konvertere. '))\n",
    "    print(f'{tall}tommer = {tall/2.54:.2f}cm')\n",
    "else:\n",
    "    print(f'{svar} er en ugyldig kommando')\n"
   ]
  },
  {
   "cell_type": "markdown",
   "metadata": {},
   "source": [
    "### Oppgave 4.14\n",
    "(Matematikk R1)\n",
    "\n",
    "Lag et program som regner ut funksjonen $g(x)=3x^4+5x^3+7x^2+x-3.0625$ or en verdi av x gitt av brukeren. Programmet skal skrive ut en melding om x − x-verdien fra brukeren er en faktor i g eller ikke.\n",
    "#### Løsning:"
   ]
  },
  {
   "cell_type": "code",
   "execution_count": 58,
   "metadata": {},
   "outputs": [
    {
     "name": "stdout",
     "output_type": "stream",
     "text": [
      "g(0.5)=0.0, (x-0.5) er en faktor i g.\n"
     ]
    }
   ],
   "source": [
    "x = float(input('Skriv inn x-verdi: '))\n",
    "g = 3*x**4 + 5*x**3 + 7*x**2 + x - 3.0625\n",
    "faktor = \"er ikke\"\n",
    "if g == 0:\n",
    "    faktor = \"er\"\n",
    "    \n",
    "print(f'g({x})={g}, (x-{x}) {faktor} en faktor i g.')"
   ]
  },
  {
   "cell_type": "markdown",
   "metadata": {},
   "source": [
    "### Oppgave 4.15\n",
    "(Biologi): Hardy-Weinbergs-likevekt\n",
    "\n",
    "<p> Vi skal se på en populasjon av mennesker og ser på et gen som finnes i to varianter: $a$ og $A$. Andelen av populasjonen som har variant a kan vi kalle for p og andelen av populasjonen som har variant $A$ kan vi kalle for $q$. Verdiene til $p$ og $q$ må være mellom $0$ og $1$. Siden alle i populasjonen vil ha enten $a$ eller $A$ (eller begge), må $p + q = 1$.</p>\n",
    "<img src='https://upload.wikimedia.org/wikipedia/commons/b/b2/Hardy-Weinberg.svg' width='500px'>\n",
    "<p>Populasjonen sies å være i Hardy-Weinberg-likevekt dersom verdiene til p og q ikke forandrer seg under forutsetningen at det foregår tilfeldig paring, ingen mutasjoner, ingen naturlig seleksjon og ingen evolusjon i populasjonen. Dersom populasjonen er i Hardy-Weinberg-likevekt kan en finne andelen til de tre mulige genotypene til menneskene i populasjonen:</p>\n",
    "<ul>\n",
    "    <li>$AA : p^2$</li>\n",
    "    <li>$Aa : 2pq$</li>\n",
    "    <li>$aa : q^2$</li>\n",
    "</ul>\n",
    "<p>Lag et program som ber brukeren om verdien til p og q. Programmet skal så teste om p + q = 1. Hvis summen er 1, skal programmet regne ut andelene til de tre mulige genotypene, og skrive dem ut. Hvis summen ikke er 1, skal programmet skrive en feilmelding.</p>\n",
    "#### Løsning:"
   ]
  },
  {
   "cell_type": "code",
   "execution_count": 64,
   "metadata": {},
   "outputs": [
    {
     "name": "stdout",
     "output_type": "stream",
     "text": [
      "AA: 0.09\n",
      "Aa: 0.42\n",
      "aa: 0.49\n"
     ]
    }
   ],
   "source": [
    "p = float(input('Skriv inn p-verdien: '))\n",
    "q = float(input('Skriv inn q-verdien: '))\n",
    "if p + q == 1:\n",
    "    print(f'AA: {p**2:.2f}')\n",
    "    print(f'Aa: {2*p*q:.2f}')\n",
    "    print(f'aa: {q**2:.2f}')\n",
    "else:\n",
    "    print(f'{p} =! {q}')"
   ]
  },
  {
   "cell_type": "markdown",
   "metadata": {},
   "source": [
    "### Oppgave 4.16\n",
    "(Fysikk): Heisenbergs uskarphetsrelasjon\n",
    " \n",
    "Heisenbergs uskarphetsrelasjon forteller at det er ikke er mulig å ha en presis måling av en partikkels posisjon og bevegelsesmengde1samtidig. Det er altså en viss relasjon mellom hvor nøyaktig en måling kan være av posisjon og bevegelsesmengde. Matematisk kan en skrive dette som\n",
    "$$\\Delta x \\cdot \\Delta p \\geq \\frac{h}{2}$$\n",
    "der vi bruker at $h = 1.055 · 10−34$ J, og $∆x$ og $∆p$ er mål på hvor nøyaktig en måling av henholdsvis posisjon og bevegelsesmengde er. Skriv et program som ber brukeren\n",
    "om å skrive inn en verdi for ∆x og ∆p. Programmet skal så teste om Heisenbergs uskarphetsrelasjon vil holde for den gitte $∆x$ og $∆p$ og skrive ut en melding som forteller om relasjonen holder eller ikke. <b>Tips:</b> Et lite tall som f.eks $2.29 · 10^{−29}$ kan\n",
    "representeres ved $2.29e-29$.\n",
    "#### Løsning:"
   ]
  },
  {
   "cell_type": "code",
   "execution_count": 67,
   "metadata": {},
   "outputs": [
    {
     "name": "stdout",
     "output_type": "stream",
     "text": [
      "Heisenbergs uskarphetsrelasjon holder.\n"
     ]
    }
   ],
   "source": [
    "h = 1.055e-35\n",
    "delta_x = float(input('Delta x: '))\n",
    "delta_p = float(input('Delta p: '))\n",
    "\n",
    "if delta_x*delta_p >= h/2:\n",
    "    print('Heisenbergs uskarphetsrelasjon holder.')\n",
    "else:\n",
    "    print('Heisenbergs uskarphetsrelasjon holder ikke.')"
   ]
  },
  {
   "cell_type": "markdown",
   "metadata": {},
   "source": [
    "### Oppgave 4.17\n",
    "Kari liker å sove lenge. Hun blir veldig fornøyd hvis hun får sove 10 timer og ikke kommer for seint til skolen. For at hun ikke skal komme for seint, må hun seinest stå opp klokka 06:00.\n",
    "\n",
    "#### a)\n",
    "For at Kari skal sove til neste dag, må hun tidligst legge seg klokka 14:00. Lag  et program som ber brukeren om å skrive inn når Kari legger seg. Hun har litt OCD og legger seg kun ved hele timer, som er et heltall mellom 0 og 23. Programmet skal deretter teste om brukeren har gitt ei tid slik at Kari vil sove til neste dag. Hvis Kari ikke kommer til å sove til neste dag, skal programmet skrive en feilmelding.\n",
    "#### Løsning:\n",
    "\n"
   ]
  },
  {
   "cell_type": "code",
   "execution_count": 88,
   "metadata": {},
   "outputs": [
    {
     "name": "stdout",
     "output_type": "stream",
     "text": [
      "Kari vil sove til 06:00 neste dag\n"
     ]
    }
   ],
   "source": [
    "leggetid = float(input('Når legger Kari seg? '))\n",
    "vaknetid = (leggetid+10)%24\n",
    "if leggetid >= 14:\n",
    "    print(f'Kari vil sove til {vaknetid:02.0f}:00 neste dag')"
   ]
  },
  {
   "cell_type": "markdown",
   "metadata": {},
   "source": [
    "#### b)\n",
    "Utvid programmet ditt fra a) slik at det også tester om Kari vil rekke skolen\n",
    "hvis hun sover 10 timer fra det angitte tidspunktet.\n",
    "#### Løsning:"
   ]
  },
  {
   "cell_type": "code",
   "execution_count": 92,
   "metadata": {},
   "outputs": [
    {
     "name": "stdout",
     "output_type": "stream",
     "text": [
      "Kari vil sove til 07:00 neste dag med 10 timer søvn.\n",
      "Kari vil ikke rekke skolen.\n"
     ]
    }
   ],
   "source": [
    "leggetid = float(input('Når legger Kari seg? '))\n",
    "timer_sovn = 10\n",
    "vaknetid = (leggetid + timer_sovn)%24\n",
    "skole = 'rekke'\n",
    "\n",
    "if leggetid >= 14:\n",
    "    print(f'Kari vil sove til {vaknetid:02.0f}:00 neste dag med {timer_sovn} timer søvn.')\n",
    "    \n",
    "if vaknetid >= 6:\n",
    "    skole = 'ikke rekke'\n",
    "    \n",
    "print(f'Kari vil {skole} skolen.')"
   ]
  },
  {
   "cell_type": "markdown",
   "metadata": {},
   "source": [
    "### Oppfave 2.18\n",
    "Skriv om kodesnuttene under slik det står beskrevet.\n",
    "\n",
    "#### 1. \n",
    "Programmet skal ikke bruke and:"
   ]
  },
  {
   "cell_type": "code",
   "execution_count": 319,
   "metadata": {},
   "outputs": [
    {
     "name": "stdout",
     "output_type": "stream",
     "text": [
      "17\n"
     ]
    }
   ],
   "source": [
    "#Fra oppgaven\n",
    "tall = 15\n",
    "if 10 < tall and tall < 20:\n",
    "    tall = tall + 2\n",
    "else:\n",
    "    tall = tall +1\n",
    "print(tall)"
   ]
  },
  {
   "cell_type": "code",
   "execution_count": 94,
   "metadata": {},
   "outputs": [
    {
     "name": "stdout",
     "output_type": "stream",
     "text": [
      "17\n"
     ]
    }
   ],
   "source": [
    "#Løsning\n",
    "tall = 15\n",
    "if tall <= 10 or tall >=20:\n",
    "    tall = tall +1\n",
    "else:\n",
    "    tall = tall +2\n",
    "print(tall)"
   ]
  },
  {
   "cell_type": "markdown",
   "metadata": {},
   "source": [
    "#### 2.  \n",
    "På hver linje der det utføres +,-, * eller /, skal variabelen ikke forekomme på høyre side av likhetstegnet."
   ]
  },
  {
   "cell_type": "code",
   "execution_count": 119,
   "metadata": {},
   "outputs": [
    {
     "name": "stdout",
     "output_type": "stream",
     "text": [
      "10\n",
      "24\n",
      "-40.0\n"
     ]
    }
   ],
   "source": [
    "#Fra oppgaven\n",
    "a = 10\n",
    "print(a)\n",
    "a = a + 14\n",
    "print(a)\n",
    "a = a/3 -2*a\n",
    "print(a)"
   ]
  },
  {
   "cell_type": "code",
   "execution_count": 121,
   "metadata": {},
   "outputs": [
    {
     "name": "stdout",
     "output_type": "stream",
     "text": [
      "10\n",
      "24\n",
      "-40.0\n"
     ]
    }
   ],
   "source": [
    "#Løsning\n",
    "a = 10\n",
    "print(a)\n",
    "a += 14\n",
    "print(a)\n",
    "a *= (1/3 - 2)\n",
    "print(a)"
   ]
  },
  {
   "cell_type": "markdown",
   "metadata": {},
   "source": [
    "#### 3.\n",
    "Variablene c (lysets hastighet), G (gravitasjonskonstanten) og Msol (solmassen i kg) skal skrives om til standardform:"
   ]
  },
  {
   "cell_type": "code",
   "execution_count": 320,
   "metadata": {},
   "outputs": [
    {
     "name": "stdout",
     "output_type": "stream",
     "text": [
      "299792458 6.67408e-11 1988550000000000000000000000000\n"
     ]
    }
   ],
   "source": [
    "#Fra oppgaven\n",
    "c = 299792458\n",
    "G = 0.0000000000667408\n",
    "Msol = 1988550000000000000000000000000\n",
    "print(c, G, Msol)"
   ]
  },
  {
   "cell_type": "code",
   "execution_count": 130,
   "metadata": {},
   "outputs": [
    {
     "name": "stdout",
     "output_type": "stream",
     "text": [
      " c    = 3.00e+08 \n",
      " G    = 6.67e-11 \n",
      " Msol = 1.99e+30\n"
     ]
    }
   ],
   "source": [
    "c = 299792458\n",
    "G = 0.0000000000667408\n",
    "Msol = 1988550000000000000000000000000\n",
    "print(f' c    = {c:.2e} \\n G    = {G:.2e} \\n Msol = {Msol:.2e}' )"
   ]
  },
  {
   "cell_type": "markdown",
   "metadata": {},
   "source": [
    "### Oppgave 4.19\n",
    "I denne oppgava skal du få prøve deg på å lage ei digital klokke som beregner hva klokka er etter ei gitt tid.\n",
    "#### a)\n",
    "Skriv et program som tar inn et klokkeslett fra brukeren på formen tt:mm der tt står for time (en verdi mellom 0 og 23) og mm står for minutt (en verdi mellom 0 og 59). Dette kan lettest gjøres ved at programmet spør om en verdi for tt, og så om mm. Programmet skal så sjekke om tt er en verdi mellom 0 og 23 og om mm er en verdi mellom 0 og 59. Hvis ikke, skal det skrive ut en feilmelding.\n",
    "#### Løsning:"
   ]
  },
  {
   "cell_type": "code",
   "execution_count": 179,
   "metadata": {},
   "outputs": [
    {
     "name": "stdout",
     "output_type": "stream",
     "text": [
      "Du har skrevet inn noe feil. \n"
     ]
    }
   ],
   "source": [
    "klokke = input('Skriv inn klokkeslettet (tt:mm)  ')\n",
    "tt_ut = ''\n",
    "mm_ut = ''\n",
    "\n",
    "if klokke[0] != '0': \n",
    "    tt = int(klokke[0:2])\n",
    "else:\n",
    "    tt = int(klokke[1])\n",
    "\n",
    "if klokke[3] != '0':\n",
    "    mm = int(klokke[3:5])\n",
    "else:\n",
    "    mm = int(klokke[4])\n",
    "\n",
    "if tt < 0 or tt > 23 or mm < 0 or mm > 59 or len(klokke) != 5:\n",
    "    print('Du har skrevet inn noe feil. ')\n"
   ]
  },
  {
   "cell_type": "markdown",
   "metadata": {},
   "source": [
    "#### b)\n",
    "Utvidprogrammetfraa)slikatdersombrukerenhargittgyldigverdiforttog mm, så ber den brukeren om å skrive inn hvor mange timer og minutter det har gått. Her skal det gå an å skrive inn hvilket som helst antall timer og minutter.\n",
    "\n",
    "#### c)\n",
    "Utvid programmet ditt slik at den finner hvilket klokkeslett den digitale klokka vil være på etter det gitte antallet timer og minutter. Det nye klokkeslettet skal også være på formen tt:mm. Det er et par ting programmet må ta høyde for:\n",
    "-   Verdien til det nye tt må være mellom 0 og 23, og verdien til mm må være mellom 0 og 59. Her vil operatoren % være til veldig stor hjelp.\n",
    "-   Dersom det nye antallet av minutter er mindre enn det gamle antallet minutter, betyr det at antall timer må økes med 1. Et eksempel er klokke- slettet 10:10; hvis det har gått 51 minutter, vil det nye klokkeslettet bli\n",
    "11:01. Verdien for mm er nå 01, som er mindre enn 10.\n",
    "-   Dersom antall minutter er over 60, vil det tilsvare én time. Programmet ditt må kunne finne ut hvor mange timer som utgjør det gitte antallet\n",
    "minutter.\n",
    "\n",
    "Programmet skal til slutt skrive ut det nye klokkeslettet.\n",
    "#### Løsning:\n"
   ]
  },
  {
   "cell_type": "code",
   "execution_count": 369,
   "metadata": {},
   "outputs": [
    {
     "name": "stdout",
     "output_type": "stream",
     "text": [
      "---- 9 timer og 30 minutter etter 15:44 er klokken 00:14 ----\n"
     ]
    }
   ],
   "source": [
    "klokke = input(' Skriv inn klokkeslettet (tt:mm) :')\n",
    "tt_ut = ''\n",
    "mm_ut = ''\n",
    "tid_timer = 0\n",
    "tid_minutter = 0\n",
    "if klokke[0] != '0': \n",
    "    tt = int(klokke[0:2])\n",
    "else:\n",
    "    tt = int(klokke[1])\n",
    "\n",
    "if klokke[3] != '0':\n",
    "    mm = int(klokke[3:5])\n",
    "else:\n",
    "    mm = int(klokke[4])\n",
    "\n",
    "if tt < 0 or tt > 23 or mm < 0 or mm > 59 or len(klokke) != 5:\n",
    "    print('Du har skrevet inn noe feil. ') \n",
    "else:\n",
    "    tid_timer = int(input(f' Hvor mange timer har det gått etter {tt:02.0f}:{mm:02.0f}  '))\n",
    "    tid_minutter = int(input(f' Hvor mange minutter har det gått etter {tt:02.0f}:{mm:02.0f}  '))\n",
    "    \n",
    "tt_ny = tt + tid_timer \n",
    "mm_ny = mm + tid_minutter\n",
    "tt_ny += mm//60 #Helstallsivisjon\n",
    "tt_ny = tt_ny%24 #Resten av heltallsdivisjon\n",
    "mm_ny = mm_ny%60\n",
    "print(f'---- {tid_timer} timer og {tid_minutter} minutter etter {tt:02.0f}:{mm:02.0f} er klokken {tt_ny:02.0f}:{mm_ny:02.0f} ----')\n"
   ]
  },
  {
   "cell_type": "markdown",
   "metadata": {},
   "source": [
    "## 4.1.2 While-løkker\n",
    "### Oppgave 4.20\n",
    "Lag et motivasjonsprogram som skriver ut “Du er god!” et antall\n",
    "ganger som er gitt av brukeren.\n",
    "#### Løsning:"
   ]
  },
  {
   "cell_type": "code",
   "execution_count": 207,
   "metadata": {},
   "outputs": [
    {
     "name": "stdout",
     "output_type": "stream",
     "text": [
      "Du er god! \n",
      "Du er god! \n",
      "Du er god! \n",
      "Du er god! \n"
     ]
    }
   ],
   "source": [
    "ant = int(input('Antall utskrifter: '))\n",
    "i = 1\n",
    "while i <= ant:\n",
    "    print('Du er god! ')\n",
    "    i+=1"
   ]
  },
  {
   "cell_type": "markdown",
   "metadata": {},
   "source": [
    "### Oppgave 4.21\n",
    "Lag et program som skriver ut alle heltall fra og med 0 til og med 50. Bruk ei while-løkke.\n",
    "#### Løsning:"
   ]
  },
  {
   "cell_type": "code",
   "execution_count": 211,
   "metadata": {},
   "outputs": [
    {
     "name": "stdout",
     "output_type": "stream",
     "text": [
      "1 2 3 4 5 6 7 8 9 10 11 12 13 14 15 16 17 18 19 20 21 22 23 24 25 26 27 28 29 30 31 32 33 34 35 36 37 38 39 40 41 42 43 44 45 46 47 48 49 50 \n"
     ]
    }
   ],
   "source": [
    "n = 1\n",
    "utskrift = ''\n",
    "while n <= 50:\n",
    "    utskrift = utskrift + str(n) + ' '\n",
    "    n+=1\n",
    "print(utskrift)"
   ]
  },
  {
   "cell_type": "markdown",
   "metadata": {},
   "source": [
    "### Oppgave 4.22\n",
    "Lag et program som skriver ut annethvert heltall fra 100 til 200 (ikke til og med). Bruk ei while-løkke.\n",
    "#### Løsning:"
   ]
  },
  {
   "cell_type": "code",
   "execution_count": 213,
   "metadata": {},
   "outputs": [
    {
     "name": "stdout",
     "output_type": "stream",
     "text": [
      "100 102 104 106 108 110 112 114 116 118 120 122 124 126 128 130 132 134 136 138 140 142 144 146 148 150 152 154 156 158 160 162 164 166 168 170 172 174 176 178 180 182 184 186 188 190 192 194 196 198 200 \n"
     ]
    }
   ],
   "source": [
    "n = 100\n",
    "utskrift = ''\n",
    "while n <= 200:\n",
    "    utskrift = utskrift + str(n) + ' '\n",
    "    n+=2\n",
    "print(utskrift)"
   ]
  },
  {
   "cell_type": "markdown",
   "metadata": {},
   "source": [
    "### Oppgave 4.23 \n",
    "Lag et program som skriver ut en tabell med overskriftene “tall” og “rota av tallet”. Skriv ut tallene fra og med 0 til og med 100 med de respektive røttene i kolonnen til høyre. Du trenger ikke skillelinjer i tabellen, men prøv å få til et pent\n",
    "utskriftsformat.\n",
    "#### Vertikal løsning:"
   ]
  },
  {
   "cell_type": "code",
   "execution_count": 322,
   "metadata": {},
   "outputs": [
    {
     "name": "stdout",
     "output_type": "stream",
     "text": [
      "——————————————————————————————\n",
      "|   Tall   | Roten av tallet |\n",
      "——————————————————————————————\n",
      "|    1     |      1.00       |\n",
      "——————————————————————————————\n",
      "|    2     |      1.41       |\n",
      "——————————————————————————————\n",
      "|    3     |      1.73       |\n",
      "——————————————————————————————\n",
      "|    4     |      2.00       |\n",
      "——————————————————————————————\n",
      "|    5     |      2.24       |\n",
      "——————————————————————————————\n",
      "|    6     |      2.45       |\n",
      "——————————————————————————————\n",
      "|    7     |      2.65       |\n",
      "——————————————————————————————\n",
      "|    8     |      2.83       |\n",
      "——————————————————————————————\n",
      "|    9     |      3.00       |\n",
      "——————————————————————————————\n",
      "|    10    |      3.16       |\n",
      "——————————————————————————————\n"
     ]
    }
   ],
   "source": [
    "linje = f'——————————————————————————————'\n",
    "print(linje)\n",
    "print(f'|{\"Tall\":^10}|{\"Roten av tallet\":^17}|')\n",
    "n = 1\n",
    "while n <= 10: #Bytt ut 10 med 100 for rett svar\n",
    "    print( linje )\n",
    "    print(f'|{n:^10.0f}|{n**0.5:^17.2f}|')\n",
    "    n+=1\n",
    "    \n",
    "print(linje)"
   ]
  },
  {
   "cell_type": "markdown",
   "metadata": {},
   "source": [
    "#### Horisontal løsning"
   ]
  },
  {
   "cell_type": "code",
   "execution_count": 321,
   "metadata": {},
   "outputs": [
    {
     "name": "stdout",
     "output_type": "stream",
     "text": [
      "———————————————————————————————————————————————————————————————————————————————\n",
      "| Tall             | 1.0 | 2.0 | 3.0 | 4.0 | 5.0 | 6.0 | 7.0 | 8.0 | 9.0 |10.0 |\n",
      "———————————————————————————————————————————————————————————————————————————————\n",
      "| Roten av tallet  | 1.0 | 1.4 | 1.7 | 2.0 | 2.2 | 2.4 | 2.6 | 2.8 | 3.0 | 3.2 |\n",
      "———————————————————————————————————————————————————————————————————————————————\n"
     ]
    }
   ],
   "source": [
    "linje = '———————————————————'\n",
    "tall = f'| Tall             |'\n",
    "roten_av_tall = f'| Roten av tallet  |'\n",
    "\n",
    "n = 1\n",
    "while n <= 10: \n",
    "    linje += '——————'\n",
    "    tall += f'{n:4.1f} |'\n",
    "    roten_av_tall += f'{n**0.5:4.1f} |'\n",
    "    n+=1\n",
    "    \n",
    "print(linje)\n",
    "print(tall)\n",
    "print(linje)\n",
    "print(roten_av_tall)\n",
    "print(linje)"
   ]
  },
  {
   "cell_type": "markdown",
   "metadata": {},
   "source": [
    "### Oppgave 4.24\n",
    "Lag et program som skriver ut en tabell med overskriftene “tall” og “kvadratet av tallet”. Skriv ut annethvert tall fra og med 150 til (men ikke med) 200\n",
    "med kvadratet i kolonnen til høyre.\n",
    "#### Løsning:\n"
   ]
  },
  {
   "cell_type": "code",
   "execution_count": 327,
   "metadata": {},
   "outputs": [
    {
     "name": "stdout",
     "output_type": "stream",
     "text": [
      "——————————————————————————————\n",
      "|   Tall   | Roten av tallet |\n",
      "——————————————————————————————\n",
      "|   150    |      12.25      |\n",
      "——————————————————————————————\n",
      "|   151    |      12.29      |\n",
      "——————————————————————————————\n",
      "|   152    |      12.33      |\n",
      "——————————————————————————————\n",
      "|   153    |      12.37      |\n",
      "——————————————————————————————\n",
      "|   154    |      12.41      |\n",
      "——————————————————————————————\n",
      "|   155    |      12.45      |\n",
      "——————————————————————————————\n",
      "|   156    |      12.49      |\n",
      "——————————————————————————————\n",
      "|   157    |      12.53      |\n",
      "——————————————————————————————\n",
      "|   158    |      12.57      |\n",
      "——————————————————————————————\n",
      "|   159    |      12.61      |\n",
      "——————————————————————————————\n"
     ]
    }
   ],
   "source": [
    "linje = f'——————————————————————————————'\n",
    "print(linje)\n",
    "print(f'|{\"Tall\":^10}|{\"Roten av tallet\":^17}|')\n",
    "n = 150\n",
    "while n < 160: #Bytt 160 med 200 for rett svar\n",
    "    print( linje )\n",
    "    print(f'|{n:^10.0f}|{n**0.5:^17.2f}|')\n",
    "    n+=1\n",
    "    \n",
    "print(linje)"
   ]
  },
  {
   "cell_type": "markdown",
   "metadata": {},
   "source": [
    "### Oppgave 4.25\n",
    "Lag en tabell som skriver ut antall grader fra og med 0 til og med 180, med 10 grader mellom hver verdi. I den andre kolonnen skal det være sinusverdien av vinkelen. Husk at standard vinkelmål i Python er radianer, så du må korrigere for dette under utregninga. Bruk tre gjeldende siffer.\n",
    "#### Løsning:"
   ]
  },
  {
   "cell_type": "code",
   "execution_count": 341,
   "metadata": {},
   "outputs": [
    {
     "name": "stdout",
     "output_type": "stream",
     "text": [
      "———————————————————————————————————————————\n",
      "|  Vinkel i grader   | Sinus til vinkelen |\n",
      "———————————————————————————————————————————\n",
      "|         0          |        0.00        |\n",
      "———————————————————————————————————————————\n",
      "|         10         |        0.17        |\n",
      "———————————————————————————————————————————\n",
      "|         20         |        0.34        |\n",
      "———————————————————————————————————————————\n",
      "|         30         |        0.50        |\n",
      "———————————————————————————————————————————\n",
      "|         40         |        0.64        |\n",
      "———————————————————————————————————————————\n",
      "|         50         |        0.77        |\n",
      "———————————————————————————————————————————\n",
      "|         60         |        0.87        |\n",
      "———————————————————————————————————————————\n",
      "|         70         |        0.94        |\n",
      "———————————————————————————————————————————\n",
      "|         80         |        0.98        |\n",
      "———————————————————————————————————————————\n",
      "|         90         |        1.00        |\n",
      "———————————————————————————————————————————\n",
      "|        100         |        0.98        |\n",
      "———————————————————————————————————————————\n",
      "|        110         |        0.94        |\n",
      "———————————————————————————————————————————\n",
      "|        120         |        0.87        |\n",
      "———————————————————————————————————————————\n",
      "|        130         |        0.77        |\n",
      "———————————————————————————————————————————\n",
      "|        140         |        0.64        |\n",
      "———————————————————————————————————————————\n",
      "|        150         |        0.50        |\n",
      "———————————————————————————————————————————\n",
      "|        160         |        0.34        |\n",
      "———————————————————————————————————————————\n",
      "|        170         |        0.17        |\n",
      "———————————————————————————————————————————\n",
      "|        180         |        0.00        |\n",
      "———————————————————————————————————————————\n"
     ]
    }
   ],
   "source": [
    "linje = f'———————————————————————————————————————————'\n",
    "print(linje)\n",
    "print(f'|{\"Vinkel i grader\":^20}|{\"Sinus til vinkelen\":^20}|')\n",
    "n = 0\n",
    "while n <= 180: \n",
    "    print( linje )\n",
    "    print(f'|{n:^20.0f}|{np.sin(2*np.pi*n/360):^20.2f}|')\n",
    "    n+=10\n",
    "    \n",
    "print(linje)"
   ]
  },
  {
   "cell_type": "markdown",
   "metadata": {},
   "source": [
    "### Oppgave 4.26\n",
    "Lag et program som regner ut summen av de 100 første naturlige tallene.\n",
    "\n",
    "Et naturlig tall er i matematikken enten et positivt heltall (1, 2, 3,...) eller ikkenegativt heltall (0, 1, 2,...).\n",
    "\n",
    "Den første definisjonen brukes oftest i tallteorien og skrives: $\\mathbb{N}_0=\\{0, 1, 2, 3, ...\\}$\n",
    "\n",
    "Den siste brukes innenfor predikatlogikk, mengdelære og datateknologi og skrives: $\\mathbb{N}_1=\\{1, 2, 3, ...\\}$\n",
    "\n",
    "#### Løsning:"
   ]
  },
  {
   "cell_type": "code",
   "execution_count": 346,
   "metadata": {},
   "outputs": [
    {
     "name": "stdout",
     "output_type": "stream",
     "text": [
      "Summen av de hundre første tallene i N_0: 4950\n",
      "Summen av de hundre første tallene i N_1: 5050\n"
     ]
    }
   ],
   "source": [
    "#N_0\n",
    "sum1 = 0\n",
    "n = 0\n",
    "while n < 100:\n",
    "    sum1 += n\n",
    "    n += 1\n",
    "print(f'Summen av de hundre første tallene i N_0: {sum1}')\n",
    "\n",
    "#N_1\n",
    "sum2 = 0\n",
    "n = 1\n",
    "while n <= 100:\n",
    "    sum2 += n\n",
    "    n += 1\n",
    "print(f'Summen av de hundre første tallene i N_1: {sum2}')"
   ]
  },
  {
   "cell_type": "markdown",
   "metadata": {},
   "source": [
    "### Oppgave 4.27\n",
    "Lag et program som regner ut denne summen:\n",
    "$$\\sum_{n=0}^{50} \\frac{1}{2^n} $$\n",
    "#### Løsning:"
   ]
  },
  {
   "cell_type": "code",
   "execution_count": 354,
   "metadata": {},
   "outputs": [
    {
     "name": "stdout",
     "output_type": "stream",
     "text": [
      "Summen har verdien 2.000000\n"
     ]
    }
   ],
   "source": [
    "sum = 0\n",
    "n = 0\n",
    "while n <= 50:\n",
    "    sum += 1/(2**n)\n",
    "    n += 1\n",
    "print(f'Summen har verdien {sum:.6f}')"
   ]
  },
  {
   "cell_type": "markdown",
   "metadata": {},
   "source": [
    "### Oppgave 4.28\n",
    "Lag et program som regner ut denne summen:\n",
    "$$\\sum_{n=2}^{16} ((n^2+1)+n) $$\n",
    "#### Løsning:"
   ]
  },
  {
   "cell_type": "code",
   "execution_count": 357,
   "metadata": {},
   "outputs": [
    {
     "name": "stdout",
     "output_type": "stream",
     "text": [
      "Summen har verdien 1645.0\n"
     ]
    }
   ],
   "source": [
    "sum = 0\n",
    "n = 2\n",
    "while n <= 16:\n",
    "    sum += ((n**2 + 1) + n)\n",
    "    n+=1\n",
    "print(f'Summen har verdien {sum:.1f}')"
   ]
  },
  {
   "cell_type": "markdown",
   "metadata": {},
   "source": [
    "### Oppgave 4.29\n",
    "Lag et program som regner ut hvor lang tid det tar før du har en\n",
    "viss sum i banken, regna ut fra en startinvestering og ei rente.\n",
    "#### Løsning:"
   ]
  },
  {
   "cell_type": "code",
   "execution_count": 361,
   "metadata": {},
   "outputs": [
    {
     "name": "stdout",
     "output_type": "stream",
     "text": [
      "Det vil ta 24år å oppnå en en bankbeholdning på 203279.41kr\n"
     ]
    }
   ],
   "source": [
    "r = 3 #rente\n",
    "vf = 1 + r/100 #vekstfaktor\n",
    "bankbeholdning = 100000\n",
    "sparemal = 200000\n",
    "aar = 0\n",
    "#Løsning med løkke\n",
    "while bankbeholdning < sparemal:\n",
    "    bankbeholdning *= vf\n",
    "    aar += 1\n",
    "\n",
    "print(f'Det vil ta {aar}år å oppnå en en bankbeholdning på {bankbeholdning:.2f}kr')"
   ]
  },
  {
   "cell_type": "markdown",
   "metadata": {},
   "source": [
    "### Oppgave 4.30\n",
    "Lag et program der brukeren skal logge seg inn med brukernavn og passord. Gi først brukeren uendelig mange sjanser til å skrive inn riktig brukernavn og passord. Når dette programmet virker, utvid programmet til å gi brukeren kun tre sjanser på å skrive inn riktig kombinasjon.\n",
    "#### Løsning:"
   ]
  },
  {
   "cell_type": "code",
   "execution_count": 367,
   "metadata": {},
   "outputs": [
    {
     "name": "stdout",
     "output_type": "stream",
     "text": [
      "Brukernavn eller passord er feil. Prøv igjen.\n",
      "Brukernavn eller passord er feil. Prøv igjen.\n",
      "Brukernavn eller passord er feil. Prøv igjen.\n"
     ]
    }
   ],
   "source": [
    "brukernavn = 'root'\n",
    "passord = '123456789'\n",
    "innlogging = True\n",
    "antall_forsok = 1\n",
    "while innlogging and antall_forsok <= 3:\n",
    "    input_brukernavn = input('Tast inn ditt brukernavn: ')\n",
    "    input_passord = input('Tast inn ditt passord: ')\n",
    "    if input_brukernavn == brukernavn and input_passord == passord:\n",
    "        innlogging = False\n",
    "        print(f'Du er logget inn som {brukernavn} med passordet {passord}.')\n",
    "    else:\n",
    "        print('Brukernavn eller passord er feil. Prøv igjen.')\n",
    "    antall_forsok += 1"
   ]
  },
  {
   "cell_type": "markdown",
   "metadata": {},
   "source": [
    "### Oppgave 4.31\n",
    "\n",
    "(utfordring)\n",
    "\n",
    "Skriv et program som tar inn et heltall fra brukeren. Programmet skal så sjekke om heltallet inneholder sifferet 7 og skrive ut resultatet.\n",
    "\n",
    "<b>Tips:</b> Her kan det være nyttig å bruke heltallsdivisjon // for å bevege seg gjen- nom tallets tierplass, hundreplass osv. Det vil også være nyttig å vite tallets største tierpotens, som kan finnes ved floor(log10(tall )). Funksjonen floor runder av et tall til nærmeste heltall som er mindre eller lik tallet selv.\n",
    "#### Løsning:\n"
   ]
  },
  {
   "cell_type": "code",
   "execution_count": 406,
   "metadata": {},
   "outputs": [
    {
     "name": "stdout",
     "output_type": "stream",
     "text": [
      "Tallet 757374752709 inneholder 5 7-ere\n"
     ]
    }
   ],
   "source": [
    "antall_syvere = 0\n",
    "input_heltall = int(input('Skriv inn et heltall:  '))\n",
    "temp_heltall = input_heltall\n",
    "n = np.floor(np.log10(input_heltall)) #Største tierpotens\n",
    "\n",
    "while n >= 0:\n",
    "    tall = temp_heltall // 10**n\n",
    "    if tall == 7:\n",
    "        antall_syvere += 1\n",
    "    temp_heltall -= tall*10**n\n",
    "    n -= 1\n",
    "    \n",
    "print(f'Tallet {input_heltall} inneholder {antall_syvere} 7-ere')"
   ]
  },
  {
   "cell_type": "markdown",
   "metadata": {},
   "source": [
    "#### Løsning med traversering av streng:"
   ]
  },
  {
   "cell_type": "code",
   "execution_count": 407,
   "metadata": {},
   "outputs": [
    {
     "name": "stdout",
     "output_type": "stream",
     "text": [
      "Tallet 757374752709 inneholder 5 7-ere\n"
     ]
    }
   ],
   "source": [
    "antall_syvere = 0\n",
    "input_heltall = input('Skriv inn et heltall:  ')\n",
    "lengde_til_heltall = len(input_heltall)\n",
    "n = 0\n",
    "while n < lengde_til_heltall:\n",
    "    if inputt_heltall[n] == '7':\n",
    "        antall_syvere += 1\n",
    "    n += 1\n",
    "\n",
    "print(f'Tallet {input_heltall} inneholder {antall_syvere} 7-ere')"
   ]
  },
  {
   "cell_type": "markdown",
   "metadata": {},
   "source": [
    "## 4.1.3 For-løkker\n",
    "### Oppgave 4.32\n",
    "Løs et utvalg av oppgavene 4.18–4.27 med for-løkker istedenfor\n",
    "while-løkker."
   ]
  },
  {
   "cell_type": "code",
   "execution_count": 408,
   "metadata": {},
   "outputs": [],
   "source": [
    "# Prøv selv (i oppgavene 2.20 til 2.28 eiener for-løkke seg bedre enn while-løkke)"
   ]
  },
  {
   "cell_type": "markdown",
   "metadata": {},
   "source": [
    "### Oppgave 4.33\n",
    "Lag et program som skriver ut:\n",
    "1. Alle heltall fra og med 0 til og med 100.\n",
    "2. Alle heltall fra 50 til 75.\n",
    "3. Alle partall fra og med 0 til og med 100.\n",
    "4. Alle oddetall fra og med 0 til og med 100.\n",
    "5. (<b>Utfordring</b>) Alle primtall til og med 100 (hint: bruk heltallsdivisjon og/eller\n",
    "modulus).\n",
    "\n",
    "#### Løsning:"
   ]
  },
  {
   "cell_type": "code",
   "execution_count": 430,
   "metadata": {},
   "outputs": [
    {
     "name": "stdout",
     "output_type": "stream",
     "text": [
      "Heltall 0 til og med 100:\n",
      "0 1 2 3 4 5 6 7 8 9 10 11 12 13 14 15 16 17 18 19 20 21 22 23 24 25 26 27 28 29 30 31 32 33 34 35 36 37 38 39 40 41 42 43 44 45 46 47 48 49 50 51 52 53 54 55 56 57 58 59 60 61 62 63 64 65 66 67 68 69 70 71 72 73 74 75 76 77 78 79 80 81 82 83 84 85 86 87 88 89 90 91 92 93 94 95 96 97 98 99 100 \n",
      "\n",
      "Heltall 50 til og med 75:\n",
      "50 51 52 53 54 55 56 57 58 59 60 61 62 63 64 65 66 67 68 69 70 71 72 73 74 75 \n",
      "\n",
      "Partall 0 til og med 100:\n",
      "0 2 4 6 8 10 12 14 16 18 20 22 24 26 28 30 32 34 36 38 40 42 44 46 48 50 52 54 56 58 60 62 64 66 68 70 72 74 76 78 80 82 84 86 88 90 92 94 96 98 100 \n",
      "\n",
      "Oddetall 0 til og med 100:\n",
      "1 3 5 7 9 11 13 15 17 19 21 23 25 27 29 31 33 35 37 39 41 43 45 47 49 51 53 55 57 59 61 63 65 67 69 71 73 75 77 79 81 83 85 87 89 91 93 95 97 99 \n",
      "\n",
      "Primtall opp til 100:\n",
      "2 3 5 7 11 13 17 19 23 29 31 37 41 43 47 53 59 61 67 71 73 79 83 89 97 \n"
     ]
    }
   ],
   "source": [
    "tall_1 = 'Heltall 0 til og med 100:\\n' \n",
    "for x in range(101):\n",
    "    tall_1 += str(x) + ' '\n",
    "print(tall_1)\n",
    "\n",
    "tall_2 = '\\nHeltall 50 til og med 75:\\n'\n",
    "for x in range(50, 76):\n",
    "    tall_2 += str(x) + ' '\n",
    "print(tall_2)\n",
    "\n",
    "tall_3 = '\\nPartall 0 til og med 100:\\n'\n",
    "for x in range(0, 101, 2):\n",
    "    tall_3 += str(x) + ' '\n",
    "print(tall_3)\n",
    "\n",
    "tall_4 = '\\nOddetall 0 til og med 100:\\n'\n",
    "for x in range(1, 101, 2):\n",
    "    tall_4 += str(x) + ' '\n",
    "print(tall_4)\n",
    "\n",
    "tall_5 = '\\nPrimtall opp til 100:\\n'\n",
    "for x in range(2, 101):\n",
    "    primtall = True\n",
    "    for i in range (2,x+1):\n",
    "        if x != i and x%i == 0:\n",
    "            primtall = False\n",
    "    if primtall:\n",
    "        tall_5 += str(x) + ' '\n",
    "print(tall_5)"
   ]
  },
  {
   "cell_type": "markdown",
   "metadata": {},
   "source": [
    "### Oppgave 4.34\n",
    "Hensikten bak programmet under er at det skal skrive ut hvert 3. tall fra og med 5 til 20. Men dersom vi kjører programmet, skrives ingenting ut! Forklar hvorfor og rett på programmet slik at det skriver ut hvert 3. tall fra og med 5 til 20."
   ]
  },
  {
   "cell_type": "code",
   "execution_count": null,
   "metadata": {},
   "outputs": [],
   "source": [
    "for tall in range(5,3,20):\n",
    "    print(tall)"
   ]
  },
  {
   "cell_type": "markdown",
   "metadata": {},
   "source": [
    "#### Løsning:"
   ]
  },
  {
   "cell_type": "code",
   "execution_count": 432,
   "metadata": {},
   "outputs": [
    {
     "name": "stdout",
     "output_type": "stream",
     "text": [
      "5\n",
      "8\n",
      "11\n",
      "14\n",
      "17\n",
      "20\n"
     ]
    }
   ],
   "source": [
    "for tall in range(5,21,3):\n",
    "    print(tall)"
   ]
  },
  {
   "cell_type": "markdown",
   "metadata": {},
   "source": [
    "### Oppgave 4.35\n",
    "Fibonnacifølgen er en kjent tallfølge med heltall der hvert tall etter\n",
    "det første er summen av de to foregående. Følgen starter slik: \n",
    "\n",
    "1, 1, 2, 3, 5, 8, 13, 21, 34, 55, ...\n",
    "\n",
    "Lag et program som finner tall nr. n i rekka.\n",
    "\n",
    "#### Løsning:"
   ]
  },
  {
   "cell_type": "code",
   "execution_count": 449,
   "metadata": {},
   "outputs": [
    {
     "name": "stdout",
     "output_type": "stream",
     "text": [
      "Tall nr. 20 i fibonacifølgen er 6765.\n"
     ]
    }
   ],
   "source": [
    "n = 20\n",
    "tall_1 = 1\n",
    "tall_2 = 1\n",
    "if n == 1 or n == 2:\n",
    "    print(1)\n",
    "else:\n",
    "    for x in range(n-2):\n",
    "        tall_n = tall_1 + tall_2\n",
    "        tall_1 = tall_2\n",
    "        tall_2 = tall_n\n",
    "    print(f'Tall nr. {n} i fibonacifølgen er {tall_n}.')"
   ]
  },
  {
   "cell_type": "markdown",
   "metadata": {},
   "source": [
    "### Oppgave 4.36\n",
    "Lag et program som viser at summen av denne rekka er 4.5:\n",
    "\n",
    "$$3 + 1 +\\frac{1}{3} +\\frac{1}{9}+\\frac{1}{27}+...$$\n",
    "\n",
    "#### Løsning:"
   ]
  },
  {
   "cell_type": "code",
   "execution_count": 1,
   "metadata": {},
   "outputs": [
    {
     "name": "stdout",
     "output_type": "stream",
     "text": [
      "Summen til rekka er 4.5000000000.\n"
     ]
    }
   ],
   "source": [
    "sum = 0\n",
    "\n",
    "for x in range(0, 10000):\n",
    "    sum += 3/3**x\n",
    "    \n",
    "print(f'Summen til rekka er {sum:.10f}.')"
   ]
  },
  {
   "cell_type": "markdown",
   "metadata": {},
   "source": [
    "### Oppgave 4.37\n",
    "Koden under regner ut:\n",
    "$$\\sum_{n=1}^m n = 1+2+\\cdot \\cdot \\cdot + m$$"
   ]
  },
  {
   "cell_type": "code",
   "execution_count": null,
   "metadata": {},
   "outputs": [],
   "source": [
    "m = int(input(\"\"))\n",
    "s = 0\n",
    "n = 1\n",
    "while n <= m:\n",
    "    s = s + n\n",
    "    n = n + 1"
   ]
  },
  {
   "cell_type": "markdown",
   "metadata": {},
   "source": [
    "Skriv om koden slik at den bruker en for-løkke, og slik at den skriver ut s.\n",
    "#### Løsning:"
   ]
  },
  {
   "cell_type": "code",
   "execution_count": 480,
   "metadata": {},
   "outputs": [
    {
     "name": "stdout",
     "output_type": "stream",
     "text": [
      "Summen til rekka er 4950\n"
     ]
    }
   ],
   "source": [
    "m = int(input(\" m: \"))\n",
    "s = 0\n",
    "for n in range(1, m):\n",
    "    s += n\n",
    "print(f'Summen til rekka er {s}')"
   ]
  },
  {
   "cell_type": "markdown",
   "metadata": {},
   "source": [
    "### Oppgave 4.38\n",
    "I kombinatorikk er n-fakultet definert som produktet av alle heltall fra og med 1 til og med n. Dette kan vi skrive slik:\n",
    "$$n!=\\prod_{k=1}^n k$$\n",
    "Lag en funksjon som regner ut fakultetet av et tall.\n",
    "#### Løsning:"
   ]
  },
  {
   "cell_type": "code",
   "execution_count": 488,
   "metadata": {},
   "outputs": [
    {
     "name": "stdout",
     "output_type": "stream",
     "text": [
      "11! = 39916800\n"
     ]
    }
   ],
   "source": [
    "n = 11\n",
    "n_fakultet = 1\n",
    "for k in range(1, n+1):\n",
    "    n_fakultet *= k\n",
    "print(f'{n}! = {n_fakultet}')"
   ]
  },
  {
   "cell_type": "markdown",
   "metadata": {},
   "source": [
    "### Oppgave 4.39\n",
    "Lag et program som skal fungere som et ekko. Programmet skal be brukeren om å “si noe” (det vil si gi input), for så skrive ut det samme brukeren har sagt. Ekkoet skal slutte å virke når brukeren sier “slutt”.\n",
    "#### Løsning:"
   ]
  },
  {
   "cell_type": "code",
   "execution_count": 501,
   "metadata": {},
   "outputs": [
    {
     "name": "stdout",
     "output_type": "stream",
     "text": [
      "Ekko:  Hallo\n"
     ]
    }
   ],
   "source": [
    "input_tekst = ''\n",
    "while True:\n",
    "    input_tekst = input('Tekst: ')\n",
    "    if input_tekst == 'slutt' or input_tekst == 'Slutt':\n",
    "        break\n",
    "    else:\n",
    "        print(f'Ekko:  {input_tekst}')"
   ]
  },
  {
   "cell_type": "markdown",
   "metadata": {},
   "source": [
    "### Oppgave 4.40\n",
    "Lag et program som finner alle tall som er delelig med 7, menikke med 5, mellom 2000 og 3200.\n",
    "#### Løsning:"
   ]
  },
  {
   "cell_type": "code",
   "execution_count": 502,
   "metadata": {},
   "outputs": [
    {
     "name": "stdout",
     "output_type": "stream",
     "text": [
      "2002 2009 2016 2023 2037 2044 2051 2058 2072 2079 2086 2093 2107 2114 2121 2128 2142 2149 2156 2163 2177 2184 2191 2198 2212 2219 2226 2233 2247 2254 2261 2268 2282 2289 2296 2303 2317 2324 2331 2338 2352 2359 2366 2373 2387 2394 2401 2408 2422 2429 2436 2443 2457 2464 2471 2478 2492 2499 2506 2513 2527 2534 2541 2548 2562 2569 2576 2583 2597 2604 2611 2618 2632 2639 2646 2653 2667 2674 2681 2688 2702 2709 2716 2723 2737 2744 2751 2758 2772 2779 2786 2793 2807 2814 2821 2828 2842 2849 2856 2863 2877 2884 2891 2898 2912 2919 2926 2933 2947 2954 2961 2968 2982 2989 2996 3003 3017 3024 3031 3038 3052 3059 3066 3073 3087 3094 3101 3108 3122 3129 3136 3143 3157 3164 3171 3178 3192 3199 \n"
     ]
    }
   ],
   "source": [
    "tall = ''\n",
    "for x in range(2001, 3200):\n",
    "    if x % 7 == 0 and x % 5 !=0:\n",
    "        tall += str(x) + ' '\n",
    "print(tall)"
   ]
  },
  {
   "cell_type": "markdown",
   "metadata": {},
   "source": [
    "### Oppgave 4.41\n",
    "(Biologi)\n",
    "\n",
    "Tøffeldyr formerer seg ukjønnet (deler seg i to) annenhver time dersom de befinner seg i en omgivelse med temperatur på $20°$C.\n",
    "\n",
    "Skriv et program som regner ut og skriver ut hvor mange tøffeldyr det vil være dersom vi begynner med 5 tøffeldyr som formerer seg ukjønnet i løpet av 24 timer. Du kan anta at ingen tøffeldyr dør. \n",
    "\n",
    "<img src='http://biyolojiterimleri.com/f/images/K%20harfi/Kirpikliler.jpg' width='100px'>\n",
    "\n",
    "#### Løsning:"
   ]
  },
  {
   "cell_type": "code",
   "execution_count": 508,
   "metadata": {},
   "outputs": [
    {
     "name": "stdout",
     "output_type": "stream",
     "text": [
      "Det vil være 20480 tøffeldyr etter 24 timer\n"
     ]
    }
   ],
   "source": [
    "# Oppgaven er litt upresis, men antar at tøffeldyrene akkurat har delt seg \n",
    "# og at de deler seg siste gang når det har gått 24 timer.\n",
    "antall_toffeldyr = 5\n",
    "for t in range(2, 25, 2): \n",
    "    antall_toffeldyr *= 2\n",
    "print(f'Det vil være {antall_toffeldyr} tøffeldyr etter 24 timer')\n"
   ]
  },
  {
   "cell_type": "markdown",
   "metadata": {},
   "source": [
    "### Oppgave 4.42\n",
    "Dersom en PC-modell koster $7500$kr i dag, vil den nødvendigvis ikke koste det samme om noen år. Hvor mye en vare, som i vårt tilfelle er en PC- modell, avtar i verdi, bestemmes av ei rente r. Verdien P til PC-en etter t år kan finnes ved å bruke formelen\n",
    "$$P=\\frac{7500}{(1+r)^t}$$\n",
    "\n",
    "Skriv et program som skriver ut, år for år, verdien til PC-en over en periode på $10$ år med ei rente på $4\\%$."
   ]
  },
  {
   "cell_type": "code",
   "execution_count": 514,
   "metadata": {},
   "outputs": [
    {
     "name": "stdout",
     "output_type": "stream",
     "text": [
      "—————————————————————————————————————————————————————\n",
      "|  PC-en sin alder (år)   |  PC-en sin verdi (kr)   |\n",
      "—————————————————————————————————————————————————————\n",
      "|            0            |         7500.00         |\n",
      "—————————————————————————————————————————————————————\n",
      "|            1            |         7211.54         |\n",
      "—————————————————————————————————————————————————————\n",
      "|            2            |         6934.17         |\n",
      "—————————————————————————————————————————————————————\n",
      "|            3            |         6667.47         |\n",
      "—————————————————————————————————————————————————————\n",
      "|            4            |         6411.03         |\n",
      "—————————————————————————————————————————————————————\n",
      "|            5            |         6164.45         |\n",
      "—————————————————————————————————————————————————————\n",
      "|            6            |         5927.36         |\n",
      "—————————————————————————————————————————————————————\n",
      "|            7            |         5699.38         |\n",
      "—————————————————————————————————————————————————————\n",
      "|            8            |         5480.18         |\n",
      "—————————————————————————————————————————————————————\n",
      "|            9            |         5269.40         |\n",
      "—————————————————————————————————————————————————————\n",
      "|           10            |         5066.73         |\n",
      "—————————————————————————————————————————————————————\n"
     ]
    }
   ],
   "source": [
    "r = 4/100\n",
    "antall_aar = 10\n",
    "pc_startverdi = 7500 \n",
    "linje = f'—————————————————————————————————————————————————————'\n",
    "print(linje)\n",
    "print(f'|{\"PC-en sin alder (år)\":^25}|{\"PC-en sin verdi (kr)\":^25}|')\n",
    "for t in range(0, antall_aar+1):\n",
    "    print( linje )\n",
    "    print(f'|{t:^25.0f}|{pc_startverdi/(1 + r)**t:^25.2f}|')\n",
    "    n+=10\n",
    "    \n",
    "print(linje)"
   ]
  },
  {
   "cell_type": "markdown",
   "metadata": {},
   "source": [
    "### Oppgave 4.43\n",
    "\n",
    "(Fysikk): Bohrs atommodell \n",
    "\n",
    "Bruk Bohrs atommodell for atomspektrene til hydrogen- atomet. Vi kan bruke formelen nedenfor for å regne ut frekvensen til et foton som emitteres når atomet deeksiterer fra skall n til m:\n",
    "\n",
    "$$f=\\frac{B}{h}\\cdot \\bigg( \\frac{1}{m^2}-\\frac{1}{n^2} \\bigg)$$\n",
    "\n",
    "Lag et program som regner ut alle bølgelengdene til fotonene som emitteres når atomet deeksiterer fra et skall n til alle mulige energinivåer.\n",
    "\n",
    "<img class='flyt' src='http://ungenergi.no/wp-content/uploads/hydrogenatom.jpg' width='200px'>\n",
    "<img class='flyt' src='https://upload.wikimedia.org/wikipedia/commons/1/17/Bohr_atom_animation_2.gif' width='200px'>\n",
    "<img class='flyt' src='https://upload.wikimedia.org/wikipedia/commons/thumb/5/55/Bohr-atom-PAR.svg/2000px-Bohr-atom-PAR.svg.png' width='200px'>\n",
    "\n",
    "\n",
    "#### Løsning:"
   ]
  },
  {
   "cell_type": "code",
   "execution_count": 28,
   "metadata": {},
   "outputs": [
    {
     "name": "stdout",
     "output_type": "stream",
     "text": [
      "Bølgelengden: 4.873E+02nm\n"
     ]
    }
   ],
   "source": [
    "def f(m, n):\n",
    "    B = 2.18e-18\n",
    "    h = 6.64e-34\n",
    "    return B/h*(1/m**2 - 1/n**2) \n",
    "\n",
    "def lamda(f):\n",
    "    c = 3.0e8\n",
    "    return 1e9*c/f\n",
    "  \n",
    "# n = int(input('Hva er skallet det skal deekseteres fra?'))\n",
    "# m = int(input('Hva er skallet det skal deekseteres til?'))\n",
    "\n",
    "print(f'Bølgelengden: {lamda(f(2, 4)):.3E}nm')"
   ]
  },
  {
   "cell_type": "code",
   "execution_count": 87,
   "metadata": {},
   "outputs": [
    {
     "name": "stdin",
     "output_type": "stream",
     "text": [
      "Hva er skallet det skal deekseteres fra? 12\n"
     ]
    },
    {
     "name": "stdout",
     "output_type": "stream",
     "text": [
      "————————————————————————————\n",
      "|   Fra skall   :    12    |\n",
      "————————————————————————————\n",
      "|   Skall    | Energi (J)  |\n",
      "————————————————————————————\n",
      "|     1      |   2.165E-18 |\n",
      "————————————————————————————\n",
      "|     2      |   5.299E-19 |\n",
      "————————————————————————————\n",
      "|     3      |   2.271E-19 |\n",
      "————————————————————————————\n",
      "|     4      |   1.211E-19 |\n",
      "————————————————————————————\n",
      "|     5      |   7.206E-20 |\n",
      "————————————————————————————\n",
      "|     6      |   4.542E-20 |\n",
      "————————————————————————————\n",
      "|     7      |   2.935E-20 |\n",
      "————————————————————————————\n",
      "|     8      |   1.892E-20 |\n",
      "————————————————————————————\n",
      "|     9      |   1.177E-20 |\n",
      "————————————————————————————\n",
      "|     10     |   6.661E-21 |\n",
      "————————————————————————————\n",
      "|     11     |   2.878E-21 |\n",
      "————————————————————————————\n"
     ]
    }
   ],
   "source": [
    "def f(m, n):\n",
    "    B = 2.18e-18\n",
    "    h = 6.64e-34\n",
    "    return B/h*(1/n**2 - 1/m**2) \n",
    "\n",
    "  \n",
    "n = int(input('Hva er skallet det skal deekseteres fra?'))\n",
    "\n",
    "print(linje)\n",
    "print(f'|{\"Fra skall\":^15}:{n:^10}|')\n",
    "linje = f'————————————————————————————'\n",
    "print(linje)\n",
    "print(f'|{\"Skall\":^12}|{\"Energi (J)\":^13}|')\n",
    "for i in range(1, n):\n",
    "    h = 6.64e-34\n",
    "    if i != n:\n",
    "        print( linje )\n",
    "        print(f'|{i:^12.0f}|{h*f(n, i):12.3E} |')\n",
    "\n",
    "print( linje )"
   ]
  },
  {
   "cell_type": "code",
   "execution_count": null,
   "metadata": {},
   "outputs": [],
   "source": []
  },
  {
   "cell_type": "markdown",
   "metadata": {},
   "source": [
    "### Oppgave 4.44\n",
    "Over tid vil den radioaktive strålingen i et radioaktivt stoff reduseres. Dette skjer fordi atomene i det radioaktive stoffet vil omdannes til andre grunnstoffer. Mengden $N(t)$ som gjenstår av det radioaktive stoffet etter ei tid t kan finnes ved:\n",
    "\n",
    "$$N(t)=N_0 e^{-at}$$\n",
    "\n",
    "der $N_0$ er hvor mye radioaktivt stoff vi starter med ved tida $t = 0$. Verdien til a\n",
    "forteller hvor raskt det radioaktive stoffet omdannes til andre grunnstoffer. Hvis vi\n",
    "kjenner halveringstida $T$ , vil $a=\\frac{ln(2)}{T}$\n",
    "\n",
    "Plutonium-239 har halveringstid på omtrent $T = 24 000$ år. Skriv et program som skriver ut hvor mye Plutonium-239 som gjenstår etter hvert $5000$. år over en periode på $50000$ år dersom $N_0 = 4$kg.\n",
    "\n",
    "#### Løsning:"
   ]
  },
  {
   "cell_type": "code",
   "execution_count": 519,
   "metadata": {},
   "outputs": [
    {
     "name": "stdout",
     "output_type": "stream",
     "text": [
      "———————————————————————\n",
      "|  t (år)  |   N(t)   |\n",
      "———————————————————————\n",
      "|    0     |   4.00   |\n",
      "———————————————————————\n",
      "|   5000   |   3.46   |\n",
      "———————————————————————\n",
      "|  10000   |   3.00   |\n",
      "———————————————————————\n",
      "|  15000   |   2.59   |\n",
      "———————————————————————\n",
      "|  20000   |   2.24   |\n",
      "———————————————————————\n",
      "|  25000   |   1.94   |\n",
      "———————————————————————\n",
      "|  30000   |   1.68   |\n",
      "———————————————————————\n",
      "|  35000   |   1.46   |\n",
      "———————————————————————\n",
      "|  40000   |   1.26   |\n",
      "———————————————————————\n",
      "|  45000   |   1.09   |\n",
      "———————————————————————\n",
      "|  50000   |   0.94   |\n",
      "———————————————————————\n"
     ]
    }
   ],
   "source": [
    "T = 24000\n",
    "a = np.log(2)/T\n",
    "N_0 = 4\n",
    "linje = f'———————————————————————'\n",
    "print(linje)\n",
    "print(f'|{\"t (år)\":^10}|{\"N(t)\":^10}|')\n",
    "for t in range(0, 50001, 5000):\n",
    "    print( linje )\n",
    "    print(f'|{t:^10.0f}|{N_0*np.e**(-a*t):^10.2f}|')\n",
    "    n+=10\n",
    "    \n",
    "print(linje) "
   ]
  },
  {
   "cell_type": "markdown",
   "metadata": {},
   "source": [
    "### Oppgave 4.45\n",
    "Per har $5000$kr på konto.For hvert år setter han inn $5\\%$ avbeløpet på kontoen sin.\n",
    "\n",
    "<b>a)</b> Skriv et program som finner ut hvor mye han vil ha på kontoen sin etter 20 år. Programmet skal skrive ut resultatet.\n",
    "\n",
    "#### Løsning:"
   ]
  },
  {
   "cell_type": "code",
   "execution_count": 528,
   "metadata": {},
   "outputs": [
    {
     "name": "stdout",
     "output_type": "stream",
     "text": [
      "Per vil ha 13266.49kr på kontoen etter 20år\n"
     ]
    }
   ],
   "source": [
    "# a)\n",
    "beholdning = 5000\n",
    "antall_aar = 20\n",
    "r = 5/100\n",
    "\n",
    "for t in range(1, antall_aar+1):\n",
    "    beholdning *= (1+r)\n",
    "\n",
    "print(f'Per vil ha {beholdning:.2f}kr på kontoen etter {antall_aar}år')"
   ]
  },
  {
   "cell_type": "markdown",
   "metadata": {},
   "source": [
    "<b>b)</b> Nå viser det seg at for hvert 5. år tar Per penger ut av kontoen. Han tar ut 10 % av beløpet på kontoen etter å ha lagt inn 5 % av beløpet som allerede ligger på kontoen. Utvid programmet ditt fra deloppgave a) slik det tar med uttakene Per gjør.\n",
    "\n",
    "#### Løsning:"
   ]
  },
  {
   "cell_type": "code",
   "execution_count": 534,
   "metadata": {},
   "outputs": [
    {
     "name": "stdout",
     "output_type": "stream",
     "text": [
      "Per vil ha 8704.14kr på kontoen etter 20år.Han har tatt ut 3180.24kr\n"
     ]
    }
   ],
   "source": [
    "# b)\n",
    "beholdning = 5000\n",
    "antall_aar = 20\n",
    "r = 5/100\n",
    "uttak = 0\n",
    "\n",
    "for t in range(1, antall_aar+1):\n",
    "    beholdning *= (1+r)\n",
    "    if t % 5 == 0:\n",
    "        ut = beholdning * 10/100\n",
    "        beholdning -= ut\n",
    "        uttak += ut\n",
    "\n",
    "print(f'Per vil ha {beholdning:.2f}kr på kontoen etter {antall_aar}år.'\n",
    "      f'Han har tatt ut {uttak:.2f}kr' )"
   ]
  },
  {
   "cell_type": "markdown",
   "metadata": {},
   "source": [
    "### Oppgave 4.46\n",
    "(Biologi)\n",
    "\n",
    "RNA er en kopi av en del av en DNA-streng (et gen). I translasjonen av et protein overfører tRNA aminosyrer til ribosomene. Hvert tRNA- molekyl har et antikodon som skal passe til mRNA-ets kodon.\n",
    "\n",
    "<img width='100%' src='https://ndla.no/sites/default/files/images/proteinsyntesen.jpg?fag=7'>\n",
    "\n",
    "1. Lag et program der du kan skrive inn tre baser på DNA som oversettes til mRNA-tråden.\n",
    "2. Få programmet til å oversette kodonet til et antikodon.\n",
    "3. Legg inn alle aminosyrene i programmet, og la programmet finne ut hvilken\n",
    "aminosyre du får.\n",
    "4. <b>NB: Omfattende!</b> Utvid programmet til å lese av lengre DNA-sekvenser.\n",
    "\n",
    "#### Løsning:"
   ]
  },
  {
   "cell_type": "code",
   "execution_count": 623,
   "metadata": {},
   "outputs": [
    {
     "name": "stdout",
     "output_type": "stream",
     "text": [
      "DNA:   TAACGCCATGTAAGCT\n",
      "m-RNA: AUUGCGGUACAUUCGA\n"
     ]
    }
   ],
   "source": [
    "input_DNA = input('DNA: ')\n",
    "ut_mRNA = ''\n",
    "for base in input_DNA:\n",
    "    if base == 'A':\n",
    "        ut_mRNA += 'U'\n",
    "    if base == 'C':\n",
    "        ut_mRNA += 'G'\n",
    "    if base == 'G':\n",
    "        ut_mRNA += 'C'\n",
    "    if base == 'T':\n",
    "        ut_mRNA += 'A'\n",
    "        \n",
    "print(f'DNA:   {input_DNA}')\n",
    "print(f'm-RNA: {ut_mRNA}')"
   ]
  },
  {
   "cell_type": "markdown",
   "metadata": {},
   "source": [
    " <b>2.</b>  Få programmet til å oversette kodonet til et antikodon.\n",
    " #### Løsning:"
   ]
  },
  {
   "cell_type": "code",
   "execution_count": 627,
   "metadata": {},
   "outputs": [
    {
     "name": "stdout",
     "output_type": "stream",
     "text": [
      "DNA:   TAACGCCATGTAAGCT\n",
      "m-RNA: AUUGCGGUACAUUCGA\n",
      "t-RNA: UAACGCCAUGUAAGCU\n"
     ]
    }
   ],
   "source": [
    "input_DNA = input('DNA: ')\n",
    "ut_mRNA = ''\n",
    "for base in input_DNA:\n",
    "    if base == 'A':\n",
    "        ut_mRNA += 'U'\n",
    "    if base == 'C':\n",
    "        ut_mRNA += 'G'\n",
    "    if base == 'G':\n",
    "        ut_mRNA += 'C'\n",
    "    if base == 'T':\n",
    "        ut_mRNA += 'A'\n",
    "\n",
    "ut_tRNA = ''\n",
    "for base in ut_mRNA:\n",
    "    if base == 'A':\n",
    "        ut_tRNA += 'U'\n",
    "    if base == 'C':\n",
    "        ut_tRNA += 'G'\n",
    "    if base == 'G':\n",
    "        ut_tRNA += 'C'\n",
    "    if base == 'U':\n",
    "        ut_tRNA += 'A'\n",
    "    \n",
    "print(f'DNA:   {input_DNA}')\n",
    "print(f'm-RNA: {ut_mRNA}')\n",
    "print(f't-RNA: {ut_tRNA}')"
   ]
  },
  {
   "cell_type": "markdown",
   "metadata": {},
   "source": [
    "<b>3.</b> Legg inn alle aminosyrene i programmet, og la programmet finne ut hvilken aminosyre du får. \n",
    "#### Løsning:"
   ]
  },
  {
   "cell_type": "code",
   "execution_count": null,
   "metadata": {},
   "outputs": [],
   "source": []
  },
  {
   "cell_type": "markdown",
   "metadata": {},
   "source": [
    "### Oppgave 4.47\n",
    "Taylorrekke\n",
    "\n",
    "I matematikken finnes det ulike måter å tilnærme en funksjon på. En metode som ofte brukes, kalles for rekkeutvikling (hvis du vil vite mer, kan du søke på Taylorrekke). Ved denne metoden uttrykkes funksjoner som en sum. Dersom en rekkeutvikler cosinus, vil en få at:\n",
    "\n",
    "$$cos(x)=1+\\sum_{n=1}^\\infty \\frac{(-1)^n}{(2n)!}x^{2n}$$\n",
    "\n",
    "<img src='https://upload.wikimedia.org/wikipedia/commons/5/51/Taylor_cos.gif'>\n",
    "\n",
    "Skriv et program som regner ut rekkeutviklingen til cosinus for en verdi av x der\n",
    "$x \\ne 0$. Datamaskinen kan ikke representere ∞, så du kan heller summere rekka opp til ei stor nok grense N. Kontroller resultatet ditt ved å regne ut $cos(x)$. Finn en verdi\n",
    "for N som gir en god tilnærming til resultatet du fikk.\n",
    "\n",
    "#### Løsning:"
   ]
  },
  {
   "cell_type": "code",
   "execution_count": 559,
   "metadata": {},
   "outputs": [
    {
     "name": "stdout",
     "output_type": "stream",
     "text": [
      "cos(pi)_tayler = -1.0000000 \n",
      "cos(pi)        = -1.0000000\n"
     ]
    }
   ],
   "source": [
    "x = np.pi\n",
    "N = 10\n",
    "cos_x_taylor = 1\n",
    "for n in range(1, N):\n",
    "    cos_x_taylor += (-1)**n / (np.math.factorial(2*n)) * x**(2*n)\n",
    "print(f'cos(pi)_tayler = {cos_x_taylor:.7f} \\ncos(pi)        = {np.cos(np.pi):.7f}')    "
   ]
  },
  {
   "cell_type": "markdown",
   "metadata": {},
   "source": [
    "### Oppgave 4.48\n",
    "(Fysikk)\n",
    "\n",
    "Per har lagd en kulekanon og ønsker å prøve den ut. Kanonen er plassert 5 meter unna en vegg som har et hull. Hullet begynner 7.5 meter over bakken og slutter 8 meter over bakken. Per har regna seg fram til at når kula treffer veggen, vil kula være\n",
    "\n",
    "$$-\\frac{25}{2} \\cdot \\frac{g}{v^2\\cos^2\\theta}+5\\tan \\theta$$\n",
    "\n",
    "meter over bakken. Kula skytes ut i en vinkel θ med en fart på v meter per sekund. Du kan bruke at g = 9.81m/s2. Per ønsker å treffe hullet, og derfor må han vite hvilken θ og v som må brukes.\n",
    "\n",
    "<b>a)</b> Per har bestemt seg for at kanonen skal skyte ut kulene med en vinkel $60°$. Lag et program som tar inn skytefarten v som input fra brukeren og regner ut hvor høyt på veggen ballen treffer (bruk likningen over). Programmet skal skrive ut om ballen treffer hullet eller ikke.\n",
    "\n",
    "#### Løsning:\n",
    "Siden det ikke er oppgitt en radius på kula så antar jeg at den er veldig nærme 0 :)"
   ]
  },
  {
   "cell_type": "code",
   "execution_count": 579,
   "metadata": {},
   "outputs": [
    {
     "name": "stdout",
     "output_type": "stream",
     "text": [
      "Kula treffer i hullet 7.99m over bakken.\n"
     ]
    }
   ],
   "source": [
    "theta = np.deg2rad(60) #Gjør om til radianer\n",
    "g = 9.81\n",
    "v = float(input('Skriv inn utgangshastighet på kula (m/s): '))\n",
    "h = -25/2 * g/(v**2 * np.cos(theta**2))+5*np.tan(theta)\n",
    "\n",
    "if h <= 0:\n",
    "    print('Kula triller langs bakken inn til veggen.')\n",
    "elif h <= 7.5:\n",
    "    print(f'Kula treffer veggen under hullet, {h:.2f}m over bakken')\n",
    "elif h >= 8:\n",
    "    print(f'Kula treffer veggen over hullet eller går helt over veggen, {h:.2f}m over bakken')\n",
    "else:\n",
    "    print(f'Kula treffer i hullet {h:.2f}m over bakken.')"
   ]
  },
  {
   "cell_type": "markdown",
   "metadata": {},
   "source": [
    "<b>b)</b> Utvid programmet ditt fra a) slik at det tar inn skytevinkelenen i grader som input og finner ut om ballen vil treffe hullet eller ikke.\n",
    "\n",
    "#### Løsning"
   ]
  },
  {
   "cell_type": "code",
   "execution_count": 577,
   "metadata": {},
   "outputs": [
    {
     "name": "stdout",
     "output_type": "stream",
     "text": [
      "Kula treffer i hullet 7.60m over bakken.\n"
     ]
    }
   ],
   "source": [
    "g = 9.81\n",
    "v = float(input('Skriv inn utgangshastighet på kula (m/s): '))\n",
    "theta = np.deg2rad(float(input('Skriv inn vinkelen til kanonen (grader): '))) #Gjør om til radianer\n",
    "h = -25/2 * g/(v**2 * np.cos(theta**2))+5*np.tan(theta)\n",
    "\n",
    "if h <= 0:\n",
    "    print('Kula triller langs bakken og treffer veggen.')\n",
    "elif h <= 7.5:\n",
    "    print(f'Kula treffer veggen under hullet, {h:.2f}m over bakken')\n",
    "elif h >= 8:\n",
    "    print(f'Kula treffer veggen over hullet eller går helt over veggen, {h:.2f}m over bakken')\n",
    "else:\n",
    "    print(f'Kula treffer i hullet {h:.2f}m over bakken.')"
   ]
  },
  {
   "cell_type": "markdown",
   "metadata": {},
   "source": [
    "### Oppgave 4.49\n",
    "I kapittel 2 fikk du se en framgangsmåte på hvordan man kan konvertere et tall fra titallsystemet til totallsystemet (side ??). I programmet under er mange av stegene i framgangsmåten beskrevet som en algoritme, men ikke slik at programmet kan kjøres."
   ]
  },
  {
   "cell_type": "code",
   "execution_count": null,
   "metadata": {},
   "outputs": [],
   "source": [
    "def finn_stoerste_n(x):\n",
    "    n = 0\n",
    "    så lenge 2**n er mindre eller lik x\n",
    "        n økes med en\n",
    "    funksjon returner n-1\n",
    "    \n",
    "tall_ti = int(input(''))\n",
    "\n",
    "sett n slik at n er den største potensen slik at 2**n <= tall_ti\n",
    "\n",
    "tallet i starter på n, slutter på 0 og senkes ett steg om gangen:\n",
    "    hvis 2**i er mindre eller lik tall_ti:\n",
    "        tall_ti = differansen mellom gamle verdien av tall_ti og 2**i\n",
    "        print(1)\n",
    "    ellers:\n",
    "        print(0)"
   ]
  },
  {
   "cell_type": "markdown",
   "metadata": {},
   "source": [
    "Skriv om programmet slik at stegene som er beskrevet i koden, blir gjort om til kjørbar kode. Ingen innrykk i koden skal endres.\n",
    "\n",
    "#### Løsning:"
   ]
  },
  {
   "cell_type": "code",
   "execution_count": 606,
   "metadata": {},
   "outputs": [
    {
     "name": "stdout",
     "output_type": "stream",
     "text": [
      "2929292_ti = 101100101100101000110_to\n"
     ]
    }
   ],
   "source": [
    "def finn_stoerste_n(x):\n",
    "    n = 0\n",
    "    while 2**n <= x:\n",
    "        n+=1\n",
    "    return n-1\n",
    "    \n",
    "tall_ti = int(input(' Gjør om fra titalls- til totalls-systemet: '))\n",
    "tall_to_ut = ''\n",
    "tall_ti_ut = tall_ti\n",
    "n = int(np.floor(np.log2(tall_ti)))\n",
    "for i in range(n, 0, -1):\n",
    "    if 2**i <= tall_ti:\n",
    "        tall_ti = tall_ti - 2**i\n",
    "        tall_to_ut += '1'\n",
    "    else:\n",
    "        tall_to_ut += '0'\n",
    "\n",
    "print(f'{tall_ti_ut}_ti = {tall_to_ut}_to')"
   ]
  },
  {
   "cell_type": "markdown",
   "metadata": {},
   "source": [
    "### Oppgave 4.50\n",
    "Newtons binomialformel\n",
    "\n",
    "Newtons binomialformel forteller oss hvordan en kan regne ut $(a + b)^n$ for et heltall $n$ og vilkårlige tallverdier $a$ og $b$. Den sier at\n",
    "\n",
    "$$(a+b)^2 = \\sum_{r=0}^n\\binom{n}{r}a^{n-r}b^r$$\n",
    "\n",
    "der $\\binom{n}{r}=\\frac{n!}{r!(n-r)!}$. For eksempel hvis $n=4$, så er\n",
    "\n",
    "\\begin{align}\n",
    "(a+b)^4 & = \\binom{4}{0}a^{4-0}b^0+\\binom{4}{1}a^{4-1}b^1+\\binom{4}{2}a^{4-2}b^2+\\binom{4}{3}a^{4-3}b^3+\\binom{4}{4}a^{4-4}b^4 \\\\\n",
    " & = \\binom{4}{0}a^{4}b^0+\\binom{4}{1}a^{3}b^1+\\binom{4}{2}a^{2}b^2+\\binom{4}{3}a^{1}b^3+\\binom{4}{4}a^{0}b^4 \\\\\n",
    "\\end{align}\n",
    "\n",
    "Lag et program som ber brukeren om verdier for $a$, $b$ og $n$. Programmet skal så regne ut $(a + b)^n$ og deretter skrive ut resultatet. Sjekk om resultatet stemmer ved å først legge sammen verdiene $a$ og $b$, for så opphøye resultatet i $n$.\n",
    "\n",
    "<b>Tips:</b> For å regne ut 􏰔$n$􏰕, kan du bruke funksjonen $scipy.special.binom(n,r)$ fra $scipy.special-biblioteket$.\n",
    "\n",
    "\n",
    "#### Løsning:"
   ]
  },
  {
   "cell_type": "code",
   "execution_count": null,
   "metadata": {},
   "outputs": [],
   "source": [
    "#kommer"
   ]
  },
  {
   "cell_type": "markdown",
   "metadata": {},
   "source": [
    "### Oppgave 4.51\n",
    "\n",
    "Pascals trekant\n",
    "\n",
    "Pascals trekant er en talltrekant der tallene i trekanten følger et bestemt mønster. På n-te rad er tallene som befinner seg inni (altså ikke langs kantene) trekanten lik summen av de to nærmeste tallene over seg.\n",
    "\n",
    "<img src='https://ds055uzetaobb.cloudfront.net/image_optimizer/525270b426404c042a8a250de1eb8ffcf95c7d2e.png'>\n",
    "\n",
    "Verdiene til den $n$-te raden i trekanten kan finnes ved:\n",
    "\n",
    "$$\\binom{n}{0} \\hskip 0.5em \\binom{n}{1} \\hskip 0.5em \\binom{n}{2} \\hskip 0.5em \\cdot\\cdot\\cdot \\hskip 0.5em \\binom{n}{n-2} \\hskip 0.5em \\binom{n}{n-1} \\hskip 0.5em \\binom{n}{n}$$\n",
    "\n",
    "der $\\binom{n}{r}=\\frac{n!}{r!(n-r)!}$ for heltall r og n.\n",
    "\n",
    "<b>a)</b>\n",
    "Skriv et program som tar inn en verdi $n$ fra brukeren og skriver ut den $n$-te raden i Pascals trekant. Du kan bruke funksjonen scipy.special.binom(n,r) fra\n",
    "scipy.special-biblioteket til å regne ut 􏰔$n$􏰕.\n",
    "\n",
    "#### Løsning:"
   ]
  },
  {
   "cell_type": "code",
   "execution_count": 696,
   "metadata": {},
   "outputs": [
    {
     "name": "stdout",
     "output_type": "stream",
     "text": [
      "  1    5   10   10    5    1                                                    \n"
     ]
    }
   ],
   "source": [
    "n = int(input('skriv inn raden du ønsker fra Pascaal´s trekant: '))\n",
    "pascal_rad_ut = ''\n",
    "for r in range(n+1):\n",
    "    pascal_rad_ut += f'{sps.binom(n, n-r):^5n}'\n",
    "print(f'{pascal_rad_ut:80}')"
   ]
  },
  {
   "cell_type": "markdown",
   "metadata": {},
   "source": [
    "<b>b)</b>\n",
    "Utvid programmet ditt fra a) slik at det skriver ut trekanten fra og med 0-te rad til og med n-te rad. Et eksempel på output kan være:\n",
    "\n",
    "<img src='https://upload.wikimedia.org/wikipedia/commons/c/ca/Pascal_triangle_small.png'>\n",
    "\n",
    "#### Løsning:"
   ]
  },
  {
   "cell_type": "code",
   "execution_count": 694,
   "metadata": {},
   "outputs": [
    {
     "name": "stdout",
     "output_type": "stream",
     "text": [
      "                                       1                                        \n",
      "                                     1    1                                     \n",
      "                                  1    2    1                                   \n",
      "                                1    3    3    1                                \n",
      "                             1    4    6    4    1                              \n",
      "                           1    5   10   10    5    1                           \n",
      "                        1    6   15   20   15    6    1                         \n",
      "                      1    7   21   35   35   21    7    1                      \n",
      "                   1    8   28   56   70   56   28    8    1                    \n",
      "                 1    9   36   84   126  126  84   36    9    1                 \n",
      "              1   10   45   120  210  252  210  120  45   10    1               \n",
      "            1   11   55   165  330  462  462  330  165  55   11    1            \n"
     ]
    }
   ],
   "source": [
    "for n in range(0, 12):\n",
    "    pascal_rad_ut = ''\n",
    "    for r in range(n+1):\n",
    "        pascal_rad_ut += f'{sps.binom(n, n-r):^5n}'\n",
    "    print(f'{pascal_rad_ut:^80}')"
   ]
  }
 ],
 "metadata": {
  "kernelspec": {
   "display_name": "Python 3",
   "language": "python",
   "name": "python3"
  },
  "language_info": {
   "codemirror_mode": {
    "name": "ipython",
    "version": 3
   },
   "file_extension": ".py",
   "mimetype": "text/x-python",
   "name": "python",
   "nbconvert_exporter": "python",
   "pygments_lexer": "ipython3",
   "version": "3.6.6"
  }
 },
 "nbformat": 4,
 "nbformat_minor": 2
}
