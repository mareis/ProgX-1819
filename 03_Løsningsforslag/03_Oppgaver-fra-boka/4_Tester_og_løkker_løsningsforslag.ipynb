{
  "metadata": {
    "kernelspec": {
      "name": "python36",
      "display_name": "Python 3.6",
      "language": "python"
    },
    "language_info": {
      "mimetype": "text/x-python",
      "nbconvert_exporter": "python",
      "name": "python",
      "pygments_lexer": "ipython3",
      "version": "3.6.6",
      "file_extension": ".py",
      "codemirror_mode": {
        "version": 3,
        "name": "ipython"
      }
    }
  },
  "nbformat_minor": 2,
  "nbformat": 4,
  "cells": [
    {
      "cell_type": "markdown",
      "source": "### Biblioteker til oppgavene\n\n<style>\n    img{\n        display: block;\n        margin-left: auto;\n        margin-right: auto;\n    }\n    img.flyt{\n        display: inline;\n        float: left\n    }\n    table {\n        width:100%;\n    }\n</style>",
      "metadata": {}
    },
    {
      "cell_type": "code",
      "source": "import numpy as np\nimport scipy.special as sps",
      "metadata": {
        "trusted": true
      },
      "execution_count": 2,
      "outputs": []
    },
    {
      "cell_type": "markdown",
      "source": "## 4.1.1 If-tester\n### Oppgave 4.1\nLag et program som spør brukeren om alderen til brukeren. Skriv ut en kommentar som avhenger av om alderen er under eller over 17. Utvid programmet til å skille mellom flere aldre.\n\n#### Løsning:",
      "metadata": {}
    },
    {
      "cell_type": "code",
      "source": "alder = int(input('Skriv inn alderen din: '))\ngrense = 17\n                  \nif alder < grense:\n    print(f'Du er er under {grense} år.')\nelif alder == grense:\n    print(f'Du er er {grense} år gammel.')\nelse: \n    print(f'Du er over {grense} år.')",
      "metadata": {
        "trusted": true
      },
      "execution_count": 5,
      "outputs": [
        {
          "text": "Du er er under 17 år.\n",
          "name": "stdout",
          "output_type": "stream"
        }
      ]
    },
    {
      "cell_type": "markdown",
      "source": "### Oppgave 4.2\nLag et program som tar et tall som input. Programmet skal så vurdere og skrive ut om tallet er et positivt tall, negativt tall eller null.\n#### Løsning:",
      "metadata": {}
    },
    {
      "cell_type": "code",
      "source": "tall = int(input('Skriv inn et heltall: '))\n\nif tall < 0:\n    print(f'Tallet {tall} er under 0.')\nelif tall == 0:\n    print(f'Tallet {tall} er lik 0.')\nelse: \n    print(f'Tallet {tall} er over 0.')",
      "metadata": {
        "trusted": true
      },
      "execution_count": 6,
      "outputs": [
        {
          "text": "Tallet 42 er over 0.\n",
          "name": "stdout",
          "output_type": "stream"
        }
      ]
    },
    {
      "cell_type": "markdown",
      "source": "### Oppgave 4.3\nLag et program som tar et tall som input. Programmet skal så vurdere og skrive ut om tallet er et heltall eller flyttall.\n#### Løsning:",
      "metadata": {}
    },
    {
      "cell_type": "code",
      "source": "#Her er problemet at input tar kun string (tekst) som parameter. Metoden under fra boka (s56) vil ikke fungere.\ntall = input('Skriv inn et tall: ')\nif type(tall) != int:\n    print(f'Tallet {tall} er ikke en int.')",
      "metadata": {},
      "execution_count": 35,
      "outputs": [
        {
          "name": "stdout",
          "output_type": "stream",
          "text": "Tallet 2 er ikke en int.\n"
        }
      ]
    },
    {
      "cell_type": "code",
      "source": "#Vi kan undersøke om tallet som brukeren tastet inn er et desimaltall\ntall = float(input('Skriv inn et tall: '))\nif tall == int(tall):\n    tall = int(tall)  #Gjør det om til int hvis det er et heltall.\n    print(f'Tallet {tall} er et heltall.')\nelse: \n    print(f'Tallet {tall} er et desimaltall.')",
      "metadata": {},
      "execution_count": 36,
      "outputs": [
        {
          "name": "stdout",
          "output_type": "stream",
          "text": "Tallet 2 er et heltall.\n"
        }
      ]
    },
    {
      "cell_type": "markdown",
      "source": "### Oppgave 4.4\nLag en funksjon som tar to argumenter som skal være tall. Funksjo- nen skal finne det minste tallet og skrive ut dette.\n#### Løsning:",
      "metadata": {}
    },
    {
      "cell_type": "code",
      "source": "def minst_av_to(a, b):\n    if a<b:\n        return a\n    elif a>b:\n        return b\n    \ntall = minst_av_to(10, 3)\nprint(f'{tall} er det minste tallet.')",
      "metadata": {},
      "execution_count": 50,
      "outputs": [
        {
          "name": "stdout",
          "output_type": "stream",
          "text": "3 er det minste tallet.\n"
        }
      ]
    },
    {
      "cell_type": "markdown",
      "source": "### Oppgave 4.5\nLag en funksjon som tar to argumenter som skal være tall. Funk- sjonen skal avgjøre om det første tallet er minst og skrive ut True dersom dette stemmer.\n#### Løsning:",
      "metadata": {}
    },
    {
      "cell_type": "code",
      "source": "def forst_er_storst(a, b):\n    return a > b\n\ntall = forst_er_storst(4, 2)\nprint(f'Det er {tall} at dt første tallet er størst.')",
      "metadata": {},
      "execution_count": 54,
      "outputs": [
        {
          "name": "stdout",
          "output_type": "stream",
          "text": "Det er True at dt første tallet er størst.\n"
        }
      ]
    },
    {
      "cell_type": "markdown",
      "source": "### Oppgave 4.6\nLag en funksjon som tar en poengsum som argument. Programmet skal finne ut hvilken karakter du får dersom maks poengsum er 60 poeng. Finn på karaktergrenser selv.\nUtvid programmet til å ta maks poengsum som et tilleggsargument. Programmet\nskal benytte prosenter av denne makssummen til å regne ut sluttkarakteren. Lag prosentgrensene selv.\nLag til slutt en funksjon som i tillegg tar alle poenggrensene som argumenter, enten som poeng eller prosenter av poengene.\n#### Løsning:",
      "metadata": {}
    },
    {
      "cell_type": "code",
      "source": "def karakter(poeng):\n    if poeng >= 57:\n        return 6\n    elif poeng >= 48:\n        return 5\n    elif poeng >= 37:\n        return 4\n    elif poeng >= 29:\n        return 3\n    elif poeng >= 18:\n        return 2\n    else:\n        return 1\n\ntildelt_karakter = karakter(48.5)\nprint(f'Karakterenr: {tildelt_karakter}.')",
      "metadata": {},
      "execution_count": 71,
      "outputs": [
        {
          "name": "stdout",
          "output_type": "stream",
          "text": "Karakterenr: 5.\n"
        }
      ]
    },
    {
      "cell_type": "markdown",
      "source": "### Oppgave 4.6 - Utvidet\n#### Løsning:",
      "metadata": {}
    },
    {
      "cell_type": "code",
      "source": "def karakter(poeng, maks):\n    faktor = poeng/maks\n    if faktor >= 0.96:\n        return 6\n    elif faktor >= 0.80:\n        return 5\n    elif faktor >= 0.64:\n        return 4\n    elif faktor >= 0.48:\n        return 3\n    elif faktor >= 0.30:\n        return 2\n    else:\n        return 1\n\ntildelt_karakter = karakter(48.5, 100)  \nprint(f'Karakterenr: {tildelt_karakter}.')",
      "metadata": {
        "trusted": true
      },
      "execution_count": 7,
      "outputs": [
        {
          "text": "Karakterenr: 3.\n",
          "name": "stdout",
          "output_type": "stream"
        }
      ]
    },
    {
      "cell_type": "markdown",
      "source": "### Oppgave 4.7\nLag et program som spør om brukeren har Windows-PC eller Mac. Lag et oppfølgingsspørsmål på hver av disse, der du gir to eller tre alternativer. Du kan for eksempel spørre om hvorfor brukeren har Windows-PC eller Mac. Skriv ut en passende kommentar til svaret.\n#### Løsning:",
      "metadata": {}
    },
    {
      "cell_type": "code",
      "source": "svar = input('Skriv \"Windows-PC\"hvis du har det og \"Mac\" hvis du har det. ')\nif svar == 'Mac' or svar == 'Windows-PC':\n    svar2 = input(f'Er du \"fornøyd\", \"ikke-fornøyd\", \"vet-ikke\" med {svar}-en: ')\nelse:\n    print(\"Du hu har skrevet inn et ugyldig alternativ.\")\n    \nif svar2 == 'fornøyd':\n    print(f'Så bra du er fornøyd med {svar}-en!')\nelif svar2 == 'ikke-fornøyd':\n    print(f'Det var leit å høre at {svar}-en ikke oppfyller forventningene dine.')\nelif svar2 == 'vet-ikke':\n    print('Det må du finne ut av')\nelse:\n    print(\"Du hu har skrevet inn et ugyldig alternativ.\")",
      "metadata": {
        "trusted": true
      },
      "execution_count": 10,
      "outputs": [
        {
          "text": "Så bra du er fornøyd med Mac-en!\n",
          "name": "stdout",
          "output_type": "stream"
        }
      ]
    },
    {
      "cell_type": "markdown",
      "source": "### Oppgave 4.8\nGjør som i forrige oppgavene, men lag spørsmålene og alternativene helt selv. Prøv å få til tre nøstede if-setninger (if-setninger i if-setninger).\n#### Løsning:",
      "metadata": {}
    },
    {
      "cell_type": "code",
      "source": "#Det er greit å øve på nestede if-setninger, men det er ikke ønskelig. \n#Koden blir vanskelig å lese og det finnes bedre alternativer",
      "metadata": {},
      "execution_count": 6,
      "outputs": []
    },
    {
      "cell_type": "markdown",
      "source": "### Oppgave 4.9\nLag en kalkulator der brukeren kan taste inn to tall og velge regne- operasjon.\n#### Løsning:",
      "metadata": {}
    },
    {
      "cell_type": "code",
      "source": "a = float(input('Skriv inn et tall: '))\nb = float(input('Skriv inn et tall til: '))\noperasjon = input('Hva vil du gjøre med tallene? (+ - * /): ')\n\nif operasjon == '+':\n    print(f'{a} {operasjon} {b} = {a+b}')\nelif operasjon == '-':\n    print(f'{a} {operasjon} {b} = {a-b}')\nelif operasjon == '*':\n    print(f'{a} {operasjon} {b} = {a*b}')\nif operasjon == '/':\n    print(f'{a} {operasjon} {b} = {a/b}')\nelse:\n    print(\"Du har skrevet inn en ugyldig operasjon.\")",
      "metadata": {
        "trusted": true
      },
      "execution_count": 11,
      "outputs": [
        {
          "text": "4.0 * 42.0 = 168.0\nDu har skrevet inn en ugyldig operasjon.\n",
          "name": "stdout",
          "output_type": "stream"
        }
      ]
    },
    {
      "cell_type": "markdown",
      "source": "### Oppgave 4.10\nLag et lite eventyrspill der spilleren får ulike valg underveis, og historien formes av valgene spilleren tar. Det letteste er å lage en lineær historie, men du kan godt utfordre deg selv på å gjøre spillet ikke-lineært.\n#### Løsning:",
      "metadata": {}
    },
    {
      "cell_type": "code",
      "source": "#;-)",
      "metadata": {},
      "execution_count": 23,
      "outputs": []
    },
    {
      "cell_type": "markdown",
      "source": "### Oppgave 4.12\n(Fysikk)\n\nLag et program der du kan taste inn bølgelengden til synlig lys i nm og få ut hvilken farge lyset har. Utvid eventuelt prorammet med andre deler av det elektromagnetiske spekteret.\n<img src='http://docplayer.me/docs-images/17/80591/images/47-0.jpg' width='500px'>\n#### Løsning:",
      "metadata": {}
    },
    {
      "cell_type": "code",
      "source": "bl = float(input(\"Skriv inn lysets bølgelengde: \"))\nif bl < 400 or bl >700:\n    print(f'Lys med den oppgitte bølgelengden {bl} er ikke synlig')\nelif bl >= 625:\n    print(f'{bl} nm gir rødt lys.')\nelif bl >= 590:\n    print(f'{bl} nm gir oransje lys.')\nelif bl >= 565:\n    print(f'{bl} nm gir gult lys.')\nelif bl >= 490:\n    print(f'{bl} nm gir grønt lys.')\nelif bl >= 440:\n    print(f'{bl} nm gir blått lys.')\nelif bl >= 420:\n    print(f'{bl} nm gir indigo lys.')\nelif bl >= 400:\n    print(f'{bl} nm gir lilla lys.')\n",
      "metadata": {
        "trusted": true
      },
      "execution_count": 13,
      "outputs": [
        {
          "text": "500.0 nm gir grønt lys.\n",
          "name": "stdout",
          "output_type": "stream"
        }
      ]
    },
    {
      "cell_type": "markdown",
      "source": "### Oppgave 4.13 \nLag et program som spør brukeren om han/hun vil konvertere fra tommer (inch) til cm, eller fra cm til tommer. Dersom brukeren skriver noe annet, skal en feilmelding skrives ut.\nProgrammet skal så be brukeren om å skrive inn den ønskede størrelsen (i tommer eller cm) og deretter utføre den ønskede konverteringa. Du kan bruke at 1 tommer = 2.54 cm.\n#### Løsning:",
      "metadata": {}
    },
    {
      "cell_type": "code",
      "source": "svar = input('Skriv \"a\" for å konvertere fra tommer til cm, og \"b\" for å konvertere fra cm til tommer. ')\nif svar == 'a':\n    tall = float(input('Skriv inn tallet du ønsker å konvertere. '))\n    print(f'{tall}cm = {tall*2.54}tommer')\nelif svar == 'b':\n    tall = float(input('Skriv inn tallet du ønsker å konvertere. '))\n    print(f'{tall}tommer = {tall/2.54:.2f}cm')\nelse:\n    print(f'{svar} er en ugyldig kommando')\n",
      "metadata": {},
      "execution_count": 45,
      "outputs": [
        {
          "name": "stdout",
          "output_type": "stream",
          "text": "7.0tommer = 2.76cm\n"
        }
      ]
    },
    {
      "cell_type": "markdown",
      "source": "### Oppgave 4.14\n(Matematikk R1)\n\nLag et program som regner ut funksjonen $g(x)=3x^4+5x^3+7x^2+x-3.0625$ or en verdi av x gitt av brukeren. Programmet skal skrive ut en melding om x − x-verdien fra brukeren er en faktor i g eller ikke.\n#### Løsning:",
      "metadata": {}
    },
    {
      "cell_type": "code",
      "source": "x = float(input('Skriv inn x-verdi: '))\ng = 3*x**4 + 5*x**3 + 7*x**2 + x - 3.0625\nfaktor = \"er ikke\"\nif g == 0:\n    faktor = \"er\"\n    \nprint(f'g({x})={g}, (x-{x}) {faktor} en faktor i g.')",
      "metadata": {},
      "execution_count": 58,
      "outputs": [
        {
          "name": "stdout",
          "output_type": "stream",
          "text": "g(0.5)=0.0, (x-0.5) er en faktor i g.\n"
        }
      ]
    },
    {
      "cell_type": "markdown",
      "source": "### Oppgave 4.15\n(Biologi): Hardy-Weinbergs-likevekt\n\n<p> Vi skal se på en populasjon av mennesker og ser på et gen som finnes i to varianter: $a$ og $A$. Andelen av populasjonen som har variant a kan vi kalle for p og andelen av populasjonen som har variant $A$ kan vi kalle for $q$. Verdiene til $p$ og $q$ må være mellom $0$ og $1$. Siden alle i populasjonen vil ha enten $a$ eller $A$ (eller begge), må $p + q = 1$.</p>\n<img src='https://upload.wikimedia.org/wikipedia/commons/b/b2/Hardy-Weinberg.svg' width='500px'>\n<p>Populasjonen sies å være i Hardy-Weinberg-likevekt dersom verdiene til p og q ikke forandrer seg under forutsetningen at det foregår tilfeldig paring, ingen mutasjoner, ingen naturlig seleksjon og ingen evolusjon i populasjonen. Dersom populasjonen er i Hardy-Weinberg-likevekt kan en finne andelen til de tre mulige genotypene til menneskene i populasjonen:</p>\n<ul>\n    <li>$AA : p^2$</li>\n    <li>$Aa : 2pq$</li>\n    <li>$aa : q^2$</li>\n</ul>\n<p>Lag et program som ber brukeren om verdien til p og q. Programmet skal så teste om p + q = 1. Hvis summen er 1, skal programmet regne ut andelene til de tre mulige genotypene, og skrive dem ut. Hvis summen ikke er 1, skal programmet skrive en feilmelding.</p>\n#### Løsning:",
      "metadata": {}
    },
    {
      "cell_type": "code",
      "source": "p = float(input('Skriv inn p-verdien: '))\nq = float(input('Skriv inn q-verdien: '))\nif p + q == 1:\n    print(f'AA: {p**2:.2f}')\n    print(f'Aa: {2*p*q:.2f}')\n    print(f'aa: {q**2:.2f}')\nelse:\n    print(f'{p} =! {q}')",
      "metadata": {},
      "execution_count": 64,
      "outputs": [
        {
          "name": "stdout",
          "output_type": "stream",
          "text": "AA: 0.09\nAa: 0.42\naa: 0.49\n"
        }
      ]
    },
    {
      "cell_type": "markdown",
      "source": "### Oppgave 4.16\n(Fysikk): Heisenbergs uskarphetsrelasjon\n \nHeisenbergs uskarphetsrelasjon forteller at det er ikke er mulig å ha en presis måling av en partikkels posisjon og bevegelsesmengde1samtidig. Det er altså en viss relasjon mellom hvor nøyaktig en måling kan være av posisjon og bevegelsesmengde. Matematisk kan en skrive dette som\n$$\\Delta x \\cdot \\Delta p \\geq \\frac{h}{2}$$\nder vi bruker at $h = 1.055 · 10−34$ J, og $∆x$ og $∆p$ er mål på hvor nøyaktig en måling av henholdsvis posisjon og bevegelsesmengde er. Skriv et program som ber brukeren\nom å skrive inn en verdi for ∆x og ∆p. Programmet skal så teste om Heisenbergs uskarphetsrelasjon vil holde for den gitte $∆x$ og $∆p$ og skrive ut en melding som forteller om relasjonen holder eller ikke. <b>Tips:</b> Et lite tall som f.eks $2.29 · 10^{−29}$ kan\nrepresenteres ved $2.29e-29$.\n#### Løsning:",
      "metadata": {}
    },
    {
      "cell_type": "code",
      "source": "h = 1.055e-35\ndelta_x = float(input('Delta x: '))\ndelta_p = float(input('Delta p: '))\n\nif delta_x*delta_p >= h/2:\n    print('Heisenbergs uskarphetsrelasjon holder.')\nelse:\n    print('Heisenbergs uskarphetsrelasjon holder ikke.')",
      "metadata": {
        "trusted": true
      },
      "execution_count": 14,
      "outputs": [
        {
          "text": "Heisenbergs uskarphetsrelasjon holder.\n",
          "name": "stdout",
          "output_type": "stream"
        }
      ]
    },
    {
      "cell_type": "markdown",
      "source": "### Oppgave 4.17\nKari liker å sove lenge. Hun blir veldig fornøyd hvis hun får sove 10 timer og ikke kommer for seint til skolen. For at hun ikke skal komme for seint, må hun seinest stå opp klokka 06:00.\n\n#### a)\nFor at Kari skal sove til neste dag, må hun tidligst legge seg klokka 14:00. Lag  et program som ber brukeren om å skrive inn når Kari legger seg. Hun har litt OCD og legger seg kun ved hele timer, som er et heltall mellom 0 og 23. Programmet skal deretter teste om brukeren har gitt ei tid slik at Kari vil sove til neste dag. Hvis Kari ikke kommer til å sove til neste dag, skal programmet skrive en feilmelding.\n#### Løsning:\n\n",
      "metadata": {}
    },
    {
      "cell_type": "code",
      "source": "leggetid = float(input('Når legger Kari seg? '))\nvaknetid = (leggetid+10)%24\nif leggetid >= 14:\n    print(f'Kari vil sove til {vaknetid:02.0f}:00 neste dag')",
      "metadata": {},
      "execution_count": 88,
      "outputs": [
        {
          "name": "stdout",
          "output_type": "stream",
          "text": "Kari vil sove til 06:00 neste dag\n"
        }
      ]
    },
    {
      "cell_type": "markdown",
      "source": "#### b)\nUtvid programmet ditt fra a) slik at det også tester om Kari vil rekke skolen\nhvis hun sover 10 timer fra det angitte tidspunktet.\n#### Løsning:",
      "metadata": {}
    },
    {
      "cell_type": "code",
      "source": "leggetid = float(input('Når legger Kari seg? '))\ntimer_sovn = 10\nvaknetid = (leggetid + timer_sovn)%24\nskole = 'rekke'\n\nif leggetid >= 14:\n    print(f'Kari vil sove til {vaknetid:02.0f}:00 neste dag med {timer_sovn} timer søvn.')\n    \nif vaknetid >= 6:\n    skole = 'ikke rekke'\n    \nprint(f'Kari vil {skole} skolen.')",
      "metadata": {},
      "execution_count": 92,
      "outputs": [
        {
          "name": "stdout",
          "output_type": "stream",
          "text": "Kari vil sove til 07:00 neste dag med 10 timer søvn.\nKari vil ikke rekke skolen.\n"
        }
      ]
    },
    {
      "cell_type": "markdown",
      "source": "### Oppfave 2.18\nSkriv om kodesnuttene under slik det står beskrevet.\n\n#### 1. \nProgrammet skal ikke bruke and:",
      "metadata": {}
    },
    {
      "cell_type": "code",
      "source": "#Fra oppgaven\ntall = 15\nif 10 < tall and tall < 20:\n    tall = tall + 2\nelse:\n    tall = tall +1\nprint(tall)",
      "metadata": {
        "trusted": true
      },
      "execution_count": 15,
      "outputs": [
        {
          "text": "17\n",
          "name": "stdout",
          "output_type": "stream"
        }
      ]
    },
    {
      "cell_type": "code",
      "source": "#Løsning\ntall = 15\nif tall <= 10 or tall >=20:\n    tall = tall +1\nelse:\n    tall = tall +2\nprint(tall)",
      "metadata": {
        "trusted": true
      },
      "execution_count": 16,
      "outputs": [
        {
          "text": "17\n",
          "name": "stdout",
          "output_type": "stream"
        }
      ]
    },
    {
      "cell_type": "markdown",
      "source": "#### 2.  \nPå hver linje der det utføres +,-, * eller /, skal variabelen ikke forekomme på høyre side av likhetstegnet.",
      "metadata": {}
    },
    {
      "cell_type": "code",
      "source": "#Fra oppgaven\na = 10\nprint(a)\na = a + 14\nprint(a)\na = a/3 -2*a\nprint(a)",
      "metadata": {
        "trusted": true
      },
      "execution_count": 17,
      "outputs": [
        {
          "text": "10\n24\n-40.0\n",
          "name": "stdout",
          "output_type": "stream"
        }
      ]
    },
    {
      "cell_type": "code",
      "source": "#Løsning\na = 10\nprint(a)\na += 14\nprint(a)\na *= (1/3 - 2)\nprint(a)",
      "metadata": {
        "trusted": true
      },
      "execution_count": 18,
      "outputs": [
        {
          "text": "10\n24\n-40.0\n",
          "name": "stdout",
          "output_type": "stream"
        }
      ]
    },
    {
      "cell_type": "markdown",
      "source": "#### 3.\nVariablene c (lysets hastighet), G (gravitasjonskonstanten) og Msol (solmassen i kg) skal skrives om til standardform:",
      "metadata": {}
    },
    {
      "cell_type": "code",
      "source": "#Fra oppgaven\nc = 299792458\nG = 0.0000000000667408\nMsol = 1988550000000000000000000000000\nprint(c, G, Msol)",
      "metadata": {
        "trusted": true
      },
      "execution_count": 19,
      "outputs": [
        {
          "text": "299792458 6.67408e-11 1988550000000000000000000000000\n",
          "name": "stdout",
          "output_type": "stream"
        }
      ]
    },
    {
      "cell_type": "code",
      "source": "c = 299792458\nG = 0.0000000000667408\nMsol = 1988550000000000000000000000000\nprint(f' c    = {c:.2e} \\n G    = {G:.2e} \\n Msol = {Msol:.2e}' )",
      "metadata": {
        "trusted": true
      },
      "execution_count": 20,
      "outputs": [
        {
          "text": " c    = 3.00e+08 \n G    = 6.67e-11 \n Msol = 1.99e+30\n",
          "name": "stdout",
          "output_type": "stream"
        }
      ]
    },
    {
      "cell_type": "markdown",
      "source": "### Oppgave 4.19\nI denne oppgava skal du få prøve deg på å lage ei digital klokke som beregner hva klokka er etter ei gitt tid.\n#### a)\nSkriv et program som tar inn et klokkeslett fra brukeren på formen tt:mm der tt står for time (en verdi mellom 0 og 23) og mm står for minutt (en verdi mellom 0 og 59). Dette kan lettest gjøres ved at programmet spør om en verdi for tt, og så om mm. Programmet skal så sjekke om tt er en verdi mellom 0 og 23 og om mm er en verdi mellom 0 og 59. Hvis ikke, skal det skrive ut en feilmelding.\n#### Løsning:",
      "metadata": {}
    },
    {
      "cell_type": "code",
      "source": "klokke = input('Skriv inn klokkeslettet (tt:mm)  ')\ntt_ut = ''\nmm_ut = ''\n\nif klokke[0] != '0': \n    tt = int(klokke[0:2])\nelse:\n    tt = int(klokke[1])\n\nif klokke[3] != '0':\n    mm = int(klokke[3:5])\nelse:\n    mm = int(klokke[4])\n\nif tt < 0 or tt > 23 or mm < 0 or mm > 59 or len(klokke) != 5:\n    print('Du har skrevet inn noe feil. ')\n",
      "metadata": {
        "trusted": true
      },
      "execution_count": 22,
      "outputs": []
    },
    {
      "cell_type": "markdown",
      "source": "#### b)\nUtvidp rogrammet fra a) slik at dersom brukeren har gitt gyldig verdi for tt og mm, så ber den brukeren om å skrive inn hvor mange timer og minutter det har gått. Her skal det gå an å skrive inn hvilket som helst antall timer og minutter.\n\n#### c)\nUtvid programmet ditt slik at den finner hvilket klokkeslett den digitale klokka vil være på etter det gitte antallet timer og minutter. Det nye klokkeslettet skal også være på formen tt:mm. Det er et par ting programmet må ta høyde for:\n-   Verdien til det nye tt må være mellom 0 og 23, og verdien til mm må være mellom 0 og 59. Her vil operatoren % være til veldig stor hjelp.\n-   Dersom det nye antallet av minutter er mindre enn det gamle antallet minutter, betyr det at antall timer må økes med 1. Et eksempel er klokke- slettet 10:10; hvis det har gått 51 minutter, vil det nye klokkeslettet bli\n11:01. Verdien for mm er nå 01, som er mindre enn 10.\n-   Dersom antall minutter er over 60, vil det tilsvare én time. Programmet ditt må kunne finne ut hvor mange timer som utgjør det gitte antallet\nminutter.\n\nProgrammet skal til slutt skrive ut det nye klokkeslettet.\n#### Løsning:\n",
      "metadata": {}
    },
    {
      "cell_type": "code",
      "source": "klokke = input(' Skriv inn klokkeslettet (tt:mm) :')\ntt_ut = ''\nmm_ut = ''\ntid_timer = 0\ntid_minutter = 0\nif klokke[0] != '0': \n    tt = int(klokke[0:2])\nelse:\n    tt = int(klokke[1])\n\nif klokke[3] != '0':\n    mm = int(klokke[3:5])\nelse:\n    mm = int(klokke[4])\n\nif tt < 0 or tt > 23 or mm < 0 or mm > 59 or len(klokke) != 5:\n    print('Du har skrevet inn noe feil. ') \nelse:\n    tid_timer = int(input(f' Hvor mange timer har det gått etter {tt:02.0f}:{mm:02.0f}  '))\n    tid_minutter = int(input(f' Hvor mange minutter har det gått etter {tt:02.0f}:{mm:02.0f}  '))\n    \ntt_ny = tt + tid_timer \nmm_ny = mm + tid_minutter\ntt_ny += mm//60 #Helstallsivisjon\ntt_ny = tt_ny%24 #Resten av heltallsdivisjon\nmm_ny = mm_ny%60\nprint(f'---- {tid_timer} timer og {tid_minutter} minutter etter {tt:02.0f}:{mm:02.0f} er klokken {tt_ny:02.0f}:{mm_ny:02.0f} ----')\n",
      "metadata": {
        "trusted": true
      },
      "execution_count": 23,
      "outputs": [
        {
          "text": "---- 4 timer og 12 minutter etter 23:21 er klokken 03:33 ----\n",
          "name": "stdout",
          "output_type": "stream"
        }
      ]
    },
    {
      "cell_type": "markdown",
      "source": "## 4.1.2 While-løkker\n### Oppgave 4.20\nLag et motivasjonsprogram som skriver ut “Du er god!” et antall\nganger som er gitt av brukeren.\n#### Løsning:",
      "metadata": {}
    },
    {
      "cell_type": "code",
      "source": "ant = int(input('Antall utskrifter: '))\ni = 1\nwhile i <= ant:\n    print('Du er god! ')\n    i+=1",
      "metadata": {
        "trusted": true
      },
      "execution_count": 24,
      "outputs": [
        {
          "text": "Du er god! \nDu er god! \nDu er god! \nDu er god! \nDu er god! \n",
          "name": "stdout",
          "output_type": "stream"
        }
      ]
    },
    {
      "cell_type": "markdown",
      "source": "### Oppgave 4.21\nLag et program som skriver ut alle heltall fra og med 0 til og med 50. Bruk ei while-løkke.\n#### Løsning:",
      "metadata": {}
    },
    {
      "cell_type": "code",
      "source": "n = 1\nutskrift = ''\nwhile n <= 50:\n    utskrift = utskrift + str(n) + ' '\n    n+=1\nprint(utskrift)",
      "metadata": {
        "trusted": true
      },
      "execution_count": 25,
      "outputs": [
        {
          "text": "1 2 3 4 5 6 7 8 9 10 11 12 13 14 15 16 17 18 19 20 21 22 23 24 25 26 27 28 29 30 31 32 33 34 35 36 37 38 39 40 41 42 43 44 45 46 47 48 49 50 \n",
          "name": "stdout",
          "output_type": "stream"
        }
      ]
    },
    {
      "cell_type": "markdown",
      "source": "### Oppgave 4.22\nLag et program som skriver ut annethvert heltall fra 100 til 200 (ikke til og med). Bruk ei while-løkke.\n#### Løsning:",
      "metadata": {}
    },
    {
      "cell_type": "code",
      "source": "n = 100\nutskrift = ''\nwhile n <= 200:\n    utskrift = utskrift + str(n) + ' '\n    n+=2\nprint(utskrift)",
      "metadata": {
        "trusted": true
      },
      "execution_count": 26,
      "outputs": [
        {
          "text": "100 102 104 106 108 110 112 114 116 118 120 122 124 126 128 130 132 134 136 138 140 142 144 146 148 150 152 154 156 158 160 162 164 166 168 170 172 174 176 178 180 182 184 186 188 190 192 194 196 198 200 \n",
          "name": "stdout",
          "output_type": "stream"
        }
      ]
    },
    {
      "cell_type": "markdown",
      "source": "### Oppgave 4.23 \nLag et program som skriver ut en tabell med overskriftene “tall” og “rota av tallet”. Skriv ut tallene fra og med 0 til og med 100 med de respektive røttene i kolonnen til høyre. Du trenger ikke skillelinjer i tabellen, men prøv å få til et pent\nutskriftsformat.\n#### Vertikal løsning:",
      "metadata": {}
    },
    {
      "cell_type": "code",
      "source": "linje = f'——————————————————————————————'\nprint(linje)\nprint(f'|{\"Tall\":^10}|{\"Roten av tallet\":^17}|')\nn = 1\nwhile n <= 10: #Bytt ut 10 med 100 for rett svar\n    print( linje )\n    print(f'|{n:^10.0f}|{n**0.5:^17.2f}|')\n    n+=1\n    \nprint(linje)",
      "metadata": {
        "trusted": true
      },
      "execution_count": 27,
      "outputs": [
        {
          "text": "——————————————————————————————\n|   Tall   | Roten av tallet |\n——————————————————————————————\n|    1     |      1.00       |\n——————————————————————————————\n|    2     |      1.41       |\n——————————————————————————————\n|    3     |      1.73       |\n——————————————————————————————\n|    4     |      2.00       |\n——————————————————————————————\n|    5     |      2.24       |\n——————————————————————————————\n|    6     |      2.45       |\n——————————————————————————————\n|    7     |      2.65       |\n——————————————————————————————\n|    8     |      2.83       |\n——————————————————————————————\n|    9     |      3.00       |\n——————————————————————————————\n|    10    |      3.16       |\n——————————————————————————————\n",
          "name": "stdout",
          "output_type": "stream"
        }
      ]
    },
    {
      "cell_type": "markdown",
      "source": "#### Horisontal løsning",
      "metadata": {}
    },
    {
      "cell_type": "code",
      "source": "linje = '———————————————————'\ntall = f'| Tall             |'\nroten_av_tall = f'| Roten av tallet  |'\n\nn = 1\nwhile n <= 10: \n    linje += '——————'\n    tall += f'{n:4.1f} |'\n    roten_av_tall += f'{n**0.5:4.1f} |'\n    n+=1\n    \nprint(linje)\nprint(tall)\nprint(linje)\nprint(roten_av_tall)\nprint(linje)",
      "metadata": {
        "trusted": true
      },
      "execution_count": 28,
      "outputs": [
        {
          "text": "———————————————————————————————————————————————————————————————————————————————\n| Tall             | 1.0 | 2.0 | 3.0 | 4.0 | 5.0 | 6.0 | 7.0 | 8.0 | 9.0 |10.0 |\n———————————————————————————————————————————————————————————————————————————————\n| Roten av tallet  | 1.0 | 1.4 | 1.7 | 2.0 | 2.2 | 2.4 | 2.6 | 2.8 | 3.0 | 3.2 |\n———————————————————————————————————————————————————————————————————————————————\n",
          "name": "stdout",
          "output_type": "stream"
        }
      ]
    },
    {
      "cell_type": "markdown",
      "source": "### Oppgave 4.24\nLag et program som skriver ut en tabell med overskriftene “tall” og “kvadratet av tallet”. Skriv ut annethvert tall fra og med 150 til (men ikke med) 200\nmed kvadratet i kolonnen til høyre.\n#### Løsning:\n",
      "metadata": {}
    },
    {
      "cell_type": "code",
      "source": "linje = f'——————————————————————————————'\nprint(linje)\nprint(f'|{\"Tall\":^10}|{\"Roten av tallet\":^17}|')\nn = 150\nwhile n < 160: #Bytt 160 med 200 for rett svar\n    print( linje )\n    print(f'|{n:^10.0f}|{n**0.5:^17.2f}|')\n    n+=1\n    \nprint(linje)",
      "metadata": {
        "trusted": true
      },
      "execution_count": 29,
      "outputs": [
        {
          "text": "——————————————————————————————\n|   Tall   | Roten av tallet |\n——————————————————————————————\n|   150    |      12.25      |\n——————————————————————————————\n|   151    |      12.29      |\n——————————————————————————————\n|   152    |      12.33      |\n——————————————————————————————\n|   153    |      12.37      |\n——————————————————————————————\n|   154    |      12.41      |\n——————————————————————————————\n|   155    |      12.45      |\n——————————————————————————————\n|   156    |      12.49      |\n——————————————————————————————\n|   157    |      12.53      |\n——————————————————————————————\n|   158    |      12.57      |\n——————————————————————————————\n|   159    |      12.61      |\n——————————————————————————————\n",
          "name": "stdout",
          "output_type": "stream"
        }
      ]
    },
    {
      "cell_type": "markdown",
      "source": "### Oppgave 4.25\nLag en tabell som skriver ut antall grader fra og med 0 til og med 180, med 10 grader mellom hver verdi. I den andre kolonnen skal det være sinusverdien av vinkelen. Husk at standard vinkelmål i Python er radianer, så du må korrigere for dette under utregninga. Bruk tre gjeldende siffer.\n#### Løsning:",
      "metadata": {}
    },
    {
      "cell_type": "code",
      "source": "linje = f'———————————————————————————————————————————'\nprint(linje)\nprint(f'|{\"Vinkel i grader\":^20}|{\"Sinus til vinkelen\":^20}|')\nn = 0\nwhile n <= 180: \n    print( linje )\n    print(f'|{n:^20.0f}|{np.sin(2*np.pi*n/360):^20.2f}|')\n    n+=10\n    \nprint(linje)",
      "metadata": {
        "trusted": true
      },
      "execution_count": 30,
      "outputs": [
        {
          "text": "———————————————————————————————————————————\n|  Vinkel i grader   | Sinus til vinkelen |\n———————————————————————————————————————————\n|         0          |        0.00        |\n———————————————————————————————————————————\n|         10         |        0.17        |\n———————————————————————————————————————————\n|         20         |        0.34        |\n———————————————————————————————————————————\n|         30         |        0.50        |\n———————————————————————————————————————————\n|         40         |        0.64        |\n———————————————————————————————————————————\n|         50         |        0.77        |\n———————————————————————————————————————————\n|         60         |        0.87        |\n———————————————————————————————————————————\n|         70         |        0.94        |\n———————————————————————————————————————————\n|         80         |        0.98        |\n———————————————————————————————————————————\n|         90         |        1.00        |\n———————————————————————————————————————————\n|        100         |        0.98        |\n———————————————————————————————————————————\n|        110         |        0.94        |\n———————————————————————————————————————————\n|        120         |        0.87        |\n———————————————————————————————————————————\n|        130         |        0.77        |\n———————————————————————————————————————————\n|        140         |        0.64        |\n———————————————————————————————————————————\n|        150         |        0.50        |\n———————————————————————————————————————————\n|        160         |        0.34        |\n———————————————————————————————————————————\n|        170         |        0.17        |\n———————————————————————————————————————————\n|        180         |        0.00        |\n———————————————————————————————————————————\n",
          "name": "stdout",
          "output_type": "stream"
        }
      ]
    },
    {
      "cell_type": "markdown",
      "source": "### Oppgave 4.26\nLag et program som regner ut summen av de 100 første naturlige tallene.\n\nEt naturlig tall er i matematikken enten et positivt heltall (1, 2, 3,...) eller ikkenegativt heltall (0, 1, 2,...).\n\nDen første definisjonen brukes oftest i tallteorien og skrives: $\\mathbb{N}_0=\\{0, 1, 2, 3, ...\\}$\n\nDen siste brukes innenfor predikatlogikk, mengdelære og datateknologi og skrives: $\\mathbb{N}_1=\\{1, 2, 3, ...\\}$\n\n#### Løsning:",
      "metadata": {}
    },
    {
      "cell_type": "code",
      "source": "#N_0\nsum1 = 0\nn = 0\nwhile n < 100:\n    sum1 += n\n    n += 1\nprint(f'Summen av de hundre første tallene i N_0: {sum1}')\n\n#N_1\nsum2 = 0\nn = 1\nwhile n <= 100:\n    sum2 += n\n    n += 1\nprint(f'Summen av de hundre første tallene i N_1: {sum2}')",
      "metadata": {
        "trusted": true
      },
      "execution_count": 31,
      "outputs": [
        {
          "text": "Summen av de hundre første tallene i N_0: 4950\nSummen av de hundre første tallene i N_1: 5050\n",
          "name": "stdout",
          "output_type": "stream"
        }
      ]
    },
    {
      "cell_type": "markdown",
      "source": "### Oppgave 4.27\nLag et program som regner ut denne summen:\n$$\\sum_{n=0}^{50} \\frac{1}{2^n} $$\n#### Løsning:",
      "metadata": {}
    },
    {
      "cell_type": "code",
      "source": "sum = 0\nn = 0\nwhile n <= 50:\n    sum += 1/(2**n)\n    n += 1\nprint(f'Summen har verdien {sum:.6f}')",
      "metadata": {
        "trusted": true
      },
      "execution_count": 32,
      "outputs": [
        {
          "text": "Summen har verdien 2.000000\n",
          "name": "stdout",
          "output_type": "stream"
        }
      ]
    },
    {
      "cell_type": "markdown",
      "source": "### Oppgave 4.28\nLag et program som regner ut denne summen:\n$$\\sum_{n=2}^{16} ((n^2+1)+n) $$\n#### Løsning:",
      "metadata": {}
    },
    {
      "cell_type": "code",
      "source": "sum = 0\nn = 2\nwhile n <= 16:\n    sum += ((n**2 + 1) + n)\n    n+=1\nprint(f'Summen har verdien {sum:.1f}')",
      "metadata": {
        "trusted": true
      },
      "execution_count": 33,
      "outputs": [
        {
          "text": "Summen har verdien 1645.0\n",
          "name": "stdout",
          "output_type": "stream"
        }
      ]
    },
    {
      "cell_type": "markdown",
      "source": "### Oppgave 4.29\nLag et program som regner ut hvor lang tid det tar før du har en\nviss sum i banken, regna ut fra en startinvestering og ei rente.\n#### Løsning:",
      "metadata": {}
    },
    {
      "cell_type": "code",
      "source": "r = 3 #rente\nvf = 1 + r/100 #vekstfaktor\nbankbeholdning = 100000\nsparemal = 200000\naar = 0\n#Løsning med løkke\nwhile bankbeholdning < sparemal:\n    bankbeholdning *= vf\n    aar += 1\n\nprint(f'Det vil ta {aar} år å oppnå en en bankbeholdning på {bankbeholdning:.2f} kr')",
      "metadata": {
        "trusted": true
      },
      "execution_count": 34,
      "outputs": [
        {
          "text": "Det vil ta 24 år å oppnå en en bankbeholdning på 203279.41 kr\n",
          "name": "stdout",
          "output_type": "stream"
        }
      ]
    },
    {
      "cell_type": "markdown",
      "source": "### Oppgave 4.30\nLag et program der brukeren skal logge seg inn med brukernavn og passord. Gi først brukeren uendelig mange sjanser til å skrive inn riktig brukernavn og passord. Når dette programmet virker, utvid programmet til å gi brukeren kun tre sjanser på å skrive inn riktig kombinasjon.\n#### Løsning:",
      "metadata": {}
    },
    {
      "cell_type": "code",
      "source": "brukernavn = 'root'\npassord = '123456789'\ninnlogging = True\nantall_forsok = 1\nwhile innlogging and antall_forsok <= 3:\n    input_brukernavn = input('Tast inn ditt brukernavn: ')\n    input_passord = input('Tast inn ditt passord: ')\n    if input_brukernavn == brukernavn and input_passord == passord:\n        innlogging = False\n        print(f'Du er logget inn som {brukernavn} med passordet {passord}.')\n    else:\n        print('Brukernavn eller passord er feil. Prøv igjen.')\n    antall_forsok += 1",
      "metadata": {
        "trusted": true
      },
      "execution_count": 35,
      "outputs": [
        {
          "text": "Brukernavn eller passord er feil. Prøv igjen.\nDu er logget inn som root med passordet 123456789.\n",
          "name": "stdout",
          "output_type": "stream"
        }
      ]
    },
    {
      "cell_type": "markdown",
      "source": "### Oppgave 4.31\n\n(utfordring)\n\nSkriv et program som tar inn et heltall fra brukeren. Programmet skal så sjekke om heltallet inneholder sifferet 7 og skrive ut resultatet.\n\n<b>Tips:</b> Her kan det være nyttig å bruke heltallsdivisjon // for å bevege seg gjen- nom tallets tierplass, hundreplass osv. Det vil også være nyttig å vite tallets største tierpotens, som kan finnes ved floor(log10(tall )). Funksjonen floor runder av et tall til nærmeste heltall som er mindre eller lik tallet selv.\n#### Løsning:\n",
      "metadata": {}
    },
    {
      "cell_type": "code",
      "source": "antall_syvere = 0\ninput_heltall = int(input('Skriv inn et heltall:  '))\ntemp_heltall = input_heltall\nn = np.floor(np.log10(input_heltall)) #Største tierpotens\n\nwhile n >= 0:\n    tall = temp_heltall // 10**n\n    if tall == 7:\n        antall_syvere += 1\n    temp_heltall -= tall*10**n\n    n -= 1\n    \nprint(f'Tallet {input_heltall} inneholder {antall_syvere} 7-ere')",
      "metadata": {
        "trusted": true
      },
      "execution_count": 38,
      "outputs": [
        {
          "text": "Tallet 98712382394782 inneholder 2 7-ere\n",
          "name": "stdout",
          "output_type": "stream"
        }
      ]
    },
    {
      "cell_type": "markdown",
      "source": "#### Løsning med traversering av streng:",
      "metadata": {}
    },
    {
      "cell_type": "code",
      "source": "antall_syvere = 0\ninput_heltall = input('Skriv inn et heltall:  ')\nlengde_til_heltall = len(input_heltall)\nn = 0\nwhile n < lengde_til_heltall:\n    if input_heltall[n] == '7':\n        antall_syvere += 1\n    n += 1\n\nprint(f'Tallet {input_heltall} inneholder {antall_syvere} 7-ere')",
      "metadata": {
        "trusted": true
      },
      "execution_count": 41,
      "outputs": [
        {
          "text": "Tallet 72368747 inneholder 3 7-ere\n",
          "name": "stdout",
          "output_type": "stream"
        }
      ]
    },
    {
      "cell_type": "markdown",
      "source": "## 4.1.3 For-løkker\n### Oppgave 4.32\nLøs et utvalg av oppgavene 4.18–4.27 med for-løkker istedenfor\nwhile-løkker.",
      "metadata": {}
    },
    {
      "cell_type": "code",
      "source": "# Prøv selv (i oppgavene 2.20 til 2.28 einer for-løkke seg bedre enn while-løkke)",
      "metadata": {},
      "execution_count": 408,
      "outputs": []
    },
    {
      "cell_type": "markdown",
      "source": "### Oppgave 4.33\nLag et program som skriver ut:\n1. Alle heltall fra og med 0 til og med 100.\n2. Alle heltall fra 50 til 75.\n3. Alle partall fra og med 0 til og med 100.\n4. Alle oddetall fra og med 0 til og med 100.\n5. (<b>Utfordring</b>) Alle primtall til og med 100 (hint: bruk heltallsdivisjon og/eller\nmodulus).\n\n#### Løsning:",
      "metadata": {}
    },
    {
      "cell_type": "code",
      "source": "tall_1 = 'Heltall 0 til og med 100:\\n' \nfor x in range(101):\n    tall_1 += str(x) + ' '\nprint(tall_1)\n\ntall_2 = '\\nHeltall 50 til og med 75:\\n'\nfor x in range(50, 76):\n    tall_2 += str(x) + ' '\nprint(tall_2)\n\ntall_3 = '\\nPartall 0 til og med 100:\\n'\nfor x in range(0, 101, 2):\n    tall_3 += str(x) + ' '\nprint(tall_3)\n\ntall_4 = '\\nOddetall 0 til og med 100:\\n'\nfor x in range(1, 101, 2):\n    tall_4 += str(x) + ' '\nprint(tall_4)\n\ntall_5 = '\\nPrimtall opp til 100:\\n'\nfor x in range(2, 101):\n    primtall = True\n    for i in range (2,x+1):\n        if x != i and x%i == 0:\n            primtall = False\n    if primtall:\n        tall_5 += str(x) + ' '\nprint(tall_5)",
      "metadata": {
        "trusted": true
      },
      "execution_count": 42,
      "outputs": [
        {
          "text": "Heltall 0 til og med 100:\n0 1 2 3 4 5 6 7 8 9 10 11 12 13 14 15 16 17 18 19 20 21 22 23 24 25 26 27 28 29 30 31 32 33 34 35 36 37 38 39 40 41 42 43 44 45 46 47 48 49 50 51 52 53 54 55 56 57 58 59 60 61 62 63 64 65 66 67 68 69 70 71 72 73 74 75 76 77 78 79 80 81 82 83 84 85 86 87 88 89 90 91 92 93 94 95 96 97 98 99 100 \n\nHeltall 50 til og med 75:\n50 51 52 53 54 55 56 57 58 59 60 61 62 63 64 65 66 67 68 69 70 71 72 73 74 75 \n\nPartall 0 til og med 100:\n0 2 4 6 8 10 12 14 16 18 20 22 24 26 28 30 32 34 36 38 40 42 44 46 48 50 52 54 56 58 60 62 64 66 68 70 72 74 76 78 80 82 84 86 88 90 92 94 96 98 100 \n\nOddetall 0 til og med 100:\n1 3 5 7 9 11 13 15 17 19 21 23 25 27 29 31 33 35 37 39 41 43 45 47 49 51 53 55 57 59 61 63 65 67 69 71 73 75 77 79 81 83 85 87 89 91 93 95 97 99 \n\nPrimtall opp til 100:\n2 3 5 7 11 13 17 19 23 29 31 37 41 43 47 53 59 61 67 71 73 79 83 89 97 \n",
          "name": "stdout",
          "output_type": "stream"
        }
      ]
    },
    {
      "cell_type": "markdown",
      "source": "### Oppgave 4.34\nHensikten bak programmet under er at det skal skrive ut hvert 3. tall fra og med 5 til 20. Men dersom vi kjører programmet, skrives ingenting ut! Forklar hvorfor og rett på programmet slik at det skriver ut hvert 3. tall fra og med 5 til 20.",
      "metadata": {}
    },
    {
      "cell_type": "code",
      "source": "for tall in range(5,3,20):\n    print(tall)",
      "metadata": {},
      "execution_count": null,
      "outputs": []
    },
    {
      "cell_type": "markdown",
      "source": "#### Løsning:",
      "metadata": {}
    },
    {
      "cell_type": "code",
      "source": "for tall in range(5,21,3):\n    print(tall)",
      "metadata": {
        "trusted": true
      },
      "execution_count": 43,
      "outputs": [
        {
          "text": "5\n8\n11\n14\n17\n20\n",
          "name": "stdout",
          "output_type": "stream"
        }
      ]
    },
    {
      "cell_type": "markdown",
      "source": "### Oppgave 4.35\nFibonnacifølgen er en kjent tallfølge med heltall der hvert tall etter\ndet første er summen av de to foregående. Følgen starter slik: \n\n1, 1, 2, 3, 5, 8, 13, 21, 34, 55, ...\n\nLag et program som finner tall nr. n i rekka.\n\n#### Løsning:",
      "metadata": {}
    },
    {
      "cell_type": "code",
      "source": "n = 20\ntall_1 = 1\ntall_2 = 1\nif n == 1 or n == 2:\n    print(1)\nelse:\n    for x in range(n-2):\n        tall_n = tall_1 + tall_2\n        tall_1 = tall_2\n        tall_2 = tall_n\n    print(f'Tall nr. {n} i fibonacifølgen er {tall_n}.')",
      "metadata": {
        "trusted": true
      },
      "execution_count": 44,
      "outputs": [
        {
          "text": "Tall nr. 20 i fibonacifølgen er 6765.\n",
          "name": "stdout",
          "output_type": "stream"
        }
      ]
    },
    {
      "cell_type": "markdown",
      "source": "### Oppgave 4.36\nLag et program som viser at summen av denne rekka er 4.5:\n\n$$3 + 1 +\\frac{1}{3} +\\frac{1}{9}+\\frac{1}{27}+...$$\n\n#### Løsning:",
      "metadata": {}
    },
    {
      "cell_type": "code",
      "source": "sum = 0\n\nfor x in range(0, 10000):\n    sum += 3/3**x\n    \nprint(f'Summen til rekka er {sum:.10f}.')",
      "metadata": {
        "trusted": true
      },
      "execution_count": 45,
      "outputs": [
        {
          "text": "Summen til rekka er 4.5000000000.\n",
          "name": "stdout",
          "output_type": "stream"
        }
      ]
    },
    {
      "cell_type": "markdown",
      "source": "### Oppgave 4.37\nKoden under regner ut:\n$$\\sum_{n=1}^m n = 1+2+\\cdot \\cdot \\cdot + m$$",
      "metadata": {}
    },
    {
      "cell_type": "code",
      "source": "m = int(input(\"\"))\ns = 0\nn = 1\nwhile n <= m:\n    s = s + n\n    n = n + 1",
      "metadata": {
        "trusted": true
      },
      "execution_count": 47,
      "outputs": []
    },
    {
      "cell_type": "markdown",
      "source": "Skriv om koden slik at den bruker en for-løkke, og slik at den skriver ut s.\n#### Løsning:",
      "metadata": {}
    },
    {
      "cell_type": "code",
      "source": "m = int(input(\" m: \"))\ns = 0\nfor n in range(1, m):\n    s += n\nprint(f'Summen til rekka er {s} når m = {m}')",
      "metadata": {
        "trusted": true
      },
      "execution_count": 48,
      "outputs": [
        {
          "text": "Summen til rekka er 3741 når m = 87\n",
          "name": "stdout",
          "output_type": "stream"
        }
      ]
    },
    {
      "cell_type": "markdown",
      "source": "### Oppgave 4.38\nI kombinatorikk er n-fakultet definert som produktet av alle heltall fra og med 1 til og med n. Dette kan vi skrive slik:\n$$n!=\\prod_{k=1}^n k$$\nLag en funksjon som regner ut fakultetet av et tall.\n#### Løsning:",
      "metadata": {}
    },
    {
      "cell_type": "code",
      "source": "n = 11\nn_fakultet = 1\nfor k in range(1, n+1):\n    n_fakultet *= k\nprint(f'{n}! = {n_fakultet}')",
      "metadata": {
        "trusted": true
      },
      "execution_count": 49,
      "outputs": [
        {
          "text": "11! = 39916800\n",
          "name": "stdout",
          "output_type": "stream"
        }
      ]
    },
    {
      "cell_type": "markdown",
      "source": "### Oppgave 4.39\nLag et program som skal fungere som et ekko. Programmet skal be brukeren om å “si noe” (det vil si gi input), for så skrive ut det samme brukeren har sagt. Ekkoet skal slutte å virke når brukeren sier “slutt”.\n#### Løsning:",
      "metadata": {}
    },
    {
      "cell_type": "code",
      "source": "input_tekst = ''\nwhile True:\n    input_tekst = input('Tekst: ')\n    if input_tekst == 'slutt' or input_tekst == 'Slutt':\n        break\n    else:\n        print(f'Ekko:  {input_tekst}')",
      "metadata": {
        "trusted": true
      },
      "execution_count": 51,
      "outputs": [
        {
          "text": "Ekko:  Hva?\nEkko:  Hei\n",
          "name": "stdout",
          "output_type": "stream"
        }
      ]
    },
    {
      "cell_type": "markdown",
      "source": "### Oppgave 4.40\nLag et program som finner alle tall som er delelig med 7, menikke med 5, mellom 2000 og 3200.\n#### Løsning:",
      "metadata": {}
    },
    {
      "cell_type": "code",
      "source": "tall = ''\nfor x in range(2001, 3200):\n    if x % 7 == 0 and x % 5 !=0:\n        tall += str(x) + ' '\nprint(tall)",
      "metadata": {
        "trusted": true
      },
      "execution_count": 52,
      "outputs": [
        {
          "text": "2002 2009 2016 2023 2037 2044 2051 2058 2072 2079 2086 2093 2107 2114 2121 2128 2142 2149 2156 2163 2177 2184 2191 2198 2212 2219 2226 2233 2247 2254 2261 2268 2282 2289 2296 2303 2317 2324 2331 2338 2352 2359 2366 2373 2387 2394 2401 2408 2422 2429 2436 2443 2457 2464 2471 2478 2492 2499 2506 2513 2527 2534 2541 2548 2562 2569 2576 2583 2597 2604 2611 2618 2632 2639 2646 2653 2667 2674 2681 2688 2702 2709 2716 2723 2737 2744 2751 2758 2772 2779 2786 2793 2807 2814 2821 2828 2842 2849 2856 2863 2877 2884 2891 2898 2912 2919 2926 2933 2947 2954 2961 2968 2982 2989 2996 3003 3017 3024 3031 3038 3052 3059 3066 3073 3087 3094 3101 3108 3122 3129 3136 3143 3157 3164 3171 3178 3192 3199 \n",
          "name": "stdout",
          "output_type": "stream"
        }
      ]
    },
    {
      "cell_type": "markdown",
      "source": "### Oppgave 4.41\n(Biologi)\n\nTøffeldyr formerer seg ukjønnet (deler seg i to) annenhver time dersom de befinner seg i en omgivelse med temperatur på $20°$C.\n\nSkriv et program som regner ut og skriver ut hvor mange tøffeldyr det vil være dersom vi begynner med 5 tøffeldyr som formerer seg ukjønnet i løpet av 24 timer. Du kan anta at ingen tøffeldyr dør. \n\n<img src='http://biyolojiterimleri.com/f/images/K%20harfi/Kirpikliler.jpg' width='100px'>\n\n#### Løsning:",
      "metadata": {}
    },
    {
      "cell_type": "code",
      "source": "# Oppgaven er litt upresis, men antar at tøffeldyrene akkurat har delt seg \n# og at de deler seg siste gang når det har gått 24 timer.\nantall_toffeldyr = 5\nfor t in range(2, 25, 2): \n    antall_toffeldyr *= 2\nprint(f'Det vil være {antall_toffeldyr} tøffeldyr etter 24 timer')\n",
      "metadata": {
        "trusted": true
      },
      "execution_count": 53,
      "outputs": [
        {
          "text": "Det vil være 20480 tøffeldyr etter 24 timer\n",
          "name": "stdout",
          "output_type": "stream"
        }
      ]
    },
    {
      "cell_type": "markdown",
      "source": "### Oppgave 4.42\nDersom en PC-modell koster $7500$kr i dag, vil den nødvendigvis ikke koste det samme om noen år. Hvor mye en vare, som i vårt tilfelle er en PC- modell, avtar i verdi, bestemmes av ei rente r. Verdien P til PC-en etter t år kan finnes ved å bruke formelen\n$$P=\\frac{7500}{(1+r)^t}$$\n\nSkriv et program som skriver ut, år for år, verdien til PC-en over en periode på $10$ år med ei rente på $4\\%$.",
      "metadata": {}
    },
    {
      "cell_type": "code",
      "source": "r = 4/100\nantall_aar = 10\npc_startverdi = 7500 \nlinje = f'—————————————————————————————————————————————————————'\nprint(linje)\nprint(f'|{\"PC-en sin alder (år)\":^25}|{\"PC-en sin verdi (kr)\":^25}|')\nfor t in range(0, antall_aar+1):\n    print( linje )\n    print(f'|{t:^25.0f}|{pc_startverdi/(1 + r)**t:^25.2f}|')\n    n+=10\n    \nprint(linje)",
      "metadata": {
        "trusted": true
      },
      "execution_count": 54,
      "outputs": [
        {
          "text": "—————————————————————————————————————————————————————\n|  PC-en sin alder (år)   |  PC-en sin verdi (kr)   |\n—————————————————————————————————————————————————————\n|            0            |         7500.00         |\n—————————————————————————————————————————————————————\n|            1            |         7211.54         |\n—————————————————————————————————————————————————————\n|            2            |         6934.17         |\n—————————————————————————————————————————————————————\n|            3            |         6667.47         |\n—————————————————————————————————————————————————————\n|            4            |         6411.03         |\n—————————————————————————————————————————————————————\n|            5            |         6164.45         |\n—————————————————————————————————————————————————————\n|            6            |         5927.36         |\n—————————————————————————————————————————————————————\n|            7            |         5699.38         |\n—————————————————————————————————————————————————————\n|            8            |         5480.18         |\n—————————————————————————————————————————————————————\n|            9            |         5269.40         |\n—————————————————————————————————————————————————————\n|           10            |         5066.73         |\n—————————————————————————————————————————————————————\n",
          "name": "stdout",
          "output_type": "stream"
        }
      ]
    },
    {
      "cell_type": "markdown",
      "source": "### Oppgave 4.43\n\n(Fysikk): Bohrs atommodell \n\nBruk Bohrs atommodell for atomspektrene til hydrogen- atomet. Vi kan bruke formelen nedenfor for å regne ut frekvensen til et foton som emitteres når atomet deeksiterer fra skall n til m:\n\n$$f=\\frac{B}{h}\\cdot \\bigg( \\frac{1}{m^2}-\\frac{1}{n^2} \\bigg)$$\n\nLag et program som regner ut alle bølgelengdene til fotonene som emitteres når atomet deeksiterer fra et skall n til alle mulige energinivåer.\n\n<img class='flyt' src='http://ungenergi.no/wp-content/uploads/hydrogenatom.jpg' width='200px'>\n<img class='flyt' src='https://upload.wikimedia.org/wikipedia/commons/1/17/Bohr_atom_animation_2.gif' width='200px'>\n<img class='flyt' src='https://upload.wikimedia.org/wikipedia/commons/thumb/9/93/Bohr_atom_model.svg/620px-Bohr_atom_model.svg.png' width='200px'>\n\n\n#### Løsning:",
      "metadata": {}
    },
    {
      "cell_type": "code",
      "source": "def f(m, n):\n    B = 2.18e-18\n    h = 6.64e-34\n    return B/h*(1/m**2 - 1/n**2) \n\ndef lamda(f):\n    c = 3.0e8\n    return 1e9*c/f\n  \n# n = int(input('Hva er skallet det skal deekseteres fra?'))\n# m = int(input('Hva er skallet det skal deekseteres til?'))\n\nprint(f'Bølgelengden: {lamda(f(2, 4)):.3E}nm')",
      "metadata": {
        "trusted": true
      },
      "execution_count": 55,
      "outputs": [
        {
          "text": "Bølgelengden: 4.873E+02nm\n",
          "name": "stdout",
          "output_type": "stream"
        }
      ]
    },
    {
      "cell_type": "code",
      "source": "def f(m, n):\n    B = 2.18e-18\n    h = 6.64e-34\n    return B/h*(1/n**2 - 1/m**2) \n\n  \nn = int(input('Hva er skallet det skal deekseteres fra?'))\n\nprint(linje)\nprint(f'|{\"Fra skall\":^15}:{n:^10}|')\nlinje = f'————————————————————————————'\nprint(linje)\nprint(f'|{\"Skall\":^12}|{\"Energi (J)\":^13}|')\nfor i in range(1, n):\n    h = 6.64e-34\n    if i != n:\n        print( linje )\n        print(f'|{i:^12.0f}|{h*f(n, i):12.3E} |')\n\nprint( linje )",
      "metadata": {
        "trusted": true
      },
      "execution_count": null,
      "outputs": []
    },
    {
      "cell_type": "code",
      "source": "",
      "metadata": {},
      "execution_count": null,
      "outputs": []
    },
    {
      "cell_type": "markdown",
      "source": "### Oppgave 4.44\nOver tid vil den radioaktive strålingen i et radioaktivt stoff reduseres. Dette skjer fordi atomene i det radioaktive stoffet vil omdannes til andre grunnstoffer. Mengden $N(t)$ som gjenstår av det radioaktive stoffet etter ei tid t kan finnes ved:\n\n$$N(t)=N_0 e^{-at}$$\n\nder $N_0$ er hvor mye radioaktivt stoff vi starter med ved tida $t = 0$. Verdien til a\nforteller hvor raskt det radioaktive stoffet omdannes til andre grunnstoffer. Hvis vi\nkjenner halveringstida $T$ , vil $a=\\frac{ln(2)}{T}$\n\nPlutonium-239 har halveringstid på omtrent $T = 24 000$ år. Skriv et program som skriver ut hvor mye Plutonium-239 som gjenstår etter hvert $5000$. år over en periode på $50000$ år dersom $N_0 = 4$kg.\n\n#### Løsning:",
      "metadata": {}
    },
    {
      "cell_type": "code",
      "source": "T = 24000\na = np.log(2)/T\nN_0 = 4\nlinje = f'———————————————————————'\nprint(linje)\nprint(f'|{\"t (år)\":^10}|{\"N(t)\":^10}|')\nfor t in range(0, 50001, 5000):\n    print( linje )\n    print(f'|{t:^10.0f}|{N_0*np.e**(-a*t):^10.2f}|')\n    n+=10\n    \nprint(linje) ",
      "metadata": {},
      "execution_count": 519,
      "outputs": [
        {
          "name": "stdout",
          "output_type": "stream",
          "text": "———————————————————————\n|  t (år)  |   N(t)   |\n———————————————————————\n|    0     |   4.00   |\n———————————————————————\n|   5000   |   3.46   |\n———————————————————————\n|  10000   |   3.00   |\n———————————————————————\n|  15000   |   2.59   |\n———————————————————————\n|  20000   |   2.24   |\n———————————————————————\n|  25000   |   1.94   |\n———————————————————————\n|  30000   |   1.68   |\n———————————————————————\n|  35000   |   1.46   |\n———————————————————————\n|  40000   |   1.26   |\n———————————————————————\n|  45000   |   1.09   |\n———————————————————————\n|  50000   |   0.94   |\n———————————————————————\n"
        }
      ]
    },
    {
      "cell_type": "markdown",
      "source": "### Oppgave 4.45\nPer har $5000$kr på konto.For hvert år setter han inn $5\\%$ avbeløpet på kontoen sin.\n\n<b>a)</b> Skriv et program som finner ut hvor mye han vil ha på kontoen sin etter 20 år. Programmet skal skrive ut resultatet.\n\n#### Løsning:",
      "metadata": {}
    },
    {
      "cell_type": "code",
      "source": "# a)\nbeholdning = 5000\nantall_aar = 20\nr = 5/100\n\nfor t in range(1, antall_aar+1):\n    beholdning *= (1+r)\n\nprint(f'Per vil ha {beholdning:.2f}kr på kontoen etter {antall_aar}år')",
      "metadata": {},
      "execution_count": 528,
      "outputs": [
        {
          "name": "stdout",
          "output_type": "stream",
          "text": "Per vil ha 13266.49kr på kontoen etter 20år\n"
        }
      ]
    },
    {
      "cell_type": "markdown",
      "source": "<b>b)</b> Nå viser det seg at for hvert 5. år tar Per penger ut av kontoen. Han tar ut 10 % av beløpet på kontoen etter å ha lagt inn 5 % av beløpet som allerede ligger på kontoen. Utvid programmet ditt fra deloppgave a) slik det tar med uttakene Per gjør.\n\n#### Løsning:",
      "metadata": {}
    },
    {
      "cell_type": "code",
      "source": "# b)\nbeholdning = 5000\nantall_aar = 20\nr = 5/100\nuttak = 0\n\nfor t in range(1, antall_aar+1):\n    beholdning *= (1+r)\n    if t % 5 == 0:\n        ut = beholdning * 10/100\n        beholdning -= ut\n        uttak += ut\n\nprint(f'Per vil ha {beholdning:.2f}kr på kontoen etter {antall_aar}år.'\n      f'Han har tatt ut {uttak:.2f}kr' )",
      "metadata": {},
      "execution_count": 534,
      "outputs": [
        {
          "name": "stdout",
          "output_type": "stream",
          "text": "Per vil ha 8704.14kr på kontoen etter 20år.Han har tatt ut 3180.24kr\n"
        }
      ]
    },
    {
      "cell_type": "markdown",
      "source": "### Oppgave 4.46\n(Biologi)\n\nRNA er en kopi av en del av en DNA-streng (et gen). I translasjonen av et protein overfører tRNA aminosyrer til ribosomene. Hvert tRNA- molekyl har et antikodon som skal passe til mRNA-ets kodon.\n\n<img width='100%' src='https://ndla.no/sites/default/files/images/proteinsyntesen.jpg?fag=7'>\n\n1. Lag et program der du kan skrive inn tre baser på DNA som oversettes til mRNA-tråden.\n2. Få programmet til å oversette kodonet til et antikodon.\n3. Legg inn alle aminosyrene i programmet, og la programmet finne ut hvilken\naminosyre du får.\n4. <b>NB: Omfattende!</b> Utvid programmet til å lese av lengre DNA-sekvenser.\n\n#### Løsning:",
      "metadata": {}
    },
    {
      "cell_type": "code",
      "source": "input_DNA = input('DNA: ')\nut_mRNA = ''\nfor base in input_DNA:\n    if base == 'A':\n        ut_mRNA += 'U'\n    if base == 'C':\n        ut_mRNA += 'G'\n    if base == 'G':\n        ut_mRNA += 'C'\n    if base == 'T':\n        ut_mRNA += 'A'\n        \nprint(f'DNA:   {input_DNA}')\nprint(f'm-RNA: {ut_mRNA}')",
      "metadata": {},
      "execution_count": 623,
      "outputs": [
        {
          "name": "stdout",
          "output_type": "stream",
          "text": "DNA:   TAACGCCATGTAAGCT\nm-RNA: AUUGCGGUACAUUCGA\n"
        }
      ]
    },
    {
      "cell_type": "markdown",
      "source": " <b>2.</b>  Få programmet til å oversette kodonet til et antikodon.\n #### Løsning:",
      "metadata": {}
    },
    {
      "cell_type": "code",
      "source": "input_DNA = input('DNA: ')\nut_mRNA = ''\nfor base in input_DNA:\n    if base == 'A':\n        ut_mRNA += 'U'\n    if base == 'C':\n        ut_mRNA += 'G'\n    if base == 'G':\n        ut_mRNA += 'C'\n    if base == 'T':\n        ut_mRNA += 'A'\n\nut_tRNA = ''\nfor base in ut_mRNA:\n    if base == 'A':\n        ut_tRNA += 'U'\n    if base == 'C':\n        ut_tRNA += 'G'\n    if base == 'G':\n        ut_tRNA += 'C'\n    if base == 'U':\n        ut_tRNA += 'A'\n    \nprint(f'DNA:   {input_DNA}')\nprint(f'm-RNA: {ut_mRNA}')\nprint(f't-RNA: {ut_tRNA}')",
      "metadata": {},
      "execution_count": 627,
      "outputs": [
        {
          "name": "stdout",
          "output_type": "stream",
          "text": "DNA:   TAACGCCATGTAAGCT\nm-RNA: AUUGCGGUACAUUCGA\nt-RNA: UAACGCCAUGUAAGCU\n"
        }
      ]
    },
    {
      "cell_type": "markdown",
      "source": "<b>3.</b> Legg inn alle aminosyrene i programmet, og la programmet finne ut hvilken aminosyre du får. \n#### Løsning:",
      "metadata": {}
    },
    {
      "cell_type": "code",
      "source": "",
      "metadata": {},
      "execution_count": null,
      "outputs": []
    },
    {
      "cell_type": "markdown",
      "source": "### Oppgave 4.47\nTaylorrekke\n\nI matematikken finnes det ulike måter å tilnærme en funksjon på. En metode som ofte brukes, kalles for rekkeutvikling (hvis du vil vite mer, kan du søke på Taylorrekke). Ved denne metoden uttrykkes funksjoner som en sum. Dersom en rekkeutvikler cosinus, vil en få at:\n\n$$cos(x)=1+\\sum_{n=1}^\\infty \\frac{(-1)^n}{(2n)!}x^{2n}$$\n\n<img src='https://upload.wikimedia.org/wikipedia/commons/5/51/Taylor_cos.gif'>\n\nSkriv et program som regner ut rekkeutviklingen til cosinus for en verdi av x der\n$x \\ne 0$. Datamaskinen kan ikke representere ∞, så du kan heller summere rekka opp til ei stor nok grense N. Kontroller resultatet ditt ved å regne ut $cos(x)$. Finn en verdi\nfor N som gir en god tilnærming til resultatet du fikk.\n\n#### Løsning:",
      "metadata": {}
    },
    {
      "cell_type": "code",
      "source": "x = np.pi\nN = 10\ncos_x_taylor = 1\nfor n in range(1, N):\n    cos_x_taylor += (-1)**n/(np.math.factorial(2*n))*x**(2*n)\nprint(f'cos(pi)_tayler = {cos_x_taylor:.7f} \\ncos(pi)        = {np.cos(np.pi):.7f}')    ",
      "metadata": {},
      "execution_count": 559,
      "outputs": [
        {
          "name": "stdout",
          "output_type": "stream",
          "text": "cos(pi)_tayler = -1.0000000 \ncos(pi)        = -1.0000000\n"
        }
      ]
    },
    {
      "cell_type": "markdown",
      "source": "### Oppgave 4.48\n(Fysikk)\n\nPer har lagd en kulekanon og ønsker å prøve den ut. Kanonen er plassert 5 meter unna en vegg som har et hull. Hullet begynner 7.5 meter over bakken og slutter 8 meter over bakken. Per har regna seg fram til at når kula treffer veggen, vil kula være\n\n$$-\\frac{25}{2} \\cdot \\frac{g}{v^2\\cos^2\\theta}+5\\tan \\theta$$\n\nmeter over bakken. Kula skytes ut i en vinkel θ med en fart på v meter per sekund. Du kan bruke at g = 9.81m/s2. Per ønsker å treffe hullet, og derfor må han vite hvilken θ og v som må brukes.\n\n<b>a)</b> Per har bestemt seg for at kanonen skal skyte ut kulene med en vinkel $60°$. Lag et program som tar inn skytefarten v som input fra brukeren og regner ut hvor høyt på veggen ballen treffer (bruk likningen over). Programmet skal skrive ut om ballen treffer hullet eller ikke.\n\n#### Løsning:\nSiden det ikke er oppgitt en radius på kula så antar jeg at den er veldig nærme 0 :)",
      "metadata": {}
    },
    {
      "cell_type": "code",
      "source": "theta = np.deg2rad(60) #Gjør om til radianer\ng = 9.81\nv = float(input('Skriv inn utgangshastighet på kula (m/s): '))\nh = -25/2 * g/(v**2 * np.cos(theta**2))+5*np.tan(theta)\n\nif h <= 0:\n    print('Kula triller langs bakken inn til veggen.')\nelif h <= 7.5:\n    print(f'Kula treffer veggen under hullet, {h:.2f}m over bakken')\nelif h >= 8:\n    print(f'Kula treffer veggen over hullet eller går helt over veggen, {h:.2f}m over bakken')\nelse:\n    print(f'Kula treffer i hullet {h:.2f}m over bakken.')",
      "metadata": {},
      "execution_count": 579,
      "outputs": [
        {
          "name": "stdout",
          "output_type": "stream",
          "text": "Kula treffer i hullet 7.99m over bakken.\n"
        }
      ]
    },
    {
      "cell_type": "markdown",
      "source": "<b>b)</b> Utvid programmet ditt fra a) slik at det tar inn skytevinkelenen i grader som input og finner ut om ballen vil treffe hullet eller ikke.\n\n#### Løsning",
      "metadata": {}
    },
    {
      "cell_type": "code",
      "source": "g = 9.81\nv = float(input('Skriv inn utgangshastighet på kula (m/s): '))\ntheta = np.deg2rad(float(input('Skriv inn vinkelen til kanonen (grader): '))) #Gjør om til radianer\nh = -25/2 * g/(v**2 * np.cos(theta**2))+5*np.tan(theta)\n\nif h <= 0:\n    print('Kula triller langs bakken og treffer veggen.')\nelif h <= 7.5:\n    print(f'Kula treffer veggen under hullet, {h:.2f}m over bakken')\nelif h >= 8:\n    print(f'Kula treffer veggen over hullet eller går helt over veggen, {h:.2f}m over bakken')\nelse:\n    print(f'Kula treffer i hullet {h:.2f}m over bakken.')",
      "metadata": {},
      "execution_count": 577,
      "outputs": [
        {
          "name": "stdout",
          "output_type": "stream",
          "text": "Kula treffer i hullet 7.60m over bakken.\n"
        }
      ]
    },
    {
      "cell_type": "markdown",
      "source": "### Oppgave 4.49\nI kapittel 2 fikk du se en framgangsmåte på hvordan man kan konvertere et tall fra titallsystemet til totallsystemet (side ??). I programmet under er mange av stegene i framgangsmåten beskrevet som en algoritme, men ikke slik at programmet kan kjøres.",
      "metadata": {}
    },
    {
      "cell_type": "code",
      "source": "def finn_stoerste_n(x):\n    n = 0\n    så lenge 2**n er mindre eller lik x\n        n økes med en\n    funksjon returner n-1\n    \ntall_ti = int(input(''))\n\nsett n slik at n er den største potensen slik at 2**n <= tall_ti\n\ntallet i starter på n, slutter på 0 og senkes ett steg om gangen:\n    hvis 2**i er mindre eller lik tall_ti:\n        tall_ti = differansen mellom gamle verdien av tall_ti og 2**i\n        print(1)\n    ellers:\n        print(0)",
      "metadata": {},
      "execution_count": null,
      "outputs": []
    },
    {
      "cell_type": "markdown",
      "source": "Skriv om programmet slik at stegene som er beskrevet i koden, blir gjort om til kjørbar kode. Ingen innrykk i koden skal endres.\n\n#### Løsning:",
      "metadata": {}
    },
    {
      "cell_type": "code",
      "source": "def finn_stoerste_n(x):\n    n = 0\n    while 2**n <= x:\n        n+=1\n    return n-1\n    \ntall_ti = int(input(' Gjør om fra titalls- til totalls-systemet: '))\ntall_to_ut = ''\ntall_ti_ut = tall_ti\nn = int(np.floor(np.log2(tall_ti)))\nfor i in range(n, 0, -1):\n    if 2**i <= tall_ti:\n        tall_ti = tall_ti - 2**i\n        tall_to_ut += '1'\n    else:\n        tall_to_ut += '0'\n\nprint(f'{tall_ti_ut}_ti = {tall_to_ut}_to')",
      "metadata": {},
      "execution_count": 606,
      "outputs": [
        {
          "name": "stdout",
          "output_type": "stream",
          "text": "2929292_ti = 101100101100101000110_to\n"
        }
      ]
    },
    {
      "cell_type": "markdown",
      "source": "### Oppgave 4.50\nNewtons binomialformel\n\nNewtons binomialformel forteller oss hvordan en kan regne ut $(a + b)^n$ for et heltall $n$ og vilkårlige tallverdier $a$ og $b$. Den sier at\n\n$$(a+b)^n = \\sum_{r=0}^n\\binom{n}{r}a^{n-r}b^r$$\n\nder $\\binom{n}{r}=\\frac{n!}{r!(n-r)!}$. For eksempel hvis $n=4$, så er\n\n\\begin{align}\n(a+b)^4 & = \\binom{4}{0}a^{4-0}b^0+\\binom{4}{1}a^{4-1}b^1+\\binom{4}{2}a^{4-2}b^2+\\binom{4}{3}a^{4-3}b^3+\\binom{4}{4}a^{4-4}b^4 \\\\\n & = \\binom{4}{0}a^{4}b^0+\\binom{4}{1}a^{3}b^1+\\binom{4}{2}a^{2}b^2+\\binom{4}{3}a^{1}b^3+\\binom{4}{4}a^{0}b^4 \\\\\n\\end{align}\n\nLag et program som ber brukeren om verdier for $a$, $b$ og $n$. Programmet skal så regne ut $(a + b)^n$ og deretter skrive ut resultatet. Sjekk om resultatet stemmer ved å først legge sammen verdiene $a$ og $b$, for så opphøye resultatet i $n$.\n\n<b>Tips:</b> For å regne ut 􏰔$n$􏰕, kan du bruke funksjonen $scipy.special.binom(n,r)$ fra $scipy.special-biblioteket$.\n\n\n#### Løsning:",
      "metadata": {}
    },
    {
      "cell_type": "code",
      "source": "#kommer",
      "metadata": {},
      "execution_count": null,
      "outputs": []
    },
    {
      "cell_type": "markdown",
      "source": "### Oppgave 4.51\n\nPascals trekant\n\nPascals trekant er en talltrekant der tallene i trekanten følger et bestemt mønster. På n-te rad er tallene som befinner seg inni (altså ikke langs kantene) trekanten lik summen av de to nærmeste tallene over seg.\n\n<img src='https://ds055uzetaobb.cloudfront.net/image_optimizer/525270b426404c042a8a250de1eb8ffcf95c7d2e.png'>\n\nVerdiene til den $n$-te raden i trekanten kan finnes ved:\n\n$$\\binom{n}{0} \\hskip 0.5em \\binom{n}{1} \\hskip 0.5em \\binom{n}{2} \\hskip 0.5em \\cdot\\cdot\\cdot \\hskip 0.5em \\binom{n}{n-2} \\hskip 0.5em \\binom{n}{n-1} \\hskip 0.5em \\binom{n}{n}$$\n\nder $\\binom{n}{r}=\\frac{n!}{r!(n-r)!}$ for heltall r og n.\n\n<b>a)</b>\nSkriv et program som tar inn en verdi $n$ fra brukeren og skriver ut den $n$-te raden i Pascals trekant. Du kan bruke funksjonen scipy.special.binom(n,r) fra\nscipy.special-biblioteket til å regne ut 􏰔$n$􏰕.\n\n#### Løsning:",
      "metadata": {}
    },
    {
      "cell_type": "code",
      "source": "n = int(input('skriv inn raden du ønsker fra Pascaal´s trekant: '))\npascal_rad_ut = ''\nfor r in range(n+1):\n    pascal_rad_ut += f'{sps.binom(n, n-r):^5n}'\nprint(f'{pascal_rad_ut:80}')",
      "metadata": {},
      "execution_count": 696,
      "outputs": [
        {
          "name": "stdout",
          "output_type": "stream",
          "text": "  1    5   10   10    5    1                                                    \n"
        }
      ]
    },
    {
      "cell_type": "markdown",
      "source": "<b>b)</b>\nUtvid programmet ditt fra a) slik at det skriver ut trekanten fra og med 0-te rad til og med n-te rad. Et eksempel på output kan være:\n\n<img src='https://upload.wikimedia.org/wikipedia/commons/c/ca/Pascal_triangle_small.png'>\n\n#### Løsning:",
      "metadata": {}
    },
    {
      "cell_type": "code",
      "source": "for n in range(0, 12):\n    pascal_rad_ut = ''\n    for r in range(n+1):\n        pascal_rad_ut += f'{sps.binom(n, n-r):^5n}'\n    print(f'{pascal_rad_ut:^80}')",
      "metadata": {},
      "execution_count": 694,
      "outputs": [
        {
          "name": "stdout",
          "output_type": "stream",
          "text": "                                       1                                        \n                                     1    1                                     \n                                  1    2    1                                   \n                                1    3    3    1                                \n                             1    4    6    4    1                              \n                           1    5   10   10    5    1                           \n                        1    6   15   20   15    6    1                         \n                      1    7   21   35   35   21    7    1                      \n                   1    8   28   56   70   56   28    8    1                    \n                 1    9   36   84   126  126  84   36    9    1                 \n              1   10   45   120  210  252  210  120  45   10    1               \n            1   11   55   165  330  462  462  330  165  55   11    1            \n"
        }
      ]
    },
    {
      "cell_type": "code",
      "source": "",
      "metadata": {},
      "execution_count": null,
      "outputs": []
    }
  ]
}