{
  "metadata": {
    "kernelspec": {
      "name": "python36",
      "display_name": "Python 3.6",
      "language": "python"
    },
    "language_info": {
      "mimetype": "text/x-python",
      "nbconvert_exporter": "python",
      "name": "python",
      "pygments_lexer": "ipython3",
      "version": "3.6.6",
      "file_extension": ".py",
      "codemirror_mode": {
        "version": 3,
        "name": "ipython"
      }
    }
  },
  "nbformat_minor": 2,
  "nbformat": 4,
  "cells": [
    {
      "cell_type": "markdown",
      "source": "# 3. Introduksjon til programmering - Løsningsforslag",
      "metadata": {}
    },
    {
      "cell_type": "markdown",
      "source": "### Biblioteker til oppgavene",
      "metadata": {}
    },
    {
      "cell_type": "code",
      "source": "import numpy as np",
      "metadata": {},
      "execution_count": 2,
      "outputs": []
    },
    {
      "cell_type": "markdown",
      "source": "## 3.1.1 Input og output\n### Oppgave 3.1\nLag et program som skriver ut “Hei, navnet ditt”. Modifiser så programmet slik at navnet ditt lagres i en variabel, og benytt så denne variabelen i utskriftskommandoen.\n\n#### Løsning:",
      "metadata": {}
    },
    {
      "cell_type": "code",
      "source": "navn = 'Steinar'\nprint(f'Hei, {navn}!')",
      "metadata": {},
      "execution_count": 3,
      "outputs": [
        {
          "name": "stdout",
          "output_type": "stream",
          "text": "Hei, Steinar!\n"
        }
      ]
    },
    {
      "cell_type": "markdown",
      "source": "### Oppgave 3.2\nLag tre variabler av ulik type og gi dem en verdi. Skriv ut de tre verdiene.\n\n#### Løsning:",
      "metadata": {}
    },
    {
      "cell_type": "code",
      "source": "tall = 3\ntekst = 'tre'\nboolian = True\nprint(f'Tall-variabel:   {tall}')\nprint(f'Tekst-variabel:  {tekst}')\nprint(f'Boolsk-variabel: {boolian}')",
      "metadata": {},
      "execution_count": 4,
      "outputs": [
        {
          "name": "stdout",
          "output_type": "stream",
          "text": "Tall-variabel:   3\nTekst-variabel:  tre\nBoolsk-variabel: True\n"
        }
      ]
    },
    {
      "cell_type": "markdown",
      "source": "### Oppgave 3.3\nLag et program som skriver ut tre variabler av ulik type etter hverandre.\n\n#### Løsning:",
      "metadata": {}
    },
    {
      "cell_type": "code",
      "source": "tall = 3\ntekst = 'tre'\nboolian = False\nprint(f'Tall: {tall} > {tekst}, er {boolian}')",
      "metadata": {},
      "execution_count": 5,
      "outputs": [
        {
          "name": "stdout",
          "output_type": "stream",
          "text": "Tall: 3 > tre, er False\n"
        }
      ]
    },
    {
      "cell_type": "markdown",
      "source": "### Oppgave 3.4\nLag et program som skriver “Hei,navn!” til skjermen. Brukeren skal bes om å taste inn navnet sitt. Dette navnet skal lagres i en variabel, og så skrives ut som i setningen ovenfor. Husk også utropstegnet til slutt.\n\n#### Løsning:",
      "metadata": {}
    },
    {
      "cell_type": "code",
      "source": "navn = input('Tast inn navnet ditt: ')\nprint(f'Hei {navn}!')",
      "metadata": {},
      "execution_count": 8,
      "outputs": [
        {
          "name": "stdin",
          "output_type": "stream",
          "text": "Tast inn navnet ditt:  Steinar\n"
        },
        {
          "name": "stdout",
          "output_type": "stream",
          "text": "Hei Steinar!\n"
        }
      ]
    },
    {
      "cell_type": "markdown",
      "source": "<b>Utvid</b> programmet til å spørre om alderen din. La programmet skrive ut en kommentar til alderen din til slutt, for eksempel “din alder er jammen gammelt!”\n\n#### Løsning:",
      "metadata": {}
    },
    {
      "cell_type": "code",
      "source": "navn = input('Tast inn navnet ditt: ')\nalder = input(f'Hvor gammel er du, {navn}: ')\nprint(f'{alder} år er ingen alder, {navn}!')",
      "metadata": {},
      "execution_count": 6,
      "outputs": [
        {
          "name": "stdin",
          "output_type": "stream",
          "text": "Tast inn navnet ditt:  Steinar\nHvor gammel er du, Steinar:  40\n"
        },
        {
          "name": "stdout",
          "output_type": "stream",
          "text": "40 år er ingen alder, Steinar!\n"
        }
      ]
    },
    {
      "cell_type": "markdown",
      "source": "### Oppgave 3.5\nLag et program som spør etter to tall fra brukeren. Programmet skal så skrive ut disse to tallene. Lag en passende utskriftssetning.\n\n#### Løsning:",
      "metadata": {}
    },
    {
      "cell_type": "code",
      "source": "tall_1 = int(input('Skriv inn et tall: '))\ntall_2 = int(input('Skriv inn et tall til: '))\nprint(f'{tall_1} + {tall_2} = {tall_1+tall_2}')",
      "metadata": {},
      "execution_count": 10,
      "outputs": [
        {
          "name": "stdin",
          "output_type": "stream",
          "text": "Skriv inn et tall:  82\nSkriv inn et tall til:  23\n"
        },
        {
          "name": "stdout",
          "output_type": "stream",
          "text": "82 + 23 = 105\n"
        }
      ]
    },
    {
      "cell_type": "markdown",
      "source": "## 3.1.2 Matematiske operasjoner\n### Oppgave 3.6\nLag to variabler med hver sin tallverdi. Lag en tredje variabel med summen av disse. Skriv ut summen slik: “Summen av tall 1 og tall 2 er sum”. \n\n#### Løsning:",
      "metadata": {}
    },
    {
      "cell_type": "code",
      "source": "tall_1 = 9\ntall_2 = 11\nsum = tall_1 + tall_2\n\nprint(f'Saummen til {tall_1} og {tall_2} er {sum}.')",
      "metadata": {},
      "execution_count": 11,
      "outputs": [
        {
          "name": "stdout",
          "output_type": "stream",
          "text": "Saummen til 9 og 11 er 20.\n"
        }
      ]
    },
    {
      "cell_type": "markdown",
      "source": "<b>Modifiser</b> programmet slik at det tar tallene fra brukeren.\n\n#### Løsning:",
      "metadata": {}
    },
    {
      "cell_type": "code",
      "source": "tall_1 = int(input('Skriv inn et tall: '))\ntall_2 = int(input('Skriv inn et tall til: '))\nsum = tall_1 + tall_2\n\nprint(f'Saummen til {tall_1} og {tall_2} er {sum}.')",
      "metadata": {},
      "execution_count": 12,
      "outputs": [
        {
          "name": "stdin",
          "output_type": "stream",
          "text": "Skriv inn et tall:  8273\nSkriv inn et tall til:  123\n"
        },
        {
          "name": "stdout",
          "output_type": "stream",
          "text": "Saummen til 8273 og 123 er 8396.\n"
        }
      ]
    },
    {
      "cell_type": "markdown",
      "source": "### Oppgave 3.7\nForklar hva som er forskjellen mellom kodene\n\n```\n    print(a/(b*c))\n```\n\nog\n```\n\n    print(a/b*c)\n```",
      "metadata": {}
    },
    {
      "cell_type": "markdown",
      "source": "#### Løsning:",
      "metadata": {}
    },
    {
      "cell_type": "markdown",
      "source": "Nevneren til brøken er $b\\cdot c$ i den første og bare $b$ i den andre.",
      "metadata": {}
    },
    {
      "cell_type": "markdown",
      "source": "### Oppgave 3.8\nLag et program som regner ut forholdet mellom massen til protonet, mp, og massen til elektronet me. Programmet ditt skal gi at forholdet blir omtrentlig lik $1836$. Du kan bruke at $mp = 1.672621898 · 10^{−27}$ og $me = 9.10938356 · 10^{−31}$.\n#### Løsning:",
      "metadata": {}
    },
    {
      "cell_type": "code",
      "source": "m_p = 1.672621898 * 10 ** (-27)\nm_e = 9.10938356 * 10 ** (-31)\nforhold = m_p/m_e\nprint(f'Forholde mellom massen til proteinet og massen til elektronet: {forhold:4.0f}:1')",
      "metadata": {},
      "execution_count": 11,
      "outputs": [
        {
          "name": "stdout",
          "output_type": "stream",
          "text": "Forholde mellom massen til proteinet og massen til elektronet: 1836:1\n"
        }
      ]
    },
    {
      "cell_type": "markdown",
      "source": "#### Løsning (med e-notasjon): ",
      "metadata": {}
    },
    {
      "cell_type": "code",
      "source": "m_p = 1.672621898e-27\nm_e = 9.10938356e-31\nforhold = m_p/m_e\nprint(f'Forholde mellom massen til proteinet og massen til elektronet: {forhold:4.0f}:1')",
      "metadata": {},
      "execution_count": 10,
      "outputs": [
        {
          "name": "stdout",
          "output_type": "stream",
          "text": "Forholde mellom massen til proteinet og massen til elektronet: 1836:1\n"
        }
      ]
    },
    {
      "cell_type": "markdown",
      "source": "### Oppgave 3.9\nLag et program som regner ut gjennomsnittet av et visst antall tall.\n#### Løsning:",
      "metadata": {}
    },
    {
      "cell_type": "code",
      "source": "a = int(input(\"Tall1: \"))\nb = int(input(\"Tall2: \"))\nc = int(input(\"Tall3: \"))\nd = int(input(\"Tall4: \"))\ne = int(input(\"Tall5: \"))\n\nprint(f'Gjennomsnittet til tallene: {(a+b+c+d+e)/5}')",
      "metadata": {},
      "execution_count": 14,
      "outputs": [
        {
          "name": "stdin",
          "output_type": "stream",
          "text": "Tall1:  23\nTall2:  213\nTall3:  43\nTall4:  12\nTall5:  1\n"
        },
        {
          "name": "stdout",
          "output_type": "stream",
          "text": "Gjennomsnittet til tallene: 58.4\n"
        }
      ]
    },
    {
      "cell_type": "markdown",
      "source": "### Oppgave 3.10\nHvert program i denne oppgava inneholder noen feil. Finn feilene\nog rett på dem slik at programmene kan kjøres korrekt. \n\n<b>1.</b> Programmet skal regne ut sinus av $30º$:\n\n```Python\na = sin(30)\nprint(f'Sinus av 30° er = {a}')\n```",
      "metadata": {}
    },
    {
      "cell_type": "markdown",
      "source": "#### Løsning:",
      "metadata": {}
    },
    {
      "cell_type": "code",
      "source": "import numpy as np #Vi trenger numpy-biblioteket\na = np.sin(np.deg2rad(30)) #Så må vi gjøre om fra grader til radianer\nprint(f'Sinus av 30° er = {a:.2f}')",
      "metadata": {},
      "execution_count": 1,
      "outputs": [
        {
          "name": "stdout",
          "output_type": "stream",
          "text": "Sinus av 30° er = 0.50\n"
        }
      ]
    },
    {
      "cell_type": "markdown",
      "source": "<b>2.</b> Programmet skal regne ut prisen på 3 kaffe- og 4 tepakker:\n\n```Python\npris_kaffe = 45 kr\npris_te = 40 kr\ntotalpris = 3*pris_kaffe + 4*pris_te\nprint(f'Total pris: {totalpris}')\n```",
      "metadata": {}
    },
    {
      "cell_type": "markdown",
      "source": "#### Løsning:",
      "metadata": {}
    },
    {
      "cell_type": "code",
      "source": "pris_kaffe = 45 #Vi kan ikke regne med enheter\npris_te = 40 #Vi kan ikke regne med enheter\ntotalpris = 3*pris_kaffe + 4*pris_te \nprint(f'Total pris: {totalpris} kr')  #Legger til enheten i utskriften",
      "metadata": {},
      "execution_count": 18,
      "outputs": [
        {
          "name": "stdout",
          "output_type": "stream",
          "text": "Total pris: 295 kr\n"
        }
      ]
    },
    {
      "cell_type": "markdown",
      "source": "<b>3.</b> Programmet skal regne ut produktet av a og b, som begge er tall gitt fra brukeren:\n\n```Python\nc = a * b\na = input('Skriv inn verdi for a: ')\nb = input('Skriv inn verdi for b: ')\nprint(c)\n```",
      "metadata": {}
    },
    {
      "cell_type": "markdown",
      "source": "#### Løsning:",
      "metadata": {}
    },
    {
      "cell_type": "code",
      "source": "a = int(input('Skriv inn verdi for a: ')) #Vi må definere variabelene før vi referer til dem\nb = int(input('Skriv inn verdi for b: ')) #Og så må vi gjøre om tallene til float elelr int for å ta produktet av dem.\nc = a * b #Flyttet under a og b\nprint(f'{a} * {b} = {c}') #Det er lurt med bedre utskrift",
      "metadata": {},
      "execution_count": 19,
      "outputs": [
        {
          "name": "stdin",
          "output_type": "stream",
          "text": "Skriv inn verdi for a:  23\nSkriv inn verdi for b:  21\n"
        },
        {
          "name": "stdout",
          "output_type": "stream",
          "text": "23 * 21 = 483\n"
        }
      ]
    },
    {
      "cell_type": "markdown",
      "source": "### Oppgave 3.11\nLag et program som tar bensinforbruket per kilometer til en bil og hvor mange kilometer bilen skal kjøre som input fra brukeren. Programmet skal så beregne hvor mange lite\n#### Løsning:",
      "metadata": {}
    },
    {
      "cell_type": "code",
      "source": "forbruk = float(input(\"Kilometerforbruk: \"))\nkm = float(input(\"Ant. kilometer: \"))\n\nprint(f'Bilen har brukt {forbruk * km:.1f} l etter {km:.1f} km.')",
      "metadata": {},
      "execution_count": 26,
      "outputs": [
        {
          "name": "stdin",
          "output_type": "stream",
          "text": "Kilometerforbruk:  0.17\nAnt. kilometer:  421\n"
        },
        {
          "name": "stdout",
          "output_type": "stream",
          "text": "Bilen har brukt 71.6 l etter 421.0 km.\n"
        }
      ]
    },
    {
      "cell_type": "markdown",
      "source": "### Oppgave 3.12\n(Biologi)\nEt menneske vil dø dersom han/hun mister så mye vann som $15$ % av sin kroppsvekt. Skriv et program som ber brukeren om å skrive inn hvor mye en person veier. Programmet skal deretter regne ut hvor mange liter vann som utgjør $15$ % av personens vekt. Resultatet skal så skrives ut.\n\n#### Løsning:",
      "metadata": {}
    },
    {
      "cell_type": "code",
      "source": "vekt = float(input('Skriv inn vekten din: '))\nvann_15prosent = vekt * 0.15\nprint(f'15 % utgjør {vann_15prosent:.1f} l av en persom på {vekt} kg.')",
      "metadata": {},
      "execution_count": 27,
      "outputs": [
        {
          "name": "stdin",
          "output_type": "stream",
          "text": "Skriv inn vekten din:  80\n"
        },
        {
          "name": "stdout",
          "output_type": "stream",
          "text": "15 % utgjør 12.0 l av en persom på 80.0 kg.\n"
        }
      ]
    },
    {
      "cell_type": "markdown",
      "source": "### Oppgave 3.13\n(Kjemi) Lag et program som regner ut hvor mye en trenger å veie ut av et bestemt stoff for å lage et visst volum (gitt av brukeren) av en løsning med en viss konsentrasjon (gitt av brukeren).\n\nFor en kjemiker vil antall mol av et stoff være viktigere å kjenne til enn antall gram. Molariteten (M) til et stoff er antall mol av det løste stoffet per liter løsning. I SI-enheter vil konsentrasjon da være mol/dm³.\n\n$$M=\\frac {\\rm {mol~lost~stoff}}{\\rm {volum~av~hele~losningen}}$$\n\n#### Løsning:\n\nLøser likningen for $\\rm {mol~lost~stoff}$:\n\n$${\\rm {mol~lost~stoff}} = {\\rm {volum~av~hele~losningen}} \\cdot M$$\n\nDersom molariteten (konsentrajsonen) av et stoff løst i en halv liter væske er $\\rm {12~M}$:\n\n$${\\rm {0,5~l}} \\cdot 12~M = \\rm {6~mol}$$",
      "metadata": {}
    },
    {
      "cell_type": "code",
      "source": "volum = float(input('Skriv in volumet til stoffet (liter): '))\nmolaritet = float(input('Skriv in molariteten: '))\nmol_lost_stoff = volum * molaritet\nprint(f'{volum} l * {molaritet} M = {mol_lost_stoff} mol')",
      "metadata": {},
      "execution_count": 29,
      "outputs": [
        {
          "name": "stdin",
          "output_type": "stream",
          "text": "Skriv in volumet til stoffet (liter):  3\nSkriv in molariteten:  37\n"
        },
        {
          "name": "stdout",
          "output_type": "stream",
          "text": "3.0 l * 37.0 M = 111.0 mol\n"
        }
      ]
    },
    {
      "cell_type": "markdown",
      "source": "### Oppgave 3.14\nSkriv et program som beregner hvor mange kroner, $p$ prosent av $k$ kroner utgjør. Programmet skal be brukeren om verdiene til $p$ og $k$.\n\n#### Løsning:",
      "metadata": {}
    },
    {
      "cell_type": "code",
      "source": "p = float(input('Skriv inn prosent (%): '))\nk = float(input('Skriv inn antall kroner (kr): '))\nprint(f'{p:.1f} % utgjør {p/100*k:.2f} kr av {k:.2f} kr.')",
      "metadata": {},
      "execution_count": 30,
      "outputs": [
        {
          "name": "stdin",
          "output_type": "stream",
          "text": "Skriv inn prosent (%):  20\nSkriv inn antall kroner (kr):  53216\n"
        },
        {
          "name": "stdout",
          "output_type": "stream",
          "text": "20.0 % utgjør 10643.20 kr av 53216.00 kr.\n"
        }
      ]
    },
    {
      "cell_type": "markdown",
      "source": "### Oppgave 3.15\nLag et program der du kan velge mellom tre godterityper: Sur sild, melkesjokolade og potetgull (valgfri smak). La oss si at sur sild koster $16.00$ kr/hg, melkesjokolade koster $25.00$ kr/hg og potetgullet koster $20.50$ kr/hg. Spør brukeren om hvor mye penger han/hun har, og fortell brukeren hvor mye godteri han/hun får av den valgte typen.\n\n#### Løsning:\nDenne oppgave skal nok være under if-test-kapittelet ",
      "metadata": {}
    },
    {
      "cell_type": "code",
      "source": "penger = float(input('Skriv inn hvor mye penger du vil bruke: '))\ngodteritype = int(input('Skriv <1> for Sur sild, <2> for melkesjokolade og <3> for potetgull: '))\n\nif godteritype == 1:\n    print(f'Du får {penger/16} hg sur sild for {penger} kr. ')\nelif godteritype == 2:\n    print(f'Du får {penger/25} hg melkesjokolade for {penger} kr. ')\nelif godteritype == 3:\n    print(f'Du får {penger/20.5} hg potegull for {penger} kr. ')\nelse:\n    print('Du har skrevet inn noe feil.')",
      "metadata": {},
      "execution_count": 31,
      "outputs": [
        {
          "name": "stdin",
          "output_type": "stream",
          "text": "Skriv inn hvor mye penger du vil bruke:  200\nSkriv <1> for Sur sild, <2> for melkesjokolade og <3> for potetgull:  2\n"
        },
        {
          "name": "stdout",
          "output_type": "stream",
          "text": "Du får 8.0 hg melkesjokolade for 200.0 kr. \n"
        }
      ]
    },
    {
      "cell_type": "markdown",
      "source": "### Oppgave 3.16\nEn iskrembod har nettopp begynt å selge kuleis. Boden har 3 liter is for hver smak. Hver kule som blir solgt, er en perfekt kule med radius på 2.5 cm. Lag et program som regner ut og skriver ut hvor mange kuler 3 liter is vil gi.\n\n#### Løsning:\n$$V = \\frac{4 \\pi \\cdot r^3}{3}$$",
      "metadata": {}
    },
    {
      "cell_type": "code",
      "source": "radius_kule = 2.5 / 10 #Gjør om fra cm til dm\nvolum_kule = 4 * np.pi * radius_kule**3/3 #i liter\nliter_is = 3 \nantall_kuler = liter_is / volum_kule\n\nprint(f'{liter_is} l is vil gi {antall_kuler:.2f} kuler is. {antall_kuler:.0f} hele kuer.')",
      "metadata": {},
      "execution_count": 7,
      "outputs": [
        {
          "name": "stdout",
          "output_type": "stream",
          "text": "3 l is vil gi 45.84 kuler is. 46 hele kuer.\n"
        }
      ]
    },
    {
      "cell_type": "markdown",
      "source": "### Oppgave 3.17\nLag et program som regner ut den briggske logaritmen (tierlogarit- men) til et tall. Utvid programmet slik at brukeren gir tallet som input.\n\n#### Løsning:",
      "metadata": {}
    },
    {
      "cell_type": "code",
      "source": "tall = float(input('Skriv inn et tall: '))\nlog10_tall = np.log10(tall)\n\nprint(f'Log10({tall}) = {log10_tall}')",
      "metadata": {},
      "execution_count": 33,
      "outputs": [
        {
          "name": "stdin",
          "output_type": "stream",
          "text": "Skriv inn et tall:  1000\n"
        },
        {
          "name": "stdout",
          "output_type": "stream",
          "text": "Log10(1000.0) = 3.0\n"
        }
      ]
    },
    {
      "cell_type": "markdown",
      "source": "### Oppgave 3.18\nSkriv et program som tar inn et antall år fra brukeren og konverterer det til sekunder. Du kan se bort fra skuddår.\n\n#### Løsning:",
      "metadata": {}
    },
    {
      "cell_type": "code",
      "source": "aar = float(input('Skriv inn antall år: '))\naar_til_sekunder = aar * 365 * 24 * 60 * 60\nprint(f'Det er {aar_til_sekunder:.1f} sekunder i {aar:.1f} år.')",
      "metadata": {},
      "execution_count": 34,
      "outputs": [
        {
          "name": "stdin",
          "output_type": "stream",
          "text": "Skriv inn antall år:  18\n"
        },
        {
          "name": "stdout",
          "output_type": "stream",
          "text": "Det er 567648000.0 sekunder i 18.0 år.\n"
        }
      ]
    },
    {
      "cell_type": "markdown",
      "source": "### Oppgave 3.19\nSkriv et program som ber brukeren om å skrive inn to tall $a$ og $b$. Tallet $a$ skal deles på $b$. Resultatet skal skrives ut på formen:\n$a$ delt på $b$: $b$ går ? ganger opp i $a$, det er ? i rest.\n\n#### Løsning:",
      "metadata": {}
    },
    {
      "cell_type": "code",
      "source": "a = int(input('Skriv inn et tall: '))\nb = int(input('Skriv inn et tall til: '))\nprint(f'{a} delt på {b}: {b} går {(a//b):.0f} ganger opp i {a}, det er {a%b} i rest.')",
      "metadata": {},
      "execution_count": 5,
      "outputs": [
        {
          "name": "stdin",
          "output_type": "stream",
          "text": "Skriv inn et tall:  15\nSkriv inn et tall til:  4\n"
        },
        {
          "name": "stdout",
          "output_type": "stream",
          "text": "15 delt på 4: 4 går 3 ganger opp i 15, det er 3 i rest.\n"
        }
      ]
    },
    {
      "cell_type": "markdown",
      "source": "## 3.1.3 Funskjoner\n\n### Oppgave 3.20\nHvert program i denne oppgava inneholder noen feil. Finn feilene\nog rett på dem slik at programmene kan kjøres korrekt.\n\n#### 1. \nFunksjonen skal regne ut $f(x) = \\frac{1}{2x}+1$ og returnere svaret. I programmet skal funksjonen kalles på for $x = 4$:",
      "metadata": {}
    },
    {
      "cell_type": "code",
      "source": "def f(x):\n    return 1/(2*x) + 1 #mangler return og marantes til nevneren\n\nprint(f'f(4) = {f(4)}') #må kalle på funksjonen met et argumen",
      "metadata": {
        "trusted": true
      },
      "execution_count": 11,
      "outputs": [
        {
          "text": "f(4) = 1.125\n",
          "name": "stdout",
          "output_type": "stream"
        }
      ]
    },
    {
      "cell_type": "markdown",
      "source": "#### 2. \nProgrammet ber brukeren om å skrive en verdi for $x$ og regner ut $f(x) = 3x+cos(x)$ og returnere svaret.",
      "metadata": {}
    },
    {
      "cell_type": "code",
      "source": "import numpy as np #manglet numpy\ndef f(x):\n    return 3*x + np.cos(x) # mangler gangetegn og numpy\n\ny = float(input(\"Skriv inn verdi for x: \"))  # må konvertere inputen til tall\nprint(f'f({y}) = {f(y):.2f}') # litt formatering også",
      "metadata": {
        "trusted": true
      },
      "execution_count": 13,
      "outputs": [
        {
          "text": "f(1.0) = 3.54\n",
          "name": "stdout",
          "output_type": "stream"
        }
      ]
    },
    {
      "cell_type": "markdown",
      "source": "#### 3.\nProgrammet skal skrive ut funksjonsverdien til G.",
      "metadata": {}
    },
    {
      "cell_type": "code",
      "source": "def G(t):\n    a = t**2 - 2\n    return a\n\nt=1 \nprint(f'G({t}) = {G(t)}') #rettet opp utskriften",
      "metadata": {
        "trusted": true
      },
      "execution_count": 10,
      "outputs": [
        {
          "text": "G(1) = -1\n",
          "name": "stdout",
          "output_type": "stream"
        }
      ]
    },
    {
      "cell_type": "markdown",
      "source": "### Oppgave 3.21\nLag et program eller flere programmer som regner ut: \n1. Arealet til en sirkel.\n2. Radius til en sirkel gitt diameteren.\n3. Omkretsen til en sirkel.\n4. Volumet til ei kule.\n5. Overflatearealet til ei kule.\n\n#### Løsning:",
      "metadata": {}
    },
    {
      "cell_type": "code",
      "source": "#1\ndef arealSirkel(r):\n    return np.pi * r**2\n\n#2\ndef radiusFraDiameter(d):\n    return d/2\n\n#3\ndef omkretsSirkel(r):\n    return 2 * np.pi * r\n\n#4\ndef volumKule(r):\n    return 4/3 * np.pi * r**3\n\n#5\ndef overflateKule(r):\n    4 * np.pi * r**2",
      "metadata": {},
      "execution_count": 40,
      "outputs": []
    },
    {
      "cell_type": "markdown",
      "source": "### Oppgave 3.22\nForklar hvorfor programmet under gir None som output. Rett på programmet slik at x får en tallverdi fra $f$.",
      "metadata": {}
    },
    {
      "cell_type": "code",
      "source": "def f(x):\n    x = 2*x\n    \nx = 12\nx = x + 12\nx = f(x)\nprint(x)",
      "metadata": {},
      "execution_count": 44,
      "outputs": [
        {
          "name": "stdout",
          "output_type": "stream",
          "text": "None\n"
        }
      ]
    },
    {
      "cell_type": "markdown",
      "source": "#### Løsning:\n\nFunksjonen, $f$, mangler *return* \n\n",
      "metadata": {}
    },
    {
      "cell_type": "code",
      "source": "def f(x):\n    x = 2*x #Denne x-verdien er lokal. Må bruke return for å returnere den nye x-verdien.\n    \nx = 12\nx = x + 12\nx = f(x)  #Funksjonen returnerer ingen verdi\nprint(x)",
      "metadata": {},
      "execution_count": 1,
      "outputs": [
        {
          "name": "stdout",
          "output_type": "stream",
          "text": "None\n"
        }
      ]
    },
    {
      "cell_type": "code",
      "source": "def f(x):\n    return 2*x #Rettet opp her\n    \nx = 12\nx = x + 12\nx = f(x)\nprint(x)",
      "metadata": {},
      "execution_count": 45,
      "outputs": [
        {
          "name": "stdout",
          "output_type": "stream",
          "text": "48\n"
        }
      ]
    },
    {
      "cell_type": "markdown",
      "source": "### Oppgave 3.23\nAmerikanere er rare dyr. De har både Trump og Fahrenheit. Det er vanskelig å lage en funksjon som erstatter Trump med noen andre, men vi kan lage en funksjon som konverterer Fahrenheit til Celsius (ikke motsatt – det vil vi jo ikke!). Formelen er slik:\n\n$$T_C = (T_F-32)\\cdot \\frac{5}{9}$$\n\nder $T_C$ er temperaturen i Celsius og $T_F$ er temperaturen i Fahrenheit. Lag et program som konverterer Fahrenheit til Celsius gjennom en funksjon.\n\n#### Løsning:",
      "metadata": {}
    },
    {
      "cell_type": "code",
      "source": "tf = float(input('Skriv inn temperatur i Fahrenheit: '))\n\ndef fahrenheitTilCelsius(tf):\n    return (tf - 32) * 5/9\n\nprint(f'{tf}°F = {fahrenheitTilCelsius(tf):.1f}°C')",
      "metadata": {},
      "execution_count": 3,
      "outputs": [
        {
          "name": "stdin",
          "output_type": "stream",
          "text": "Skriv inn temperatur i Fahrenheit:  70\n"
        },
        {
          "name": "stdout",
          "output_type": "stream",
          "text": "70.0°F = 21.1°C\n"
        }
      ]
    },
    {
      "cell_type": "markdown",
      "source": "### Oppgave 3.24\n\nKarvonens formel kan brukes til å finne pulsen til en person gitt makspuls $H_{maks}$, hvilepuls $H_{hvile}$ og treningsintensitet p (i prosent):\n\n$$\\textrm{Hjerteslag per minutt} = (H_{maks} - H_{hvile})\\cdot \\frac{p}{100}+H_{hvile}$$\n\nder $H_{maks}$ er maks antall hjerteslag personen kan ha. Den maksimale pulsen kan en finne ved $H_{maks} = 220 − $alder til person. Lag et program som regner ut pulsen til en $20$ år gammel person som trener med $60$% intensitet og hvilepuls på $70$ slag per minutt. Lag Karvonens formel som en funksjon.",
      "metadata": {}
    },
    {
      "cell_type": "code",
      "source": "def karvonens_formel(H_hvile, alder, p):\n    H_maks = 220 - alder\n    return (H_maks - H_hvile) * p/100 + H_hvile\n\nprint(f'Hjerteslag per minutt: {karvonens_formel(70, 20, 60)}')",
      "metadata": {},
      "execution_count": 2,
      "outputs": [
        {
          "name": "stdout",
          "output_type": "stream",
          "text": "Hjerteslag per minutt: 148.0\n"
        }
      ]
    },
    {
      "cell_type": "markdown",
      "source": "### Oppgave 3.25\nLag et program som konverterer et vinkelmål i grader til radianer ved hjelp av en egendefinert funksjon.\n\n#### Løsning:",
      "metadata": {}
    },
    {
      "cell_type": "code",
      "source": "vg = float(input('Vinkelmål i grader: '))\n\ndef graderTilRadianer(vg):\n    return 2 * np.pi * vg / 360\n\nprint(f'{vg} grader = {graderTilRadianer(vg):.1} radianer')",
      "metadata": {},
      "execution_count": 49,
      "outputs": [
        {
          "name": "stdin",
          "output_type": "stream",
          "text": "Vinkelmål i grader:  30\n"
        },
        {
          "name": "stdout",
          "output_type": "stream",
          "text": "30.0 grader = 0.5 radianer\n"
        }
      ]
    },
    {
      "cell_type": "markdown",
      "source": "### Oppgave 3.26 (Fysikk) \nLag et program som ber brukeren om å skrive inn en avstand $d$ i meter en løper skal løpe, og hvilken fart $v$ i m/s løperen starter med.\nLøperen holder samme fart over hele avstanden. Finn et uttrykk for hvor lang tid løperen vil bruke, og implementer dette i en funksjon. La programmet regne ut og skrive ut tida ved å kalle funksjonen en print-funksjon.\n\n#### Løsning:\n\n$$t = \\frac{d}{v}$$",
      "metadata": {}
    },
    {
      "cell_type": "code",
      "source": "d = float(input('Avstand (meter): '))\nv = float(input('Fart (m/s): '))\n\ndef tidsbruk(d, v):\n    return d/v\n\nprint(f'Løperen vil bruke {tidsbruk(d, v):.2f} sekunder på 100m')",
      "metadata": {},
      "execution_count": 55,
      "outputs": [
        {
          "name": "stdin",
          "output_type": "stream",
          "text": "Avstand (meter):  100\nFart (m/s):  10.4384133612\n"
        },
        {
          "name": "stdout",
          "output_type": "stream",
          "text": "Løperen vil bruke 9.58 sekunder på 100m\n"
        }
      ]
    },
    {
      "cell_type": "markdown",
      "source": "### Oppgave 1.27 (Kjemi) \nI kjemi har vi ofte bruk for molregning. Lag et enkelt program som regner ut antall mol dersom brukeren taster inn molmasse og masse av et bestemt stoff. Du kan også be brukeren taste inn stoffet det gjelder, slik at du får dette som output også. Lag formelen som en funksjon.\n\n#### Løsning:\nFor en mengde stoff med masse $m$ som består av $n$ mol, er den molare massen for dette stoffet\n\n$$M=\\frac {m}{n}$$.\n\nLøser for n\n$$n =\\frac {m}{M} $$",
      "metadata": {}
    },
    {
      "cell_type": "code",
      "source": "m = float(input('Masse (gram): '))\nM = float(input('Molarmasse (g/mol): '))\nstoff = input('Stoffets navn: ')\n\ndef n(m, M):\n    return m / M\n\nprint(f'{m} gram av {stoff} med molarmassen {M} g/mol består av {n(m, M):.2f} mol')",
      "metadata": {},
      "execution_count": 59,
      "outputs": [
        {
          "name": "stdin",
          "output_type": "stream",
          "text": "Masse (gram):  518.37\nMolarmasse (g/mol):  46.7\nStoffets navn:  sprit\n"
        },
        {
          "name": "stdout",
          "output_type": "stream",
          "text": "518.37 gram av sprit med molarmassen 46.7 g/mol består av 11.10 mol\n"
        }
      ]
    },
    {
      "cell_type": "markdown",
      "source": "### Oppgave 1.28 (Kjemi)\nLag et program som regner ut pH fra $[H_3 O^+]$ ved hjelp av en funksjon.",
      "metadata": {}
    },
    {
      "cell_type": "code",
      "source": "",
      "metadata": {},
      "execution_count": null,
      "outputs": []
    },
    {
      "cell_type": "markdown",
      "source": "### Oppgave 1.29 (Fysikk)\nBruk Bohrs formel for spektrene til hydrogenatomet. Lag et program som regner ut bølgelengden til fotonet som emitteres når et elektron deeksiterer fra skall m til n. Bruk en funksjon.\n\n#### Løsning:",
      "metadata": {}
    },
    {
      "cell_type": "code",
      "source": "",
      "metadata": {},
      "execution_count": null,
      "outputs": []
    },
    {
      "cell_type": "markdown",
      "source": "### Oppgave 1.30 (Fysikk)\nProgrammer én av bevegelsesformlene som en funksjon. Du kan selv velge hva programmet regner ut.\n\n#### Løsning:",
      "metadata": {}
    },
    {
      "cell_type": "code",
      "source": "",
      "metadata": {},
      "execution_count": null,
      "outputs": []
    },
    {
      "cell_type": "markdown",
      "source": "### 3.31     \n### Oppgave 3.31 \nLag en funksjon som tar tre variabler a, b og c, tilsvarende koeffisientene i andregradsfunksjoner av typen $f(x)=ax^2+bx+c$. La funksjonen løse andregradslikninger av typen $f(x)=0$ ved hjelp av andregradsformelen.\n\n#### Løsning:\n$$x=\\frac{-b \\pm \\sqrt{b^2-4ac}}{2a}$$",
      "metadata": {}
    },
    {
      "cell_type": "code",
      "source": "def f(a, b, c):\n    return (-b - np.sqrt(b**2 - 4 * a * c))/(2 * a), (-b + np.sqrt(b**2 - 4 * a * c))/(2 * a)\n\nprint(f'f(1, 0, -4) = 0  =>  x = {f(1, 0, -4)}')",
      "metadata": {},
      "execution_count": 8,
      "outputs": [
        {
          "name": "stdout",
          "output_type": "stream",
          "text": "f(1, 0, -4) = 0  =>  x = (-2.0, 2.0)\n"
        }
      ]
    },
    {
      "cell_type": "markdown",
      "source": "### Oppgave 1.32\nHvorfor har x samme verdi før og etter funksjonen f har blitt kalt i programmet under?",
      "metadata": {}
    },
    {
      "cell_type": "code",
      "source": "def f(x): \n    x=x+3\n    return 9*x\n\nx=3\nprint(x) # Skriver ut 3\ny = f(x)\nprint(x) # Skriver ut 3",
      "metadata": {
        "trusted": true
      },
      "execution_count": null,
      "outputs": []
    },
    {
      "cell_type": "markdown",
      "source": "#### Løsning:\n\nDen lokale x-en i funksjonen f endrer ikke den globale x-en utenfor funksjonen",
      "metadata": {}
    },
    {
      "cell_type": "markdown",
      "source": "### Oppgave 3.33\nDen briggiske logaritmen til en verdi x forteller oss hva tallet 10 må opphøyes i for å få verdien x. I denne oppgava skal vi se på andre logaritmer.\n### a)\nI informatikk er det ofte nyttig å finne hvor mye tallet 2 må opphøyes i for å gi x som svar. Dette skriver en gjerne $\\log_2(x)$. For å regne ut $\\log_2(x)$, er det mulig å bruke den briggske logaritmen:\n\n$$\\log_2(x)=\\frac{\\log(x)}{\\log(2)}$$\n\nSkriv et program som ber brukeren om en verdi x, regner ut $\\log_2(x)$ og skriver ut resultatet. Du kan f.eks sjekke om programmet ditt skriver ut $8$ som svar når $x=256$.\n\n#### Løsning:",
      "metadata": {}
    },
    {
      "cell_type": "code",
      "source": "x = int(input(\"Skriv inn x for å regne ut log_2(x): \"))\n\nprint(f'log_2({x}) = {np.log(x)/np.log(2)}')",
      "metadata": {},
      "execution_count": 61,
      "outputs": [
        {
          "name": "stdin",
          "output_type": "stream",
          "text": "Skriv inn x for å regne ut log_2(x):  256\n"
        },
        {
          "name": "stdout",
          "output_type": "stream",
          "text": "log_2(256) = 8.0\n"
        }
      ]
    },
    {
      "cell_type": "markdown",
      "source": "### b)\nDet er også mulig å finne ut hva et vilkårlig tall a må opphøyes opp i for å gi x som svar. Dette skriver vi gjerne $\\log_a(x)$:\n\n$$\\log_a(x)=\\frac{\\log(x)}{\\log(a)}$$\n\nUtvid programmet ditt fra a) slik at det ber brukeren om en verdi for a og x, regner ut $\\log_a(x)$ og skriver ut resultatet. Du kan f.eks sjekke om programmet ditt skriver ut $3$ som svar når $a = 5$ og $x = 125$.",
      "metadata": {}
    },
    {
      "cell_type": "code",
      "source": "x = int(input(\"Skriv inn x for å regne ut log_a(x): \"))\na = int(input(\"Skriv inn a for å regne ut log_a(x): \"))\n\nprint(f'log_{a}({x}) = {np.log(x)/np.log(a):.2f}')",
      "metadata": {},
      "execution_count": 63,
      "outputs": [
        {
          "name": "stdin",
          "output_type": "stream",
          "text": "Skriv inn x for å regne ut log_a(x):  125\nSkriv inn a for å regne ut log_a(x):  5\n"
        },
        {
          "name": "stdout",
          "output_type": "stream",
          "text": "log_5(125) = 3.00\n"
        }
      ]
    },
    {
      "cell_type": "markdown",
      "source": "### Oppgave 3.34 (Fysikk) \nDe fleste gasser kan modelleres med tilstandslikninga for idelle gasser:\n\n$$PV = nRT$$\n\nder $P$ er trykket i pascal, $V$ er volumet i kubikkmeter, $n$ er stoffmengden $i$ mol, $R$ er gasskonstanten $8.3144598$J/(mol · K) og $T$ er temperaturen i Kelvin.\n\n1. Lagetprogramderduløserlikningaforulikevariabler,gjernegittavbrukeren. \n2. Utfordring:Søk opp og sett deg inn i Vander Waals-likninga. Dette er en mye bedre modell for gasser, spesielt ved høyt trykk og lav temperatur. Prøv å lage et program som bruker denne likninga som modell istedenfor tilstandslikninga\nfor ideelle gasser.\n3. Hva er forskjellen på de to modellene for gasser som du har lagd programmer\nfor ovenfor? Hvorfor har vi to modeller når den ene i utgangspunktet alltid gir mer nøyaktige resultater enn den andre?\n\n#### Løsning:",
      "metadata": {}
    },
    {
      "cell_type": "code",
      "source": "#1\n",
      "metadata": {},
      "execution_count": null,
      "outputs": []
    },
    {
      "cell_type": "code",
      "source": "#2\n",
      "metadata": {},
      "execution_count": null,
      "outputs": []
    },
    {
      "cell_type": "code",
      "source": "#3\n",
      "metadata": {},
      "execution_count": null,
      "outputs": []
    },
    {
      "cell_type": "markdown",
      "source": "### Oppgave 3.35\nFunksjoner kan også ta inn andre funksjoner som argument. I matematikken kalles en funksjon $f$ for sammensatt dersom $f(x) = g(u(x))$. Programmet under skal regne ut $f(x)$ gitt funksjonene $u$, $g$ og verdien $x$. Erstatt alle spørsmålstegn(?) slik at programmet under vil kjøre og regne ut $f(x) = g(u(x))$.",
      "metadata": {}
    },
    {
      "cell_type": "code",
      "source": "import ? as np\n\ndef g(x):\n   return ?.sqrt(x)\n\ndef u(x):\n   return x**2 + 7\n\ndef f(g,u,x):\n   return g(u(x))\n\nx=3\nprint(f'f(x) = g(u(x)) = {f(?,?,?)} for x = {x}')",
      "metadata": {},
      "execution_count": null,
      "outputs": []
    },
    {
      "cell_type": "markdown",
      "source": "#### Løsning:",
      "metadata": {}
    },
    {
      "cell_type": "code",
      "source": "import numpy as np\n\ndef g(x):\n   return np.sqrt(x)\n\ndef u(x):\n   return x**2 + 7\n\ndef f(g,u,x):\n   return g(u(x))\n\nx=3\n\nprint(f'f(x) = g(u(x)) = {f(g,u,x)} for x = {x}')\n",
      "metadata": {},
      "execution_count": 3,
      "outputs": [
        {
          "name": "stdout",
          "output_type": "stream",
          "text": "f(x) = g(u(x)) = 4.0 for x = 3\n"
        }
      ]
    },
    {
      "cell_type": "markdown",
      "source": "### Oppgave 3.36 (Matematikk R1)\nLag et program som finner ut hvor mange kombinasjoner det er mulig å gjøre fra et utvalg av $r$ elever fra totalt $n$ elever der rekkefølgen ikke har noen betydning. Du kan bestemme selv om verdiene for $n$ og $r$ skal være bestemte verdier i koden eller bli gitt fra brukeren som input.\n\n#### Løsning:",
      "metadata": {}
    },
    {
      "cell_type": "code",
      "source": "import numpy as np\nr = 4\nn = 14\n\ndef nCr(r, n):\n    return np.math.factorial(n) / ( np.math.factorial(r) * np.math.factorial(n-r) )\n\nprint(f'nCr({r},{n}) = {nCr(r, n)}')",
      "metadata": {},
      "execution_count": 4,
      "outputs": [
        {
          "name": "stdout",
          "output_type": "stream",
          "text": "nCr(4,14) = 1001.0\n"
        }
      ]
    },
    {
      "cell_type": "markdown",
      "source": "### Oppgave 3.37\nSkriv en funksjon som tar inn ei rente i prosent, et beløp og et antall år $t$. Beløpet skal ligge i en bankkonto som argumenter. La funksjonen beregne og returnere hva beløpet blir når det tas ut fra kontoen etter $t$ år. Test om funksjonen din gir omtrent ≈ $162.89$ kroner etter at $100$ kr med $5$ % rente har ligget i bankkontoen i $10$ år.\n\n#### Løsning:",
      "metadata": {}
    },
    {
      "cell_type": "code",
      "source": "r = 5\nb = 100\nt = 10\n\ndef nyttBeløp(r, b, t):\n    return b * (1 + r/100)**t\n\nprint(f'{b} kr vil vokse til {nyttBeløp(r, b, t):.2f} på {t} år hvis renta er {r}%')",
      "metadata": {},
      "execution_count": 73,
      "outputs": [
        {
          "name": "stdout",
          "output_type": "stream",
          "text": "100 kr vil vokse til 162.89 på 10 år hvis renta er 5%\n"
        }
      ]
    }
  ]
}